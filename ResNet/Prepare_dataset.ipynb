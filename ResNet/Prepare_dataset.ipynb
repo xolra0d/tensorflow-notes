{
 "cells": [
  {
   "cell_type": "code",
   "execution_count": 1,
   "id": "c9a59732-91c3-45bd-9872-253e8d92954f",
   "metadata": {},
   "outputs": [
    {
     "name": "stdout",
     "output_type": "stream",
     "text": [
      "mkdir: cannot create directory ‘archive/’: File exists\n"
     ]
    }
   ],
   "source": [
    "!mkdir archive/"
   ]
  },
  {
   "cell_type": "code",
   "execution_count": null,
   "id": "6cfb6739-4ae0-411d-8403-18d1db98ae00",
   "metadata": {},
   "outputs": [],
   "source": [
    "!wget https://www.kaggle.com/api/v1/datasets/download/ambityga/imagenet100?datasetVersionNumber=8"
   ]
  },
  {
   "cell_type": "code",
   "execution_count": 2,
   "id": "141ef782-2a9b-43a7-9a20-2cac5393a54e",
   "metadata": {},
   "outputs": [
    {
     "name": "stdout",
     "output_type": "stream",
     "text": [
      "CPU times: user 872 ms, sys: 77.4 ms, total: 949 ms\n",
      "Wall time: 1min 31s\n"
     ]
    }
   ],
   "source": [
    "!unzip -qq archive.zip -d archive/"
   ]
  },
  {
   "cell_type": "code",
   "execution_count": 3,
   "id": "f93b47e5-f94f-4fe2-a926-6a5e6978993c",
   "metadata": {},
   "outputs": [],
   "source": [
    "!mkdir archive/train.X/"
   ]
  },
  {
   "cell_type": "code",
   "execution_count": 6,
   "id": "8342f057-92f1-4247-a634-e71066e322cc",
   "metadata": {},
   "outputs": [
    {
     "name": "stdout",
     "output_type": "stream",
     "text": [
      "fish: No matches for wildcard 'archive/train.X2/*'. See `help wildcards-globbing`.\n",
      "mv archive/train.X2/* archive/train.X\n",
      "   ^~~~~~~~~~~~~~~~~^\n",
      "fish: No matches for wildcard 'archive/train.X3/*'. See `help wildcards-globbing`.\n",
      "mv archive/train.X3/* archive/train.X\n",
      "   ^~~~~~~~~~~~~~~~~^\n",
      "fish: No matches for wildcard 'archive/train.X4/*'. See `help wildcards-globbing`.\n",
      "mv archive/train.X4/* archive/train.X\n",
      "   ^~~~~~~~~~~~~~~~~^\n"
     ]
    }
   ],
   "source": [
    "!mv archive/train.X1/* archive/train.X\n",
    "!mv archive/train.X2/* archive/train.X\n",
    "!mv archive/train.X3/* archive/train.X\n",
    "!mv archive/train.X4/* archive/train.X"
   ]
  },
  {
   "cell_type": "code",
   "execution_count": 8,
   "id": "e35d9420-d798-49e1-be0e-b47b2220dbfb",
   "metadata": {},
   "outputs": [],
   "source": [
    "!rm -rf archive/train.X1/\n",
    "!rm -rf archive/train.X2/\n",
    "!rm -rf archive/train.X3/\n",
    "!rm -rf archive/train.X4/"
   ]
  },
  {
   "cell_type": "code",
   "execution_count": null,
   "id": "d890045c-072e-4038-a118-83b4ff9a5f8c",
   "metadata": {},
   "outputs": [],
   "source": [
    "!rm archive.zip"
   ]
  },
  {
   "cell_type": "code",
   "execution_count": null,
   "id": "754e5dc7-f19d-4295-9227-b8aad795f638",
   "metadata": {},
   "outputs": [],
   "source": [
    "import json\n",
    "import os\n",
    "\n",
    "with open(\"archive/Labels.json\") as f:\n",
    "    dir_names = json.loads(f.read())\n",
    "\n",
    "def rename_dir(old_name, new_name):\n",
    "    os.rename(old_name, new_name)\n",
    "\n",
    "for old_name in dir_names:\n",
    "    rename_dir(f\"archive/train.X/{old_name}\", f\"archive/train.X/{dir_names[old_name]}\")\n",
    "    rename_dir(f\"archive/val.X/{old_name}\", f\"archive/val.X/{dir_names[old_name]}\")"
   ]
  },
  {
   "cell_type": "code",
   "execution_count": null,
   "id": "e0e16b28-96ab-4abc-94e2-26d099df3a4d",
   "metadata": {},
   "outputs": [],
   "source": [
    "!rm archive/Labels.json"
   ]
  },
  {
   "cell_type": "code",
   "execution_count": null,
   "id": "01c87c8a-36cf-4687-b412-e1b2ea8fd276",
   "metadata": {},
   "outputs": [],
   "source": []
  }
 ],
 "metadata": {
  "kernelspec": {
   "display_name": "Python 3 (ipykernel)",
   "language": "python",
   "name": "python3"
  },
  "language_info": {
   "codemirror_mode": {
    "name": "ipython",
    "version": 3
   },
   "file_extension": ".py",
   "mimetype": "text/x-python",
   "name": "python",
   "nbconvert_exporter": "python",
   "pygments_lexer": "ipython3",
   "version": "3.11.5"
  }
 },
 "nbformat": 4,
 "nbformat_minor": 5
}
