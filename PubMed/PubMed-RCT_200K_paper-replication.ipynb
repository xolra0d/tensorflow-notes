{
 "cells": [
  {
   "cell_type": "markdown",
   "id": "c0b6da04-3780-4e07-8110-41711d493d4b",
   "metadata": {},
   "source": [
    "# PubMed-RCT 200K <i>paper-replication</i>"
   ]
  },
  {
   "cell_type": "code",
   "execution_count": 1,
   "id": "96c5904a-cdc7-46da-9de1-be11f3bff837",
   "metadata": {},
   "outputs": [
    {
     "name": "stderr",
     "output_type": "stream",
     "text": [
      "2024-06-26 21:04:45.989316: E external/local_xla/xla/stream_executor/cuda/cuda_dnn.cc:9261] Unable to register cuDNN factory: Attempting to register factory for plugin cuDNN when one has already been registered\n",
      "2024-06-26 21:04:45.989373: E external/local_xla/xla/stream_executor/cuda/cuda_fft.cc:607] Unable to register cuFFT factory: Attempting to register factory for plugin cuFFT when one has already been registered\n",
      "2024-06-26 21:04:46.027219: E external/local_xla/xla/stream_executor/cuda/cuda_blas.cc:1515] Unable to register cuBLAS factory: Attempting to register factory for plugin cuBLAS when one has already been registered\n",
      "2024-06-26 21:04:46.110416: I tensorflow/core/platform/cpu_feature_guard.cc:182] This TensorFlow binary is optimized to use available CPU instructions in performance-critical operations.\n",
      "To enable the following instructions: AVX2 FMA, in other operations, rebuild TensorFlow with the appropriate compiler flags.\n",
      "2024-06-26 21:04:47.098792: W tensorflow/compiler/tf2tensorrt/utils/py_utils.cc:38] TF-TRT Warning: Could not find TensorRT\n"
     ]
    },
    {
     "data": {
      "text/plain": [
       "'2.15.1'"
      ]
     },
     "execution_count": 1,
     "metadata": {},
     "output_type": "execute_result"
    }
   ],
   "source": [
    "import tensorflow as tf\n",
    "tf.__version__"
   ]
  },
  {
   "cell_type": "code",
   "execution_count": 2,
   "id": "2d3c0059-5732-4aba-a8e9-0bf4ea7d1cd7",
   "metadata": {},
   "outputs": [],
   "source": [
    "from helper_functions import calculate_results"
   ]
  },
  {
   "cell_type": "markdown",
   "id": "ce3be221-dd46-40d3-beac-09d43e03c02e",
   "metadata": {},
   "source": [
    "## Become one with thee data"
   ]
  },
  {
   "cell_type": "code",
   "execution_count": 3,
   "id": "362749f7-4c7e-44ba-bfea-16a90a4751a3",
   "metadata": {},
   "outputs": [
    {
     "name": "stdout",
     "output_type": "stream",
     "text": [
      "\u001b[0m\u001b[01;34mPubMed_200k_RCT\u001b[0m/\n",
      "\u001b[01;34mPubMed_200k_RCT_numbers_replaced_with_at_sign\u001b[0m/\n",
      "\u001b[01;34mPubMed_20k_RCT\u001b[0m/\n",
      "\u001b[01;34mPubMed_20k_RCT_numbers_replaced_with_at_sign\u001b[0m/\n",
      "README.md\n"
     ]
    }
   ],
   "source": [
    "!ls pubmed-rct/"
   ]
  },
  {
   "cell_type": "code",
   "execution_count": 4,
   "id": "6f796f3e-eb59-4276-8d64-0854fb4bf5a2",
   "metadata": {},
   "outputs": [
    {
     "name": "stdout",
     "output_type": "stream",
     "text": [
      "dev.txt  test.txt  train.txt\n"
     ]
    }
   ],
   "source": [
    "!ls pubmed-rct/PubMed_20k_RCT_numbers_replaced_with_at_sign/"
   ]
  },
  {
   "cell_type": "code",
   "execution_count": 5,
   "id": "8f5fbf0e-4ba1-4a27-b31c-3e7ed3c078fa",
   "metadata": {},
   "outputs": [],
   "source": [
    "# dev = validation\n",
    "train_10_lem_path = \"pubmed-rct/PubMed_20k_RCT_numbers_replaced_with_at_sign/train.txt\"\n",
    "test_10_lem_path = \"pubmed-rct/PubMed_20k_RCT_numbers_replaced_with_at_sign/test.txt\"\n",
    "dev_10_lem_path = \"pubmed-rct/PubMed_20k_RCT_numbers_replaced_with_at_sign/dev.txt\""
   ]
  },
  {
   "cell_type": "code",
   "execution_count": 6,
   "id": "d7aa7a22-899b-4bf7-9e10-01aaa93ae136",
   "metadata": {},
   "outputs": [
    {
     "name": "stdout",
     "output_type": "stream",
     "text": [
      "###24293578\n",
      "OBJECTIVE\tTo investigate the efficacy of @ weeks of daily low-dose oral prednisolone in \n"
     ]
    }
   ],
   "source": [
    "train_10_lem = open(train_10_lem_path).read()\n",
    "print(train_10_lem[:100])"
   ]
  },
  {
   "cell_type": "markdown",
   "id": "d0169e2f-a14e-48dc-997e-e225d01e0d61",
   "metadata": {},
   "source": [
    "for abstract in train_10_lem[3:].split(\"\\n\\n###\"):\n",
    "    background, objective, methods, results, conclusions = [None], [None], [None], [None], [None]\n",
    "    abstract = abstract.split('\\n')\n",
    "    abstract_id = int(abstract[0])\n",
    "    for sentence in abstract:\n",
    "        if sentence.startswith(\"BACKGROUND\\t\"):\n",
    "            background.append(sentence[12:])\n",
    "        elif sentence.startswith(\"OBJECTIVE\\t\"):\n",
    "            objective.append(sentence[10:])\n",
    "        elif sentence.startswith(\"METHODS\\t\"):\n",
    "            methods.append(sentence[8:])\n",
    "        elif sentence.startswith(\"RESULTS\\t\"):\n",
    "            results.append(sentence[8:])\n",
    "        elif sentence.startswith(\"CONCLUSIONS\\t\"):\n",
    "            conclusions.append(sentence[13:])\n",
    "    print(pd.DataFrame({\"id\": abstract_id, \"background\": background, \"objective\": objective, \"methods\": methods, \"results\": results, \"conclusions\":conclusions}))\n",
    "    # pd.concat([train_10_lem_df, pd.DataFrame({\"id\": abstract_id, \"background\": background, \"objective\": objective, \"methods\": methods, \"results\": results, \"conclusions\":conclusions})])"
   ]
  },
  {
   "cell_type": "code",
   "execution_count": 7,
   "id": "e5929bf6-9e18-4b05-957d-75c7ceced398",
   "metadata": {},
   "outputs": [],
   "source": [
    "with open(train_10_lem_path) as f:\n",
    "    train_lines = f.readlines()"
   ]
  },
  {
   "cell_type": "code",
   "execution_count": 8,
   "id": "75891777-216b-4792-95e6-bb178e1c6e54",
   "metadata": {},
   "outputs": [
    {
     "data": {
      "text/plain": [
       "['###24293578\\n',\n",
       " 'OBJECTIVE\\tTo investigate the efficacy of @ weeks of daily low-dose oral prednisolone in improving pain , mobility , and systemic low-grade inflammation in the short term and whether the effect would be sustained at @ weeks in older adults with moderate to severe knee osteoarthritis ( OA ) .\\n',\n",
       " 'METHODS\\tA total of @ patients with primary knee OA were randomized @:@ ; @ received @ mg/day of prednisolone and @ received placebo for @ weeks .\\n',\n",
       " 'METHODS\\tOutcome measures included pain reduction and improvement in function scores and systemic inflammation markers .\\n',\n",
       " 'METHODS\\tPain was assessed using the visual analog pain scale ( @-@ mm ) .\\n',\n",
       " 'METHODS\\tSecondary outcome measures included the Western Ontario and McMaster Universities Osteoarthritis Index scores , patient global assessment ( PGA ) of the severity of knee OA , and @-min walk distance ( @MWD ) .\\n',\n",
       " 'METHODS\\tSerum levels of interleukin @ ( IL-@ ) , IL-@ , tumor necrosis factor ( TNF ) - , and high-sensitivity C-reactive protein ( hsCRP ) were measured .\\n',\n",
       " 'RESULTS\\tThere was a clinically relevant reduction in the intervention group compared to the placebo group for knee pain , physical function , PGA , and @MWD at @ weeks .\\n',\n",
       " 'RESULTS\\tThe mean difference between treatment arms ( @ % CI ) was @ ( @-@ @ ) , p < @ ; @ ( @-@ @ ) , p < @ ; @ ( @-@ @ ) , p < @ ; and @ ( @-@ @ ) , p < @ , respectively .\\n',\n",
       " 'RESULTS\\tFurther , there was a clinically relevant reduction in the serum levels of IL-@ , IL-@ , TNF - , and hsCRP at @ weeks in the intervention group when compared to the placebo group .\\n',\n",
       " 'RESULTS\\tThese differences remained significant at @ weeks .\\n',\n",
       " 'RESULTS\\tThe Outcome Measures in Rheumatology Clinical Trials-Osteoarthritis Research Society International responder rate was @ % in the intervention group and @ % in the placebo group ( p < @ ) .\\n',\n",
       " 'CONCLUSIONS\\tLow-dose oral prednisolone had both a short-term and a longer sustained effect resulting in less knee pain , better physical function , and attenuation of systemic inflammation in older patients with knee OA ( ClinicalTrials.gov identifier NCT@ ) .\\n',\n",
       " '\\n',\n",
       " '###24854809\\n',\n",
       " 'BACKGROUND\\tEmotional eating is associated with overeating and the development of obesity .\\n',\n",
       " 'BACKGROUND\\tYet , empirical evidence for individual ( trait ) differences in emotional eating and cognitive mechanisms that contribute to eating during sad mood remain equivocal .\\n',\n",
       " 'OBJECTIVE\\tThe aim of this study was to test if attention bias for food moderates the effect of self-reported emotional eating during sad mood ( vs neutral mood ) on actual food intake .\\n',\n",
       " 'OBJECTIVE\\tIt was expected that emotional eating is predictive of elevated attention for food and higher food intake after an experimentally induced sad mood and that attentional maintenance on food predicts food intake during a sad versus a neutral mood .\\n',\n",
       " 'METHODS\\tParticipants ( N = @ ) were randomly assigned to one of the two experimental mood induction conditions ( sad/neutral ) .\\n',\n",
       " 'METHODS\\tAttentional biases for high caloric foods were measured by eye tracking during a visual probe task with pictorial food and neutral stimuli .\\n',\n",
       " 'METHODS\\tSelf-reported emotional eating was assessed with the Dutch Eating Behavior Questionnaire ( DEBQ ) and ad libitum food intake was tested by a disguised food offer .\\n',\n",
       " 'RESULTS\\tHierarchical multivariate regression modeling showed that self-reported emotional eating did not account for changes in attention allocation for food or food intake in either condition .\\n',\n",
       " 'RESULTS\\tYet , attention maintenance on food cues was significantly related to increased intake specifically in the neutral condition , but not in the sad mood condition .\\n',\n",
       " 'CONCLUSIONS\\tThe current findings show that self-reported emotional eating ( based on the DEBQ ) might not validly predict who overeats when sad , at least not in a laboratory setting with healthy women .\\n',\n",
       " 'CONCLUSIONS\\tResults further suggest that attention maintenance on food relates to eating motivation when in a neutral affective state , and might therefore be a cognitive mechanism contributing to increased food intake in general , but maybe not during sad mood .\\n',\n",
       " '\\n',\n",
       " '###25165090\\n',\n",
       " 'BACKGROUND\\tAlthough working smoke alarms halve deaths in residential fires , many households do not keep alarms operational .\\n',\n",
       " 'BACKGROUND\\tWe tested whether theory-based education increases alarm operability .\\n',\n",
       " 'METHODS\\tRandomised multiarm trial , with a single arm randomly selected for use each day , in low-income neighbourhoods in Maryland , USA .\\n',\n",
       " \"METHODS\\tIntervention arms : ( @ ) Full Education combining a health belief module with a social-cognitive theory module that provided hands-on practice installing alarm batteries and using the alarm 's hush button ; ( @ ) Hands-on Practice social-cognitive module supplemented by typical fire department education ; ( @ ) Current Norm receiving typical fire department education only .\\n\",\n",
       " 'METHODS\\tFour hundred and thirty-six homes recruited through churches or by knocking on doors in @-@ .\\n',\n",
       " 'METHODS\\tFollow-up visits checked alarm operability in @ homes ( @ % ) @-@ @ years after installation .\\n',\n",
       " 'METHODS\\tnumber of homes with working alarms defined as alarms with working batteries or hard-wired and number of working alarms per home .\\n',\n",
       " 'METHODS\\tRegressions controlled for alarm status preintervention ; demographics and beliefs about fire risks and alarm effectiveness .\\n',\n",
       " 'RESULTS\\tHomes in the Full Education and Practice arms were more likely to have a functioning smoke alarm at follow-up ( OR = @ , @ % CI @ to @ ) and had an average of @ more working alarms per home ( @ % CI @ to @ ) .\\n',\n",
       " 'RESULTS\\tWorking alarms per home rose @ % .\\n',\n",
       " 'RESULTS\\tFull Education and Practice had similar effectiveness ( p = @ on both outcome measures ) .\\n',\n",
       " 'CONCLUSIONS\\tWithout exceeding typical fire department installation time , installers can achieve greater smoke alarm operability .\\n',\n",
       " 'CONCLUSIONS\\tHands-on practice is key .\\n',\n",
       " 'CONCLUSIONS\\tTwo years after installation , for every three homes that received hands-on practice , one had an additional working alarm .\\n',\n",
       " 'BACKGROUND\\thttp://www.clinicaltrials.gov number NCT@ .\\n',\n",
       " '\\n',\n",
       " '###24633056\\n',\n",
       " 'OBJECTIVE\\tTo evaluate the performance ( efficacy , safety and acceptability ) of a new micro-adherent absorbent dressing ( UrgoClean ) compared with a hydrofiber dressing ( Aquacel ) in the local management of venous leg ulcers , in the debridement stage .\\n',\n",
       " 'METHODS\\tA non-inferiority European randomised controlled clinical trial ( RCT ) was conducted in @ centres , on patients presenting with venous or predominantly venous , mixed aetiology leg ulcers at their sloughy stage ( with more than @ % of the wound bed covered with slough at baseline ) .\\n',\n",
       " 'METHODS\\tPatients were followed over a @-week period and assessed weekly .\\n',\n",
       " 'METHODS\\tThe primary judgement criteria was the relative regression of the wound surface area after the @-week treatment period .\\n',\n",
       " 'METHODS\\tSecondary endpoints were the relative reduction of sloughy tissue and the percentage of patients presenting with a debrided wound .\\n',\n",
       " 'RESULTS\\tAltogether , @ patients were randomised to either UrgoClean ( test group ; n = @ ) or Aquacel ( control group ; n = @ ) dressings .\\n',\n",
       " 'RESULTS\\tRegarding the wound healing process predictive factors ( wound area , duration , ABPI value , recurrence ) , at baseline , the two groups were well balanced , for both wound and patient characteristics .\\n',\n",
       " 'RESULTS\\tCompression therapy was administered to both groups and after a median @-day treatment period , the percentage of relative reduction of the wound surface area was very similar ( -@ % vs -@ % in the UrgoClean and control groups , respectively ) .\\n',\n",
       " 'RESULTS\\tWhen considering the secondary criteria at week @ , the relative reduction of sloughy tissue was significantly higher in the UrgoClean group than in the control group ( -@ % vs -@,@ % ; p = @ ) .\\n',\n",
       " 'RESULTS\\tThe percentage of debrided wounds was also significantly higher in the test group ( @ % vs @ % ; p = @ ) .\\n',\n",
       " \"CONCLUSIONS\\tThis ` EARTH ' RCT confirmed that the UrgoClean dressing has similar efficacy and safety compared to Aquacel .\\n\",\n",
       " 'CONCLUSIONS\\tHowever , UrgoClean also showed better autolytic properties than the control group in the management of venous leg ulcers at the sloughy stage .\\n',\n",
       " 'CONCLUSIONS\\tThe new UrgoClean dressing therefore represents a promising therapeutic option within the current range of autolytic dressings available .\\n',\n",
       " 'BACKGROUND\\tThis study was sponsored by a grant from the pharmaceutical company Laboratoires Urgo .\\n',\n",
       " 'BACKGROUND\\tS. Bohbot and O. Tacca are employees of Laboratoires Urgo .\\n',\n",
       " 'BACKGROUND\\tS. Meaume , J. Dissemond and G. Perceau have received monetary compensation as presenters for Laboratoires Urgo .\\n',\n",
       " 'BACKGROUND\\tData management and statistical analyses were conducted independently by Vertical ( Paris , France ) .\\n',\n",
       " '\\n',\n",
       " '###24814304\\n',\n",
       " 'OBJECTIVE\\tEye movements ( EM ) during recall of an aversive memory is a treatment element unique to Eye Movement Desensitization and Reprocessing ( EMDR ) .\\n',\n",
       " 'OBJECTIVE\\tExperimental studies have shown that EM reduce memory vividness and/or emotionality shortly after the intervention .\\n',\n",
       " 'OBJECTIVE\\tHowever , it is unclear whether the immediate effects of the intervention reflect actual changes in memory .\\n',\n",
       " 'OBJECTIVE\\tThe aim of this study was to test whether immediate reductions in memory vividness and emotionality persist at a @h follow up and whether the magnitude of these effects is related to the duration of the intervention .\\n',\n",
       " \"METHODS\\tSeventy-three undergraduates recalled two negative autobiographical memories , one with EM ( `` recall with EM '' ) and one without ( `` recall only '' ) .\\n\",\n",
       " 'METHODS\\tHalf of participants recalled each memory for four periods of @s , the other half for eight periods of @s .\\n',\n",
       " 'METHODS\\tMemory vividness/emotionality were self-rated at a pre-test , an immediate post-test , and a @h follow-up test .\\n',\n",
       " 'RESULTS\\tIn both duration groups , recall with EM , but not recall only , caused an immediate decrease in memory vividness .\\n',\n",
       " 'RESULTS\\tThere were no immediate reductions in memory emotionality .\\n',\n",
       " \"RESULTS\\tFurthermore , only the ` eight periods ' group showed that recall with EM , but not recall only , caused a decrease in both memory emotionality and memory vividness from the pre-test to the follow-up .\\n\",\n",
       " 'CONCLUSIONS\\tOnly self-report measures were used .\\n',\n",
       " 'CONCLUSIONS\\tThe findings suggest that recall with EM causes @-hchanges in memory vividness/emotionality , which may explain part of the EMDR treatment effect , and these effects are related to intervention duration .\\n',\n",
       " '\\n',\n",
       " '###25825539\\n',\n",
       " 'OBJECTIVE\\tFew studies have tested the impact of motivational interviewing ( MI ) delivered by primary care providers on pediatric obesity .\\n',\n",
       " 'OBJECTIVE\\tThis study tested the efficacy of MI delivered by providers and registered dietitians ( RDs ) to parents of overweight children aged @ through @ .\\n',\n",
       " 'METHODS\\tForty-two practices from the Pediatric Research in Office Settings Network of the American Academy of Pediatrics were randomly assigned to @ of @ groups .\\n',\n",
       " 'METHODS\\tGroup @ ( usual care ) measured BMI percentile at baseline and @ - and @-year follow-up .\\n',\n",
       " 'METHODS\\tGroup @ ( provider only ) delivered @ MI counseling sessions to parents of the index child over @ years .\\n',\n",
       " 'METHODS\\tGroup @ ( provider + RD ) delivered @ provider MI sessions plus @ MI sessions from a RD. .\\n',\n",
       " 'METHODS\\tThe primary outcome was child BMI percentile at @-year follow up .\\n',\n",
       " 'RESULTS\\tAt @-year follow-up , the adjusted BMI percentile was @ , @ , and @ for groups @ , @ , and @ , respectively .\\n',\n",
       " 'RESULTS\\tThe group @ mean was significantly ( P = @ ) lower than group @ .\\n',\n",
       " 'RESULTS\\tMean changes from baseline in BMI percentile were @ , @ , and @ across groups @ , @ , and @ .\\n',\n",
       " 'CONCLUSIONS\\tMI delivered by providers and RDs ( group @ ) resulted in statistically significant reductions in BMI percentile .\\n',\n",
       " 'CONCLUSIONS\\tResearch is needed to determine the clinical significance and persistence of the BMI effects observed .\\n',\n",
       " 'CONCLUSIONS\\tHow the intervention can be brought to scale ( in particular , how to train physicians to use MI effectively and how best to train RDs and integrate them into primary care settings ) also merits future research .\\n',\n",
       " '\\n',\n",
       " '###24507941\\n',\n",
       " 'BACKGROUND\\tAntithrombin ( AT ) concentrations are reduced after cardiac surgery with cardiopulmonary bypass compared with the preoperative levels .\\n',\n",
       " 'BACKGROUND\\tLow postoperative AT is associated with worse short - and mid-term clinical outcomes .\\n',\n",
       " 'BACKGROUND\\tThe aim of the study is to evaluate the effects of AT administration on activation of the coagulation and fibrinolytic systems , platelet function , and the inflammatory response in patients with low postoperative AT levels .\\n',\n",
       " 'METHODS\\tSixty patients with postoperative AT levels of less than @ % were randomly assigned to receive purified AT ( @ IU in three administrations ) or placebo in the postoperative intensive care unit .\\n',\n",
       " 'METHODS\\tThirty patients with postoperative AT levels greater than @ % were observed as controls .\\n',\n",
       " 'METHODS\\tInterleukin @ ( a marker of inflammation ) , prothrombin fragment @-@ ( a marker of thrombin generation ) , plasmin-antiplasmin complex ( a marker of fibrinolysis ) , and platelet factor @ ( a marker of platelet activation ) were measured at six different times .\\n',\n",
       " 'RESULTS\\tCompared with the no AT group and control patients , patients receiving AT showed significantly higher AT values until @ hours after the last administration .\\n',\n",
       " 'RESULTS\\tAnalysis of variance for repeated measures showed a significant effect of study treatment in reducing prothrombin fragment @-@ ( p = @ ; interaction with time sample , p = @ ) and plasmin-antiplasmin complex ( p < @ ; interaction with time sample , p < @ ) values but not interleukin @ ( p = @ ; interaction with time sample , p = @ ) and platelet factor @ ( p = @ ; interaction with time sample , p = @ ) .\\n',\n",
       " 'RESULTS\\tNo difference in chest tube drainage , reopening for bleeding , and blood transfusion was observed .\\n',\n",
       " 'CONCLUSIONS\\tAntithrombin administration in patients with low AT activity after surgery with cardiopulmonary bypass reduces postoperative thrombin generation and fibrinolysis with no effects on platelet activation and inflammatory response .\\n',\n",
       " '\\n',\n",
       " '###24976083\\n',\n",
       " 'OBJECTIVE\\tWe evaluated patients at tertiary -LSB- both percutaneous coronary intervention ( PCI ) and coronary artery bypass grafting ( CABG ) capable -RSB- and primary hospitals in the EARLY-ACS trial .\\n',\n",
       " 'BACKGROUND\\tEarly invasive management is recommended for high-risk non-ST-segment elevation acute coronary syndromes .\\n',\n",
       " \"METHODS\\tWe evaluated outcomes in @,@ patients presenting to : tertiary sites , primary sites with transfer to tertiary sites ( `` transferred '' ) and those who remained at primary sites ( `` non-transfer '' ) .\\n\",\n",
       " 'RESULTS\\tThere were @ tertiary ( n = @,@ patients ) and @ primary hospitals -LSB- n = @,@ patients ( @ transferred ; @,@ non-transfer ) -RSB- .\\n',\n",
       " 'RESULTS\\tSignificant delays occurred in time from symptom onset to angiography ( @ hr ) , PCI ( @h ) , and CABG ( @ hr ) for transferred patients ( P < @ ) .\\n',\n",
       " 'RESULTS\\tNon-transfer patients had less @-day death/myocardial infarction -LSB- @ % vs. @ % ( tertiary ) ; adjusted odds ratio ( OR ) : @ ( @-@ @ ) , P = @ -RSB- ; transferred ( @ % ) and tertiary patients were similar -LSB- adjusted OR : @ ( @-@ @ ) , P = @ -RSB- .\\n',\n",
       " 'RESULTS\\tNon-transfer patients had lower @-year mortality -LSB- @ % vs. @ % ( tertiary ) ; adjusted hazard ratio ( HR ) : @ ( @-@ @ ) , P = @ -RSB- : there was no difference between transferred and tertiary patients -LSB- @ % vs. @ % ; adjusted HR : @ ( @-@ @ ) , P = @ -RSB- .\\n',\n",
       " 'RESULTS\\tDespite similar rates of catheterization , GUSTO severe/moderate bleeding within @ hr was less in non-transfer -LSB- @ % vs. @ % ( tertiary ) ; adjusted OR : @ ( @-@ @ ) , P < @ -RSB- , whereas transferred ( @ % ) and tertiary patients were similar -LSB- adjusted OR : @ ( @-@ @ ) , P = @ -RSB- .\\n',\n",
       " 'RESULTS\\tThere was no difference in non-CABG bleeding .\\n',\n",
       " 'CONCLUSIONS\\tTimely angiography and revascularization were often not achieved in transferred patients .\\n',\n",
       " 'CONCLUSIONS\\tNon-transferred patients presenting to primary sites had the lowest event rates and the best long-term survival .\\n',\n",
       " '\\n',\n",
       " '###25001475\\n',\n",
       " 'OBJECTIVE\\tWe hypothesized that a targeted temperature of @ C as compared to that of @ C would increase survival and reduce the severity of circulatory shock in patients with shock on admission after out-of-hospital cardiac arrest ( OHCA ) .\\n',\n",
       " 'METHODS\\tThe recently published Target Temperature Management trial ( TTM-trial ) randomized @ OHCA patients with no difference in outcome between groups and no difference in mortality at the end of the trial in a predefined subgroup of patients with shock at admission .\\n',\n",
       " 'METHODS\\tShock was defined as a systolic blood pressure of < @ mm Hg for > @ min or the need of supportive measures to maintain a blood pressure @ mmHg and/or clinical signs of end-organ hypoperfusion .\\n',\n",
       " 'METHODS\\tIn this post hoc analysis reported here , we further analyzed the @ patients with shock at admission ; all had been randomized to receive intervention at @ C ( TTM@ ; n = @ ) or @ C ( TTM@ ; n = @ ) .\\n',\n",
       " 'METHODS\\tPrimary outcome was @-day mortality .\\n',\n",
       " 'METHODS\\tSecondary outcomes were intensive care unit ( ICU ) and @-day mortality , severity of circulatory shock assessed by mean arterial pressure , serum lactate , fluid balance and the extended Sequential Organ Failure assessment ( SOFA ) score .\\n',\n",
       " 'RESULTS\\tThere was no significance difference between targeted temperature management at @ C or @ C on @-day mortality -LSB- log-rank test , p = @ , hazard ratio @ , @ % confidence interval ( CI ) @-@ @ -RSB- or ICU mortality ( @ vs. @ % , p = @ ; relative risk @ , @ % CI @-@ @ ) .\\n',\n",
       " 'RESULTS\\tSerum lactate and the extended cardiovascular SOFA score were higher in the TTM@ group ( p < @ ) .\\n',\n",
       " 'CONCLUSIONS\\tWe found no benefit in survival or severity of circulatory shock with targeted temperature management at @ C as compared to @ C in patients with shock on admission after OHCA .\\n',\n",
       " '\\n',\n",
       " '###25406902\\n',\n",
       " 'BACKGROUND\\tYouths with a family history of alcohol and other drug use disorders ( FH + ) are at a greater risk of developing substance use disorders than their peers with no such family histories ( FH - ) , and this increased risk may be related to impaired maturation of forebrain circuitry .\\n',\n",
       " 'BACKGROUND\\tFH + individuals have shown altered forebrain activity at rest and while performing cognitive tasks .\\n',\n",
       " 'BACKGROUND\\tHowever , it is not fully understood how forebrain activity is altered in FH + individuals , and ultimately how these alterations may contribute to substance use disorder risk .\\n',\n",
       " 'METHODS\\tIn this study , we tested @ FH + and @ FH - youths performing a go/no-go task and examined activations in blocks with only go trials ( Go Only ) , blocks with @ % go and @ % no-go trials ( Go/NoGo ) , and a contrast of those @ blocks .\\n',\n",
       " 'RESULTS\\tFH + youths had significantly greater cerebral activations in both the Go and Go/NoGo blocks than FH - youths in regions including the posterior cingulate/precuneus , bilateral middle/superior temporal gyrus , and medial superior frontal gyrus with no significant group differences in the subtraction between Go Only and Go/NoGo blocks .\\n',\n",
       " 'RESULTS\\tAdditionally , FH + youths had moderately slower reaction times on go trials in the Go Only blocks .\\n',\n",
       " 'CONCLUSIONS\\tOur findings suggest that global activation increase in FH + youths are modulated by FH density and are not specific to the inhibitory components of the task .\\n',\n",
       " 'CONCLUSIONS\\tThis pattern of increased activations in FH + youths may be at least partially due to impaired forebrain white matter development leading to greater activations/less efficient neural communication during task performance .\\n',\n",
       " '\\n',\n",
       " '###25471989\\n',\n",
       " 'BACKGROUND\\tRisk factors have been proposed for running injuries including ( a ) reduced muscular strength , ( b ) excessive joint movements and ( c ) excessive joint moments in the frontal and transverse planes .\\n',\n",
       " \"BACKGROUND\\tTo date , many running injury prevention programs have focused on a `` top down '' approach to strengthen the hip musculature in the attempt to reduce movements and moments at the hip , knee , and/or ankle joints .\\n\",\n",
       " 'BACKGROUND\\tHowever , running mechanics did not change when hip muscle strength increased .\\n',\n",
       " \"BACKGROUND\\tIt could be speculated that emphasis should be placed on increasing the strength of the ankle joint for a `` ground up '' approach .\\n\",\n",
       " 'BACKGROUND\\tStrengthening of the large and small muscles crossing the ankle joint is assumed to change the force distribution for these muscles and to increase the use of smaller muscles .\\n',\n",
       " 'BACKGROUND\\tThis would be associated with a reduction of joint and insertion forces , which could have a beneficial effect on injury prevention .\\n',\n",
       " 'BACKGROUND\\tHowever , training of the ankle joint as an injury prevention strategy has not been studied .\\n',\n",
       " 'BACKGROUND\\tAnkle strengthening techniques include isolated strengthening or movement-related strengthening such as functional balance training .\\n',\n",
       " 'BACKGROUND\\tThere is little knowledge about the efficacy of such training programs on strength alteration , gait or injury reduction .\\n',\n",
       " 'METHODS\\tNovice runners will be randomly assigned to one of three groups : an isolated ankle strengthening group ( strength , n = @ ) , a functional balance training group ( balance , n = @ ) or an activity-matched control group ( control , n = @ ) .\\n',\n",
       " 'METHODS\\tIsokinetic strength will be measured using a Biodex System @ dynamometer .\\n',\n",
       " 'METHODS\\tRunning kinematics and kinetics will be assessed using @D motion analysis and a force platform .\\n',\n",
       " 'METHODS\\tPostural control will be assessed by quantifying the magnitude and temporal structure of the center of pressure trace during single leg stance on a force platform .\\n',\n",
       " 'METHODS\\tThe change pre - and post-training in isokinetic strength , running mechanics , and postural control variables will be compared following the interventions .\\n',\n",
       " 'METHODS\\tInjuries rates will be compared between groups over @months .\\n',\n",
       " 'CONCLUSIONS\\tAvoiding injury will allow individuals to enjoy the benefits of participating in aerobic activities and reduce the healthcare costs associated with running injuries .\\n',\n",
       " 'BACKGROUND\\tCurrent Controlled Trial NCT@ .\\n',\n",
       " '\\n',\n",
       " '###24694205\\n',\n",
       " 'BACKGROUND\\tVitamin B@ deficiency causes neurologic and psychiatric disease , especially in older adults .\\n',\n",
       " 'BACKGROUND\\tSubacute combined degeneration is characterized by damage to the posterior and lateral spinal cord affecting the corticospinal tract .\\n',\n",
       " 'OBJECTIVE\\tTo test corticospinal tract projections using motor evoked potentials ( MEPs ) by transcranial magnetic stimulation ( TMS ) in asymptomatic older adults with low vitamin B@ ( B@ ) levels .\\n',\n",
       " 'METHODS\\tCross-sectional study of @ healthy older adults ( > @ years ) .\\n',\n",
       " 'METHODS\\tMEPs were recorded in the abductor pollicis brevis and tibialis anterior muscles , at rest and during slight tonic contraction .\\n',\n",
       " 'METHODS\\tCentral motor conduction time ( CMCT ) was derived from the latency of MEPs and peripheral motor conduction time ( PMCT ) .\\n',\n",
       " 'METHODS\\tNeurophysiological variables were analyzed statistically according to B@ status .\\n',\n",
       " 'RESULTS\\tMedian age was @ years ( @ % women ) .\\n',\n",
       " 'RESULTS\\tTwenty-six out of the @ subjects had low vitamin B@ levels ( B@ < @pmol/l ) .\\n',\n",
       " 'RESULTS\\tMEPs were recorded for all subjects in upper and lower extremities .\\n',\n",
       " 'RESULTS\\tThere were no significant differences in either latency or amplitude of MEPs and CMCT between low and normal B@ groups .\\n',\n",
       " 'RESULTS\\tThere was a significant PMCT delay in the lower extremities in the low B@ group ( p = @ ) .\\n',\n",
       " 'CONCLUSIONS\\tNo subclinical abnormality of the corticospinal tract is detected in asymptomatic B@-deficient older adults .\\n',\n",
       " 'CONCLUSIONS\\tThe peripheral nervous system appears to be more vulnerable to damage attributable to this vitamin deficit .\\n',\n",
       " 'CONCLUSIONS\\tThe neurophysiological evaluation of asymptomatic older adults with lower B@ levels should be focused mainly in peripheral nervous system evaluation .\\n',\n",
       " '\\n',\n",
       " '###24576512\\n',\n",
       " 'BACKGROUND\\tUncontrolled hypertension ( HTN ) is a significant public health problem among blacks in the United States .\\n',\n",
       " 'BACKGROUND\\tDespite the proven efficacy of therapeutic lifestyle change ( TLC ) on blood pressure ( BP ) reduction in clinical trials , few studies have examined their effectiveness in church-based settings-an influential institution for health promotion in black communities .\\n',\n",
       " 'METHODS\\tUsing a cluster-randomized , @-arm trial design , this study evaluates the effectiveness of a faith-based TLC intervention vs health education ( HE ) control on BP reduction among hypertensive black adults .\\n',\n",
       " 'METHODS\\tThe intervention is delivered by trained lay health advisors through group TLC sessions plus motivational interviewing in @ black churches .\\n',\n",
       " 'METHODS\\tParticipants in the intervention group receive @ weekly TLC sessions targeting weight loss , increasing physical activity , fruit , vegetable and low-fat dairy intake , and decreasing fat and sodium intake , plus @ monthly individual motivational interviewing sessions .\\n',\n",
       " 'METHODS\\tParticipants in the control group attend @ weekly classes on HTN and other health topics delivered by health care experts .\\n',\n",
       " 'METHODS\\tThe primary outcome is change in BP from baseline to @ months .\\n',\n",
       " 'METHODS\\tSecondary outcomes include level of physical activity , percent change in weight , and fruit and vegetable consumption at @ months , and BP control at @ months .\\n',\n",
       " 'CONCLUSIONS\\tIf successful , this trial will provide an alternative and culturally appropriate model for HTN control through evidence-based lifestyle modification delivered in churches by lay health advisors .\\n',\n",
       " '\\n',\n",
       " '###24807407\\n',\n",
       " 'BACKGROUND\\tThe classification of clinical severity of Ebstein anomaly still remains a challenge .\\n',\n",
       " 'BACKGROUND\\tThe aim of this study was to focus on the interaction of the pathologically altered right heart with the anatomically-supposedly-normal left heart and to derive from cardiac magnetic resonance ( CMR ) a simple imaging measure for the clinical severity of Ebstein anomaly .\\n',\n",
       " 'RESULTS\\tTwenty-five patients at a mean age of @ years with unrepaired Ebstein anomaly were examined in a prospective study .\\n',\n",
       " 'RESULTS\\tDisease severity was classified using CMR volumes and functional measurements in comparison with heart failure markers from clinical data , ECG , laboratory and cardiopulmonary exercise testing , and echocardiography .\\n',\n",
       " 'RESULTS\\tAll examinations were completed within @ hours .\\n',\n",
       " 'RESULTS\\tA total right/left-volume index was defined from end-diastolic volume measurements in CMR : total right/left-volume index = ( RA + aRV + fRV ) / ( LA+LV ) .\\n',\n",
       " 'RESULTS\\tMean total right/left-volume index was @ ( normal values : @ ) .\\n',\n",
       " 'RESULTS\\tThis new total right/left-volume index correlated with almost all clinically used biomarkers of heart failure : brain natriuretic peptide ( r = @ ; P = @ ) , QRS ( r = @ ; P = @ ) , peak oxygen consumption/kg ( r = -@ ; P = @ ) , ventilatory response to carbon dioxide production at anaerobic threshold ( r = @ ; P = @ ) , the severity of tricuspid regurgitation ( r = @ ; P = @ ) , tricuspid valve offset ( r = @ ; P = @ ) , and tricuspid annular plane systolic excursion ( r = @ ; P = @ ) .\\n',\n",
       " 'RESULTS\\tPreviously described severity indices ( -LSB- RA + aRV -RSB- / -LSB- fRV + LA+LV -RSB- ) and fRV/LV end-diastolic volume corresponded only to some parameters .\\n',\n",
       " 'CONCLUSIONS\\tIn patients with Ebstein anomaly , the easily acquired index of right-sided to left-sided heart volumes from CMR correlated well with established heart failure markers .\\n',\n",
       " 'CONCLUSIONS\\tOur data suggest that the total right/left-volume index should be used as a new and simplified CMR measure , allowing more accurate assessment of disease severity than previously described scoring systems .\\n',\n",
       " '\\n',\n",
       " '###24947717\\n',\n",
       " 'OBJECTIVE\\tThis study sought to investigate the association of beta-blocker therapy at discharge with clinical outcomes in patients with ST-segment elevation myocardial infarction ( STEMI ) after primary percutaneous coronary intervention ( PCI ) .\\n',\n",
       " 'BACKGROUND\\tLimited data are available on the efficacy of beta-blocker therapy for secondary prevention in STEMI patients .\\n',\n",
       " 'METHODS\\tBetween November @ , @ and September @ , @ , @,@ patients were enrolled in nationwide , prospective , multicenter registries .\\n',\n",
       " 'METHODS\\tAmong these , we studied STEMI patients undergoing primary PCI who were discharged alive ( n = @,@ ) .\\n',\n",
       " 'METHODS\\tWe classified patients into the beta-blocker group ( n = @,@ ) and no-beta-blocker group ( n = @,@ ) according to the use of beta-blockers at discharge .\\n',\n",
       " 'METHODS\\tPropensity-score matching analysis was also performed in @,@ patient triplets .\\n',\n",
       " 'METHODS\\tThe primary outcome was all-cause death .\\n',\n",
       " 'RESULTS\\tThe median follow-up duration was @ days ( interquartile range : @ to @ days ) .\\n',\n",
       " 'RESULTS\\tAll-cause death occurred in @ patients ( @ % ) of the beta-blocker group versus @ patients ( @ % ) of the no-beta-blocker group ( p < @ ) .\\n',\n",
       " 'RESULTS\\tAfter @:@ propensity-score matching , beta-blocker therapy was associated with a lower incidence of all-cause death ( @ % vs. @ % , adjusted hazard ratio : @ , @ % confidence interval : @ to @ , p = @ ) .\\n',\n",
       " 'RESULTS\\tThe association with better outcome of beta-blocker therapy in terms of all-cause death was consistent across various subgroups , including patients with relatively low-risk profiles such as ejection fraction > @ % or single-vessel disease .\\n',\n",
       " 'CONCLUSIONS\\tBeta-blocker therapy at discharge was associated with improved survival in STEMI patients treated with primary PCI .\\n',\n",
       " 'CONCLUSIONS\\tOur results support the current American College of Cardiology/American Heart Association guidelines , which recommend long-term beta-blocker therapy in all patients with STEMI regardless of reperfusion therapy or risk profile .\\n',\n",
       " '\\n',\n",
       " '###24281275\\n',\n",
       " 'OBJECTIVE\\tLocal anesthetic wound infiltration is widely used as an effective adjunct during multimodal postoperative pain management .\\n',\n",
       " 'OBJECTIVE\\tThe aim of this study was to evaluate the effectiveness of continuous wound infusion of ropivacaine in postoperative pain relief , opioid sparing , incidence of nausea and vomiting , and bowel and liver function improvement in patients undergoing open hepatectomy .\\n',\n",
       " 'METHODS\\tForty patients undergoing open hepatectomy were enrolled in this prospective , randomized , double-blinded , placebo-controlled trial .\\n',\n",
       " 'METHODS\\tPatients were divided into @ groups : the @ % saline continuous infusion group ( the control group ; n = @ ) and the ropivacaine continuous infusion group ( the Ropi group ; n = @ ) .\\n',\n",
       " 'METHODS\\tOutcomes measured postoperatively were pain score at rest and on movement , sufentanil consumption , incidence of nausea and vomiting , and sedation score across @ postoperative hours .\\n',\n",
       " 'METHODS\\tTime to bowel recovery , liver function change , mean length of hospitalization , patient satisfaction , and other data after @ postoperative hours were collected until hospital discharge .\\n',\n",
       " 'RESULTS\\tPain scores at rest were lower for the ropivacaine group and reached significance after @ and @ hours ( P < @ ) .\\n',\n",
       " 'RESULTS\\tSufentanil consumption ( @ vs. @ g ; P < @ ) after @ hours , time to bowel recovery ( @ vs. @ d ; P < @ ) , incidence of nausea and vomiting ( @ vs. @ ; P < @ ) , and mean length of hospitalization ( @ vs. @ d ; P < @ ) were significantly reduced , and the sedation score and liver function change were also comparable between the @ groups .\\n',\n",
       " 'RESULTS\\tThere was no difference with respect to pain scores on movement , nor with respect to patient satisfaction .\\n',\n",
       " 'CONCLUSIONS\\tSurgical wound infusion with ropivacaine after hepatectomy can improve pain relief at rest and accelerate recovery and discharge .\\n',\n",
       " '\\n',\n",
       " '###24911353\\n',\n",
       " 'OBJECTIVE\\tTuberculosis ( TB ) is highly prevalent among HIV-infected people , including those receiving combination antiretroviral therapy ( cART ) , necessitating a well tolerated and efficacious TB vaccine for these populations .\\n',\n",
       " 'OBJECTIVE\\tWe evaluated the safety and immunogenicity of the candidate TB vaccine M@/AS@ in adults with well controlled HIV infection on cART .\\n',\n",
       " 'METHODS\\tA randomized , observer-blind , controlled trial ( NCT@ ) .\\n',\n",
       " 'METHODS\\tHIV-infected adults on cART in Switzerland were randomized @:@:@ to receive two doses , @ month apart , of M@/AS@ , AS@ or @ % physiological saline ( N = @ , N = @ and N = @ , respectively ) and were followed up to @ months postdose @ ( D@ ) .\\n',\n",
       " 'METHODS\\tIndividuals with CD@ cell counts below @ cells/l were excluded .\\n',\n",
       " 'METHODS\\tAdverse events ( AEs ) including HIV-specific and laboratory safety parameters were recorded .\\n',\n",
       " 'METHODS\\tCell-mediated ( ICS ) and humoral ( ELISA ) responses were evaluated before vaccination , @ month after each dose ( D@ , D@ ) and D@ .\\n',\n",
       " 'RESULTS\\tThirty-seven individuals -LSB- interquartile range ( IQR ) CD@ cell counts at screening : @-@ cells/l ; undetectable HIV-@ viremia -RSB- were enrolled ; @ % of individuals reported previous BCG vaccination , @ % tested negative for the QuantiFERON-TB assay .\\n',\n",
       " 'RESULTS\\tFor M@/AS@ recipients , no vaccine-related serious AEs or cART-regimen adjustments were recorded , and there were no clinically relevant effects on laboratory safety parameters , HIV-@ viral loads or CD@ cell counts .\\n',\n",
       " 'RESULTS\\tM@/AS@ was immunogenic , inducing persistent and polyfunctional M@-specific CD@ T-cell responses -LSB- medians @ % ( IQR @-@ @ ) at D@ -RSB- and @ % ( @-@ @ ) at D@ , predominantly CD@LIL-@TNF - , CD@LIL-@ and CD@LIL-@TNF-IFN - -RSB- .\\n',\n",
       " 'RESULTS\\tAll M@/AS@ vaccines were seropositive for anti-M@ IgG after second vaccination until study end .\\n',\n",
       " 'CONCLUSIONS\\tM@/AS@ was clinically well tolerated and immunogenic in this population , supporting further clinical evaluation in HIV-infected individuals in TB-endemic settings .\\n',\n",
       " '\\n',\n",
       " '###25318787\\n',\n",
       " 'OBJECTIVE\\tThe aim of this study was to investigate whether remedial hydration ( RH ) reduces the incidence of contrast-induced nephropathy ( CIN ) and short-term adverse events in ST-elevation myocardial infarction ( STEMI ) patients undergoing primary percutaneous coronary intervention ( PCI ) .\\n',\n",
       " 'METHODS\\tA total of @ consecutive STEMI patients were prospectively and randomly assigned into two groups : @ patients in the RH group and @ patients in the no RH ( control ) group .\\n',\n",
       " 'METHODS\\tThe serum creatinine ( SCr ) and creatinine clearance ( CCr ) levels were measured on admission and at @ , @ and @ hours after primary PCI .\\n',\n",
       " 'METHODS\\tThe rates of CIN and short-term adverse events were analyzed for each group .\\n',\n",
       " 'METHODS\\tAfter surgery , the patients were categorized into four groups according to the Mehran risk score : low ( @ , n = @ ) , moderate ( @-@ , n = @ ) , high ( @-@ , n = @ ) or very high ( @ , n = @ ) .\\n',\n",
       " 'RESULTS\\tThe incidence of CIN in the RH group was lower than that observed in the control group ( @/@ ; @ % vs. @/@ ; @ % , p < @ ) .\\n',\n",
       " 'RESULTS\\tThe subgroup analysis showed that the rate of CIN was lower in the moderate ( @/@ ; @ % vs. @/@ ; @ % , p < @ ) and significantly lower in both the high ( @/@ ; @ % vs. @/@ ; @ % , p < @ ) and very high score groups ( @/@ ; @ % vs. @/@ ; @ % , p < @ ) among the RH patients compared to the controls .\\n',\n",
       " 'RESULTS\\tAt @ , @ and @ hours after PCI , the patients in the RH group exhibited lower SCr levels and higher CCr levels than the patients in the control group ( both p < @ ) .\\n',\n",
       " 'RESULTS\\tA lower incidence of in-hospital clinical events was also observed in the RH group .\\n',\n",
       " 'CONCLUSIONS\\tRemedial hydration decreases the occurrence of CIN and improves the short-term prognosis of STEMI patients undergoing primary PCI .\\n',\n",
       " '\\n',\n",
       " '###24396280\\n',\n",
       " 'BACKGROUND\\tAn increased production of oxidizing species related to reactive oral diseases , such as chronic apical periodontitis , could have systemic implications such as an increase in cardiovascular morbidity .\\n',\n",
       " 'BACKGROUND\\tBased on this consideration , we conducted a prospective study to assess whether subjects affected by chronic periodontitis presented with higher values of oxidative stress than reference values before endodontic treatment , and whether endodontic treatment can reduce the oxidative imbalance and bring it back to normal in these subjects .\\n',\n",
       " 'METHODS\\tThe authors recruited @ groups of patients from private studies and dental clinics : these patients were recruited randomly .\\n',\n",
       " 'METHODS\\tThe oxidative balance in both patients with chronic apical periodontitis ( CAP ) and healthy control patients was determined by measuring the oxidant status , using an identification of the reactive oxygen metabolites ( d-ROMs ) test , while the antioxidant status in these patients was determined using a biological antioxidant potential ( BAP ) test .\\n',\n",
       " 'METHODS\\tBoth these tests were carried on plasma samples taken from enrolled patients .\\n',\n",
       " 'METHODS\\tValues were measured both before the endodontic treatment of the patients with chronic apical periodontitis , and @ and @ days after treatment , and compared to those obtained from healthy control patients .\\n',\n",
       " 'RESULTS\\tIt was found that , on recruitment , the patients with chronic apical periodontitis exhibited significantly higher levels of oxidative stress than control patients , as determined by the d-ROMs and BAP tests .\\n',\n",
       " 'RESULTS\\tFurthermore , the d-ROMs test values were shown to decrease and the BAP test values to increase over time in patients with chronic apical periodontitis following endodontic therapy .\\n',\n",
       " 'RESULTS\\tAs the levels of oxidative stress in these patients tended to reduce and return to normal by @ days following treatment .\\n',\n",
       " 'CONCLUSIONS\\tThis study has demonstrated a positive association between chronic apical periodontitis and oxidative stress .\\n',\n",
       " 'CONCLUSIONS\\tSubjects affected by chronic apical periodontitis are exposed to a condition of oxidative stress , which is extremely dangerous to general health .\\n',\n",
       " 'CONCLUSIONS\\tMoreover , one can infer from these findings that through proper endodontic therapy , a good oxidative balance can be restored , thereby avoiding the risk of contracting the abovementioned diseases .\\n',\n",
       " '\\n',\n",
       " '###24731889\\n',\n",
       " 'BACKGROUND\\tPlacebo effect has been largely studied and debated in medicine .\\n',\n",
       " 'BACKGROUND\\tResearch focused mainly on children and adults but not on newborns .\\n',\n",
       " 'BACKGROUND\\tIn osteopathy , few studies documented this effect and no research has been conducted in newborns .\\n',\n",
       " 'OBJECTIVE\\tTo assess the presence of placebo effect in newborns using sham osteopathic manipulative treatment .\\n',\n",
       " 'METHODS\\tRandomized control trial .\\n',\n",
       " 'METHODS\\tNeonatal Intensive Care Unit in Italy .\\n',\n",
       " 'METHODS\\tTwo groups ( @ patients each ) of preterm infants aged @-@ weeks without medical complications received routine pediatric care and osteopathic sham therapy was administrated to the study group only for the entire period of hospitalization .\\n',\n",
       " 'METHODS\\tPrimary end point was the mean reduction of length of stay at discharge .\\n',\n",
       " 'METHODS\\tSecondary objective was the change in daily weight gain .\\n',\n",
       " 'RESULTS\\t@ newborns entered the study .\\n',\n",
       " 'RESULTS\\tNo difference between sham and control group was found for the primary outcome length of stay ( @ ; @ ; p = @ ) .\\n',\n",
       " 'RESULTS\\tMultivariate analysis showed no difference between study and control group on length of stay .\\n',\n",
       " 'RESULTS\\tA negative association was found for gestational age ( -@ ; @ % CI -@ to -@ ; p = @ ) , birth weight ( -@ ; @ % CI -@ to -@ ; p < @ ) and milk volume at study enrollment ( -@ ; @ % CI -@ to -@ ; p = @ ) .\\n',\n",
       " 'CONCLUSIONS\\tTo the best of our knowledge , this study is the first in the field showing no placebo effect on newborns .\\n',\n",
       " 'CONCLUSIONS\\tFurther discussions are opened concerning the age when placebo effect starts .\\n',\n",
       " '\\n',\n",
       " '###25880933\\n',\n",
       " 'BACKGROUND\\tClostridium difficile infection ( CDI ) is a leading cause of diarrhoea in health care settings with symptoms ranging from mild and self-limiting to life threatening .\\n',\n",
       " 'BACKGROUND\\tSMT@ is a novel , non-absorbable antibiotic currently under development for the treatment of CDI .\\n',\n",
       " 'BACKGROUND\\tHere we report the results from a Phase I study .\\n',\n",
       " 'METHODS\\tA double-blind , randomized , placebo-controlled study assessing safety and tolerability of single and multiple oral doses of SMT@ in healthy volunteers .\\n',\n",
       " 'METHODS\\tPharmacokinetic assessments included blood and faecal sampling .\\n',\n",
       " 'METHODS\\tThe effect of food on systemic exposure and analysis of the gut microbiota were also included .\\n',\n",
       " 'RESULTS\\tFifty-six healthy male subjects were enrolled .\\n',\n",
       " 'RESULTS\\tFollowing single oral doses of up to @,@ mg in the fasted state , plasma concentrations of SMT@ were generally below the lower limit of quantification .\\n',\n",
       " 'RESULTS\\tIn the fed state levels ranged from @ to @ ng/mL after single dosing and after repeat dosing at Day @ from @ to @ ng/mL .\\n',\n",
       " 'RESULTS\\tFollowing single and multiple oral doses of SMT@ , mean daily faecal concentrations increased with increasing dose level and were significantly above the typical MIC range for C. difficile ( @-@ @ g/mL ) .\\n',\n",
       " 'RESULTS\\tAt @ mg BID , mean ( SD ) faecal concentrations of @,@ ( @ ) g/g and @,@ ( @ ) g/g were determined on days @ and @ of dosing respectively .\\n',\n",
       " 'RESULTS\\tNo notable metabolites were detected in faeces .\\n',\n",
       " 'RESULTS\\tOverall , all doses of SMT@ were well tolerated both as single oral doses or BID oral doses for @ days .\\n',\n",
       " 'RESULTS\\tThe majority ( @ % ) of adverse events ( AEs ) were classified as gastrointestinal disorders and were mild in severity , resolving without treatment .\\n',\n",
       " 'RESULTS\\tThe gut microbiota was analysed in the multiple dose groups with minimal changes observed in the bacterial groups analysed except for total clostridia which were reduced to below the limit of detection by day @ of dosing .\\n',\n",
       " 'CONCLUSIONS\\tOral administration of SMT@ was considered safe and well tolerated and was associated with negligible plasma concentrations after single and multiple doses .\\n',\n",
       " 'CONCLUSIONS\\tIn addition , minimal disruption of normal gut microbiota was noted , confirming the highly selective spectrum of the compound .\\n',\n",
       " 'CONCLUSIONS\\tThese results support the further clinical development of SMT@ as an oral therapy for CDI .\\n',\n",
       " 'BACKGROUND\\tCurrent Controlled Trials .\\n',\n",
       " 'BACKGROUND\\tISRCTN@ .\\n',\n",
       " '\\n',\n",
       " '###25231496\\n',\n",
       " 'BACKGROUND\\tWhile overall survival for most common cancers in Australia is improving , the rural-urban differential has been widening , with significant excess deaths due to lung , colorectal , breast and prostate cancer in regional Australia .\\n',\n",
       " 'BACKGROUND\\tInternationally a major focus on understanding variations in cancer outcomes has been later presentation to healthcare and later diagnosis .\\n',\n",
       " 'BACKGROUND\\tApproaches to reducing time to diagnosis of symptomatic cancer include public symptom awareness campaigns and interventions in primary care to improve early cancer detection .\\n',\n",
       " 'BACKGROUND\\tThis paper reports the protocol of a factorial cluster-randomised trial of community and general practice ( GP ) level interventions to reduce the time to diagnosis of cancer in rural Western Australia ( WA ) .\\n',\n",
       " 'METHODS\\tThe community intervention is a symptom awareness campaign tailored for rural Australians delivered through a community engagement model .\\n',\n",
       " 'METHODS\\tThe GP intervention includes a resource card with symptom risk assessment charts and local referral pathways implemented through multiple academic detailing visits and case studies .\\n',\n",
       " 'METHODS\\tParticipants are eligible if recently diagnosed with breast , colorectal , lung or prostate cancer who reside in specific regions of rural WA with a planned sample size of @ .\\n',\n",
       " 'METHODS\\tThe primary outcome is the Total Diagnostic Interval , defined as the duration from first symptom ( or date of cancer screening test ) to cancer diagnosis .\\n',\n",
       " 'METHODS\\tSecondary outcomes include cancer stage , healthcare utilisation , disease-free status , survival at @ and @years and cost-effectiveness .\\n',\n",
       " 'BACKGROUND\\tEthics approval has been granted by the University of Western Australia and from all relevant hospital recruitment sites in WA .\\n',\n",
       " 'RESULTS\\tResults of this trial will be reported in peer-reviewed publications and in conference presentations .\\n',\n",
       " 'BACKGROUND\\tAustralian New Zealand Clinical Trials Registry ( ANZCTR ) .\\n',\n",
       " 'BACKGROUND\\tACTRN@ .\\n',\n",
       " '\\n',\n",
       " '###26024687\\n',\n",
       " 'BACKGROUND\\tThis study aimed to evaluate whether incidental CT findings of emphysema , airway thickening and bronchiectasis , as seen on CT scans performed for other non-pulmonary clinical indications , are associated with future acute exacerbations of COPD resulting in hospitalisation or death .\\n',\n",
       " 'METHODS\\tThis multicentre prospective case-cohort study comprised @ subjects who underwent routine diagnostic chest CT for non-pulmonary indications .\\n',\n",
       " 'METHODS\\tUsing a case-cohort approach , we visually graded CT scans from cases and a random sample of @ % of the baseline cohort ( n = @ ) for emphysema severity ( range @-@ ) , airway thickening ( range @-@ ) and bronchiectasis ( range @-@ ) .\\n',\n",
       " 'METHODS\\tWe used weighted Cox proportional hazards analysis to assess the independent association between CT findings and hospitalisation or death due to COPD exacerbation .\\n',\n",
       " 'RESULTS\\tDuring a median follow-up of @ years ( maximum @ years ) , @ COPD events were identified .\\n',\n",
       " 'RESULTS\\tThe risk of experiencing a future acute exacerbation of COPD resulting in hospitalisation or death was significantly increased in subjects with severe emphysema ( score @ ) and severe airway thickening ( score @ ) .\\n',\n",
       " 'RESULTS\\tThe respective HRs were @ ( @ % CI @ to @ ) and @ ( @ % CI @ to @ ) .\\n',\n",
       " 'RESULTS\\tSevere bronchiectasis ( score @ ) was not significantly associated with increased risk of adverse events ( HR @ ; @ % CI @ to @ ) .\\n',\n",
       " 'CONCLUSIONS\\tMorphological correlates of COPD such as emphysema and airway thickening detected on CT scans obtained for other non-pulmonary indications are strong independent predictors of subsequent development of acute exacerbations of COPD resulting in hospitalisation or death .\\n',\n",
       " '\\n',\n",
       " '###24851690\\n',\n",
       " 'OBJECTIVE\\tTo explore the feasibility of making a preoperative diagnosis of lung adenocarcinoma shown as ground-glass nodule ( GGN ) on computed tomography ( CT ) .\\n',\n",
       " 'METHODS\\tA total of @ GGN lesions proved pathologically were divided randomly into A and B groups .\\n',\n",
       " 'METHODS\\tThen each group was further divided pathologically into preinvasive lesion , minimal invasive adenocarcinoma ( MIA ) and invasive adenocarcinoma ( IAC ) subgroups .\\n',\n",
       " 'METHODS\\tGroup A ( n = @ ) , size of lesion , proportion of ground glass opacity ( GGO ) composition of lesion , long diameter , longest diameter and size of solid component in lesion were measured on CT so as to establish the CT diagnostic standard of lung adenocarcinoma shown as GGN on CT. .\\n',\n",
       " 'METHODS\\tGroup B ( n = @ ) was employed to evaluate the accuracy of the above CT diagnostic standard .\\n',\n",
       " 'METHODS\\tSPSS @ software was used for statistical analysis .\\n',\n",
       " 'RESULTS\\tSignificant statistic significance existed in all parameters among all groups ( P < @ ) .\\n',\n",
       " 'RESULTS\\tAll parameters were correlated the pathologic type of lesion .\\n',\n",
       " 'RESULTS\\tThe differences were statistically significant ( P = @ ) .\\n',\n",
       " 'RESULTS\\tThrough the receiver operating characteristic ( ROC ) curve , between groups of preinvasive lesion and MIA , each parameter had a medium diagnostic value of @-@ @ ; between groups of MIA and IAC , size of lesion and long diameter of solid component in lesion had a medium diagnostic value of @-@ @ , longest diameter of solid component , size of solid component in lesion and proportion of GGO composition of lesion had a high diagnostic value with an AUC of > @ .\\n',\n",
       " 'RESULTS\\tThe CT diagnostic standard , derived from group A , was used to analyze the pathologic type of group B. And t no significant statistic significance existed between CT preoperative diagnosis and operative pathologic diagnosis ( P > @ ) .\\n',\n",
       " 'RESULTS\\tThe correct diagnosis rates of size of lesion , proportion of GGO composition of lesion , long diameter , longest diameter and size of solid component in lesion were @ % , @ % , @ % , @ % and @ % respectively .\\n',\n",
       " 'CONCLUSIONS\\tBased upon size of lesion , proportion of GGO composition of lesion , long diameter , longest diameter and size of solid component in lesion , preoperative CT examination may be used to determine the pathological types of lung adenocarcinoma shown as GGN .\\n',\n",
       " '\\n',\n",
       " '###25883103\\n',\n",
       " 'OBJECTIVE\\tTonsillectomy surgery is associated with severe postoperative pain that usually requires analgesics including opioids .\\n',\n",
       " 'OBJECTIVE\\tPain control is still a big problem after tonsillectomy surgery .\\n',\n",
       " 'OBJECTIVE\\tWe aimed to evaluate the efficacy of preemptive analgesia using montelukast for pediatric post-tonsillectomy pain management .\\n',\n",
       " 'OBJECTIVE\\tThis is the first-time use of montelukast in post-tonsillectomy pain .\\n',\n",
       " 'METHODS\\tDouble-blind , controlled-randomized study .\\n',\n",
       " 'METHODS\\tUniversity teaching and research hospital .\\n',\n",
       " 'METHODS\\tA total of @ children , aged @ to @ years , American Society of Anesthesiologist class I-II , scheduled for elective tonsillectomy were enrolled in this clinical trial study .\\n',\n",
       " 'METHODS\\tThe patients were randomized into @ groups : the montelukast group ( group M , n = @ ) and control group ( group C , n = @ ) .\\n',\n",
       " 'METHODS\\tGroup M recieved an oral montelukast tablet and group C recieved placebo at @pm on the morning before surgery .\\n',\n",
       " 'METHODS\\tPost-tonsillectomy pain was evaluated with the Wong-Baker FACES Scale during the @ hours after surgery .\\n',\n",
       " \"METHODS\\tPatients ' intraoperative hemodynamic parameters and intraoperative and postoperative complications were recorded .\\n\",\n",
       " 'RESULTS\\tThere were statistically significant differences between group C and group M for Wong-Baker FACES pain rating scale scores ( P < @ ) .\\n',\n",
       " 'RESULTS\\tIn the @ hours after surgery , the total number of patients using rescue analgesics was higher in group C than in group M , and the difference was statistically significant ( P < @ ) .\\n',\n",
       " 'RESULTS\\tThere was no significant difference in demographic parameters ( P > @ ) .\\n',\n",
       " 'RESULTS\\tThere were no significant differences in postoperative nausea and vomiting , otalgia , trismus , fever , or halitosis between the groups ( P > @ ) .\\n',\n",
       " 'CONCLUSIONS\\tPreemptive montelukast can be used safely to reduce the serious pain caused by tonsillectomy in children .\\n',\n",
       " '\\n',\n",
       " '###24318863\\n',\n",
       " 'OBJECTIVE\\tMetastatic colon cancer patients are treated with the chemotherapy regimens , FOLFOX and FOLFIRI , in either order .\\n',\n",
       " 'OBJECTIVE\\tSo far , we can not predict the response of chemotherapeutic agent , so it is necessary to find which regimen is adequate before starting chemotherapy .\\n',\n",
       " 'METHODS\\tEnrolled patients are randomized into either conventional treatment or planned treatment preceded by pretreatment genetic analysis .\\n',\n",
       " 'METHODS\\tBlood samples of patients in planned treatment group ( N = @ ) were analyzed for the genetic polymorphism before selection of chemotherapeutic agents .\\n',\n",
       " 'METHODS\\tTarget genes were XPD-@ , GSTP-@-@ , XRCC@-@ for oxaliplatin , UGT@A@ for irinotecan .\\n',\n",
       " 'METHODS\\tThe response was measured by computed tomographic scan after completion of three cycles of chemotherapy .\\n',\n",
       " 'RESULTS\\tOverall response rate was significantly higher in planned group ( @ % vs. @ % , P = @ ) .\\n',\n",
       " 'RESULTS\\tIn FOLFOX group , response rate was significantly improved in the planned patients ( @ % vs. @ % , P = @ ) .\\n',\n",
       " \"RESULTS\\tIn FOLFIRI group , the difference did n't reach statistical significance ( @ % vs. @ % , P = @ ) .\\n\",\n",
       " 'CONCLUSIONS\\tWe found significantly improved response rates in the chemotherapy of metastatic colon cancer by pretreatment genetic analysis , especially in FOLFOX group .\\n',\n",
       " '\\n',\n",
       " '###25872502\\n',\n",
       " 'BACKGROUND\\tCardiac arrest causes ischaemic brain injury .\\n',\n",
       " 'BACKGROUND\\tArterial carbon dioxide tension ( PaCO@ ) is a major determinant of cerebral blood flow .\\n',\n",
       " 'BACKGROUND\\tThus , mild hypercapnia in the @ h following cardiac arrest may increase cerebral blood flow and attenuate such injury .\\n',\n",
       " 'BACKGROUND\\tWe describe the Carbon Control and Cardiac Arrest ( CCC ) trial .\\n',\n",
       " 'METHODS\\tThe CCC trial is a pilot multicentre feasibility , safety and biological efficacy randomized controlled trial recruiting adult cardiac arrest patients admitted to the intensive care unit after return of spontaneous circulation .\\n',\n",
       " 'METHODS\\tAt admission , using concealed allocation , participants are randomized to @ h of either normocapnia ( PaCO@ @ to @ mmHg ) or mild hypercapnia ( PaCO@ @ to @ mmHg ) .\\n',\n",
       " 'METHODS\\tKey feasibility outcomes are recruitment rate and protocol compliance rate .\\n',\n",
       " 'METHODS\\tThe primary biological efficacy and biological safety measures are the between-groups difference in serum neuron-specific enolase and S@b protein levels at @ h , @ h and @ h. Secondary outcome measure include adverse events , in-hospital mortality , and neurological assessment at @ months .\\n',\n",
       " 'CONCLUSIONS\\tThe trial commenced in December @ and , when completed , will provide clinical evidence as to whether targeting mild hypercapnia for @ h following intensive care unit admission for cardiac arrest patients is feasible and safe and whether it results in decreased concentrations of neurological injury biomarkers compared with normocapnia .\\n',\n",
       " 'CONCLUSIONS\\tTrial results will also be used to determine whether a phase IIb study powered for survival at @ days is feasible and justified .\\n',\n",
       " 'BACKGROUND\\tAustralian New Zealand Clinical Trials Registry ACTRN@ .\\n',\n",
       " '\\n',\n",
       " '###24226487\\n',\n",
       " 'BACKGROUND\\tFor decades thiopental has been considered as the hypnotic drug of choice for intracranial surgery .\\n',\n",
       " 'BACKGROUND\\tHowever , total intravenous anesthesia performed with thiopental is associated with delayed recovery , whereas early post-operative neurological evaluation is critical .\\n',\n",
       " 'BACKGROUND\\tFor this reason , target controlled infusion ( TCI ) of propofol is increasingly used for maintenance of anesthesia .\\n',\n",
       " 'BACKGROUND\\tHowever , a thiopental TCI has never been assessed for this purpose .\\n',\n",
       " 'BACKGROUND\\tWe tested the hypothesis that a thiopental TCI provides an acceptable way to achieve early recovery compared to a propofol TCI during supratentorial surgery .\\n',\n",
       " 'METHODS\\tEighty patients undergoing elective craniotomy for a supratentorial tumor were randomized to receive either a propofol TCI ( group P ) or a thiopental TCI ( group T ) .\\n',\n",
       " 'METHODS\\tBoth groups received a sufentanil TCI and the bispectral index was monitored .\\n',\n",
       " 'METHODS\\tThe primary end-point was time to tracheal extubation .\\n',\n",
       " 'METHODS\\tSecondary end-points were per - and post-operative hemodynamics as well as respiratory and recovery parameters .\\n',\n",
       " 'METHODS\\tAssessment of study end-points was performed by an intensive care specialist blinded ( like the patient ) to the received hypnotic .\\n',\n",
       " 'RESULTS\\tTime to extubation was significantly ( P < @ ) shorter in group P ( median @ minutes ; interquartile range @-@ minutes ) than in group T ( median @ minutes ; interquartile range @-@ minutes ) .\\n',\n",
       " 'RESULTS\\tSimilarly , the recovery parameters were significantly better in group P than in group T.\\n',\n",
       " 'RESULTS\\tThere was no difference between groups in terms of patient characteristics and hemodynamic parameters .\\n',\n",
       " 'CONCLUSIONS\\tEven with TCI and bispectral index monitoring , thiopental is associated with an inappropriate delayed recovery from supratentorial surgery compared to propofol TCI .\\n',\n",
       " '\\n',\n",
       " '###25539560\\n',\n",
       " 'OBJECTIVE\\tTo investigate the effects of conservative therapy applied before arthroscopic subacromial decompression on the clinical outcome in patients with stage @ shoulder impingement syndrome .\\n',\n",
       " 'METHODS\\tSixty-eight patients having stage @ shoulder impingement syndrome and treated with arthroscopic subacromial decompression were included in the study .\\n',\n",
       " 'METHODS\\tWe divided these patients into @ groups , whereby @ ( @ % ) patients received conservative therapy before arthroscopic subacromial decompression and @ ( @ % ) patients did not receive conservative therapy .\\n',\n",
       " 'METHODS\\tWe compared both groups in terms of the the Constant , UCLA , and VAS scores for shoulder pain before and after arthroscopic subacromial decompression .\\n',\n",
       " 'RESULTS\\tConstant , UCLA , and VAS scores were statistically significantly improved in both groups after arthroscopic subacromial decompression ( P < @ ) .\\n',\n",
       " 'RESULTS\\tConstant , UCLA , and VAS scores before arthroscopic subacromial decompression were statistically better in Group @ than in Group @ ( P < @ ) .\\n',\n",
       " 'RESULTS\\tNo statistically significant difference was found between the groups in terms of Constant , UCLA , and VAS scores after arthroscopic subacromial decompression ( P > @ ) .\\n',\n",
       " 'CONCLUSIONS\\tConservative therapy applied in patients with stage @ shoulder impingement syndrome before arthroscopic subacromial decompression does not have a positive contribution on the clinical outcome after arthroscopic subacromial decompression .\\n',\n",
       " '\\n',\n",
       " '###24401051\\n',\n",
       " 'BACKGROUND\\tObstructive sleep apnea is associated with considerable health risks .\\n',\n",
       " 'BACKGROUND\\tAlthough continuous positive airway pressure ( CPAP ) can mitigate these risks , effectiveness can be reduced by inadequate adherence to treatment .\\n',\n",
       " 'BACKGROUND\\tWe evaluated the clinical safety and effectiveness of upper-airway stimulation at @ months for the treatment of moderate-to-severe obstructive sleep apnea .\\n',\n",
       " 'METHODS\\tUsing a multicenter , prospective , single-group , cohort design , we surgically implanted an upper-airway stimulation device in patients with obstructive sleep apnea who had difficulty either accepting or adhering to CPAP therapy .\\n',\n",
       " 'METHODS\\tThe primary outcome measures were the apnea-hypopnea index ( AHI ; the number of apnea or hypopnea events per hour , with a score of @ indicating moderate-to-severe apnea ) and the oxygen desaturation index ( ODI ; the number of times per hour of sleep that the blood oxygen level drops by @ percentage points from baseline ) .\\n',\n",
       " 'METHODS\\tSecondary outcome measures were the Epworth Sleepiness Scale , the Functional Outcomes of Sleep Questionnaire ( FOSQ ) , and the percentage of sleep time with the oxygen saturation less than @ % .\\n',\n",
       " 'METHODS\\tConsecutive participants with a response were included in a randomized , controlled therapy-withdrawal trial .\\n',\n",
       " 'RESULTS\\tThe study included @ participants ; @ % were men .\\n',\n",
       " 'RESULTS\\tThe mean age was @ years , and the mean body-mass index ( the weight in kilograms divided by the square of the height in meters ) was @ .\\n',\n",
       " 'RESULTS\\tThe median AHI score at @ months decreased @ % , from @ events per hour to @ events per hour ( P < @ ) ; the ODI score decreased @ % , from @ events per hour to @ events per hour ( P < @ ) .\\n',\n",
       " 'RESULTS\\tSecondary outcome measures showed a reduction in the effects of sleep apnea and improved quality of life .\\n',\n",
       " 'RESULTS\\tIn the randomized phase , the mean AHI score did not differ significantly from the @-month score in the nonrandomized phase among the @ participants in the therapy-maintenance group ( @ and @ events per hour , respectively ) ; the AHI score was significantly higher ( indicating more severe apnea ) among the @ participants in the therapy-withdrawal group ( @ vs. @ events per hour , P < @ ) .\\n',\n",
       " 'RESULTS\\tThe ODI results followed a similar pattern .\\n',\n",
       " 'RESULTS\\tThe rate of procedure-related serious adverse events was less than @ % .\\n',\n",
       " 'CONCLUSIONS\\tIn this uncontrolled cohort study , upper-airway stimulation led to significant improvements in objective and subjective measurements of the severity of obstructive sleep apnea .\\n',\n",
       " 'CONCLUSIONS\\t( Funded by Inspire Medical Systems ; STAR ClinicalTrials.gov number , NCT@ . )\\n',\n",
       " '\\n',\n",
       " '###26126563\\n',\n",
       " 'OBJECTIVE\\tTo identify facilitators and barriers to clinical trial implementation in Aboriginal health services .\\n',\n",
       " 'METHODS\\tIndepth interview study with thematic analysis .\\n',\n",
       " 'METHODS\\tSix Aboriginal community-controlled health services and one government-run service involved in the Kanyini Guidelines Adherence with the Polypill ( KGAP ) study , a pragmatic randomised controlled trial that aimed to improve adherence to indicated drug treatments for people at high risk of cardiovascular disease .\\n',\n",
       " 'METHODS\\t@ health care providers and @ Aboriginal and Torres Strait Islander patients .\\n',\n",
       " 'RESULTS\\tA fundamental enabler was that participants considered the research to be governed and endorsed by the local health service .\\n',\n",
       " 'RESULTS\\tThat the research was perceived to address a health priority for communities was also highly motivating for both providers and patients .\\n',\n",
       " 'RESULTS\\tEnlisting the support of Aboriginal and Torres Strait Islander staff champions who were visible to the community as the main source of information about the trial was particularly important .\\n',\n",
       " 'RESULTS\\tThe major implementation barrier for staff was balancing their service delivery roles with adherence to often highly demanding trial-related procedures .\\n',\n",
       " \"RESULTS\\tThis was partially alleviated by the research team 's provision of onsite support and attempts to make trial processes more streamlined .\\n\",\n",
       " 'RESULTS\\tAlthough more intensive support was highly desired , there were usually insufficient resources to provide this .\\n',\n",
       " 'CONCLUSIONS\\tDespite strong community and health service support , major investments in time and resources are needed to ensure successful implementation and minimal disruption to already overstretched , routine services .\\n',\n",
       " 'CONCLUSIONS\\tTrial budgets will necessarily be inflated as a result .\\n',\n",
       " 'CONCLUSIONS\\tFunding agencies need to consider these additional resource demands when supporting trials of a similar nature .\\n',\n",
       " '\\n',\n",
       " '###24693629\\n',\n",
       " 'OBJECTIVE\\tTo compare the effect of incomplete caries removal ( ICR ) and indirect pulp capping ( IPC ) with calcium hydroxide ( CH ) or an inert material ( wax ) on color , consistency and contamination of the remaining dentin of primary molars .\\n',\n",
       " 'METHODS\\tThis double-blind , parallel-design , randomized controlled trial included @ children presenting one primary molar with deep caries lesion .\\n',\n",
       " 'METHODS\\tChildren were randomly assigned after ICR to receive IPC with CH or wax .\\n',\n",
       " 'METHODS\\tAll teeth were then restored with resin composite .\\n',\n",
       " 'METHODS\\tBaseline dentin color and consistency were evaluated after ICR , and dentin samples were collected for contamination analyses using scanning electron microscopy .\\n',\n",
       " 'METHODS\\tAfter @ months , restorations were removed and the three parameters were re-evaluated .\\n',\n",
       " 'METHODS\\tIn both groups , dentin became significantly darker after @ months .\\n',\n",
       " 'RESULTS\\tNo cases of yellow dentin were observed after @ months with CH compared to @ % of the wax cases ( P < @ ) .\\n',\n",
       " 'RESULTS\\tA statistically significant difference over time was observed only for CH regarding consistency .\\n',\n",
       " 'RESULTS\\tCH stimulated a dentin hardening process in a statistically higher number of cases than wax ( @ % vs. @ % ; P = @ ) .\\n',\n",
       " 'RESULTS\\tContamination changed significantly over time in CH and wax without significant difference between groups .\\n',\n",
       " 'RESULTS\\tIt was concluded that CH and wax arrested the carious process of the remaining carious dentin after indirect pulp capping , but CH showed superior dentin color and consistency after @ months .\\n',\n",
       " '\\n',\n",
       " '###24996519\\n',\n",
       " 'BACKGROUND\\tIn literature there is a general consensus that the use of the mirror improves proprioception .\\n',\n",
       " 'BACKGROUND\\tDuring rehabilitation the mirror is an important instrument to improve stability .\\n',\n",
       " 'BACKGROUND\\tIn some sports , such as dancing , mirrors are widely used during training .\\n',\n",
       " 'BACKGROUND\\tThe purpose of this study is to evaluate the effectiveness of the use of a mirror on balance in young dancers .\\n',\n",
       " 'BACKGROUND\\tSixty-four young dancers ( ranging from @-@ years ) were included in this study .\\n',\n",
       " 'BACKGROUND\\tThirty-two attending lessons with a mirror ( mirror - group ) were compared to @ young dancers that attended the same lessons without a mirror ( non-mirror group ) .\\n',\n",
       " 'BACKGROUND\\tBalance was evaluated by BESS ( Balance Error Scoring System ) , which consists of three stances ( double limb , single limb , and tandem ) on two surfaces ( firm and foam ) .\\n',\n",
       " 'BACKGROUND\\tThe errors were assessed at each stance and summed to create the two subtotal scores ( firm and foam surface ) and the final total score ( BESS ) .\\n',\n",
       " 'BACKGROUND\\tThe BESS was performed at recruitment ( T@ ) and after @months of dance lessons ( T@ ) .\\n',\n",
       " 'RESULTS\\tThe repeated measures ANOVA analysis showed that for the BESS total score there is a difference due to the time ( F = @ ; p < @ ) .\\n',\n",
       " 'RESULTS\\tNo other differences due to the group or to the time of measurement were found ( p > @ ) .\\n',\n",
       " 'RESULTS\\tThe analysis of the multiple regression model showed the influence of the values at T@ for every BESS items and the dominance of limb for stability on an unstable surface standing on one or two legs .\\n',\n",
       " 'CONCLUSIONS\\tThese preliminary results suggest that the use of a mirror in a ballet classroom does not improve balance acquisition of the dancer .\\n',\n",
       " 'CONCLUSIONS\\tOn the other hand , improvement found after @months confirms that at the age of the dancers studied motor skills and balance can easily be trained and improved .\\n',\n",
       " '\\n',\n",
       " '###25440306\\n',\n",
       " 'OBJECTIVE\\tLong-term follow-up studies documenting maintenance of treatment effects are fewin adolescent anorexia nervosa ( AN ) .\\n',\n",
       " 'OBJECTIVE\\tThis exploratory study reports relapse from full remission and attainment of remission during a @-year open follow-up period using a convenience sample of a subgroup of @ % ( n = @ ) from an original cohort of @ participants who completed a randomized clinical trial comparing family-based therapy ( FBT ) and adolescent-focused individual therapy ( AFT ) .\\n',\n",
       " 'METHODS\\tFollow-up assessments were completed up to @years posttreatment ( average , @ years ) .\\n',\n",
       " 'METHODS\\tAvailable participants completed the Eating Disorder Examination as well as self-report measures of self-esteem and depression at @ to @ years posttreatment .\\n',\n",
       " 'RESULTS\\tTwo participants ( @ % ) relapsed ( FBT : n = @ , @ % ; AFT : n = @ , @ % ) , on average @ years ( SD = @ years ) after remission was achieved at @-year follow-up .\\n',\n",
       " 'RESULTS\\tTen new participants ( @ % ) achieved remission ( FBT : n = @ , @ % ; AFT : n = @ , @ % ) .\\n',\n",
       " 'RESULTS\\tMean time to remission for this group was @ years ( SD = @ years ) from @-year follow-up .\\n',\n",
       " 'RESULTS\\tThere were no differences based on treatment group assignment in either relapse from full remission or new remission during long-term follow-up .\\n',\n",
       " 'RESULTS\\tOther psychopathology was stable over time .\\n',\n",
       " 'CONCLUSIONS\\tThere were few changes in the clinical presentation of participants who were assessed at long-term follow-up .\\n',\n",
       " 'CONCLUSIONS\\tThese data suggest that outcomes are generally stable posttreatment regardless of treatment type once remission is achieved .\\n',\n",
       " 'CONCLUSIONS\\tClinical trial registration information-Effectiveness of Family-Based Versus Individual Psychotherapy in Treating Adolescents With Anorexia Nervosa ; http://www.clinicaltrials.gov/; NCT@ .\\n',\n",
       " '\\n',\n",
       " '###24754891\\n',\n",
       " 'BACKGROUND\\tCoronary artery bypass grafting using the radial artery has , since the @s , gone through a revival .\\n',\n",
       " 'BACKGROUND\\tObservational studies have indicated better long-term patency when using radial arteries .\\n',\n",
       " 'BACKGROUND\\tTherefore , radial artery might be preferred especially in younger patients where long time patency is important .\\n',\n",
       " 'BACKGROUND\\tDuring the last @years different endoscopic techniques to harvest the radial artery have evolved .\\n',\n",
       " 'BACKGROUND\\tEndoscopic radial artery harvest only requires a small incision near the wrist in contrast to open harvest , which requires an incision from the elbow to the wrist .\\n',\n",
       " 'BACKGROUND\\tHowever , it is unknown whether the endoscopic technique results in fewer complications or a graft patency comparable to open harvest .\\n',\n",
       " 'BACKGROUND\\tWhen the radial artery has been harvested , there are two ways to use the radial artery as a graft .\\n',\n",
       " 'BACKGROUND\\tOne way is sewing it onto the aorta and another is sewing it onto the mammary artery .\\n',\n",
       " 'BACKGROUND\\tIt is unknown which technique is the superior revascularisation technique .\\n',\n",
       " 'METHODS\\tThe NEO Trial is a randomised clinical trial with a @ factorial design .\\n',\n",
       " 'METHODS\\tWe plan to randomise @ participants into four intervention groups : ( @ ) mammario-radial endoscopic group ; ( @ ) aorto-radial endoscopic group ; ( @ ) mammario-radial open surgery group ; and ( @ ) aorto-radial open surgery group.The hand function will be assessed by a questionnaire , a clinical examination , the change in cutaneous sensibility , and the measurement of both sensory and motor nerve conduction velocity at @months postoperatively .\\n',\n",
       " 'METHODS\\tAll the postoperative complications will be registered , and we will evaluate muscular function , scar appearance , vascular supply to the hand , and the graft patency including the patency of the central radial artery anastomosis .\\n',\n",
       " 'METHODS\\tA patency evaluation by multi-slice computer tomography will be done at one year postoperatively.We expect the nerve conduction studies and the standardised neurological examinations to be able to discriminate differences in hand function comparing endoscopic to open harvest of the radial artery .\\n',\n",
       " 'METHODS\\tThe trial also aims to show if there is any patency difference between mammario-radial compared to aorto-radial revascularisation techniques but this objective is exploratory .\\n',\n",
       " 'BACKGROUND\\tClinicalTrials.gov identifier : NCT@.Danish Ethics committee number : H-@-@-@ .\\n',\n",
       " 'BACKGROUND\\tDanish Data Protection Agency : @-@-@ / jr. n :@ -@ .\\n',\n",
       " '\\n',\n",
       " '###24284437\\n',\n",
       " 'BACKGROUND\\tKnowledge of essential amino acid requirements in infants is important because excessive intake of protein can lead to increased long-term morbidity such as obesity .\\n',\n",
       " 'BACKGROUND\\tA deficient intake may lead to suboptimal growth and impaired neurodevelopment .\\n',\n",
       " 'BACKGROUND\\tThe current recommended branched-chain amino acid requirements in infants aged @-@ mo are based on the amino acid content of human milk .\\n',\n",
       " 'OBJECTIVE\\tWe quantified the requirements for isoleucine , leucine , and valine for term neonates by using the indicator amino acid oxidation method with -LSB- @ - ( @ ) C -RSB- phenylalanine as the indicator .\\n',\n",
       " 'METHODS\\tFully enterally fed term infants received randomly graded amounts of isoleucine ( @-@ mg kg ( -@ ) d ( -@ ) ) , leucine ( @-@ mg kg ( -@ ) d ( -@ ) ) , or valine ( @-@ mg kg ( -@ ) d ( -@ ) ) as part of an elemental formula .\\n',\n",
       " 'METHODS\\tData are expressed as means SDs .\\n',\n",
       " 'RESULTS\\tEighty-three Asian , term neonates ( mean SD birth weight : @ @ kg ; gestational age : @ @ wk ) were studied at a postnatal age of @ @ d. Mean requirements for isoleucine , leucine , and valine ( measured in boys only ) were @ mg kg ( -@ ) d ( -@ ) ( r ( @ ) = @ , P < @ ) , @ mg kg ( -@ ) d ( -@ ) ( r ( @ ) = @ , P < @ ) , and @ mg kg ( -@ ) d ( -@ ) ( r ( @ ) = @ , P = @ ) , respectively .\\n',\n",
       " 'CONCLUSIONS\\tCurrent human milk-based recommendations for isoleucine and valine in term infants aged @-@ mo are correct .\\n',\n",
       " 'CONCLUSIONS\\tHowever , the current recommendation for leucine ( @ mg kg ( -@ ) d ( -@ ) ) is higher than the mean requirement of @ mg kg ( -@ ) d ( -@ ) that we determined in this study .\\n',\n",
       " 'CONCLUSIONS\\tThis trial was registered at www.trialregister.nl as NTR@ .\\n',\n",
       " '\\n',\n",
       " '###25585779\\n',\n",
       " 'OBJECTIVE\\tWe wanted to confirm the benefit of mometasone furoate ( MF ) in preventing acute radiation reactions , as shown in a previous study ( Bostrm et al , Radiother Oncol @ ; @:@ -@ ) .\\n',\n",
       " 'METHODS\\tThe study was a double-blind comparison of MF with D ( Diprobase ) , administered daily from the start of radiation therapy for @ weeks in patients receiving breast radiation therapy , @ Gy in @-Gy fractions daily over @ weeks .\\n',\n",
       " 'METHODS\\tThe primary endpoint was mean modified Radiation Therapy Oncology Group ( RTOG ) score .\\n',\n",
       " 'RESULTS\\tMean RTOG scores were significantly less for MF than for D ( P = @ ) .\\n',\n",
       " 'RESULTS\\tMaximum RTOG and mean erythema scores were significantly less for MF than for D ( P = @ and P = @ , respectively ) .\\n',\n",
       " 'RESULTS\\tThe Dermatology Life Quality Index ( DLQI ) score was significantly less for MF than for D at weeks @ and @ when corrected for Hospital Anxiety and Depression ( HAD ) questionnaire scores .\\n',\n",
       " 'CONCLUSIONS\\tMF cream significantly reduces radiation dermatitis when applied to the breast during and after radiation therapy .\\n',\n",
       " 'CONCLUSIONS\\tFor the first time , we have shown a significantly beneficial effect on quality of life using a validated instrument ( DLQI ) , for a topical steroid cream .\\n',\n",
       " 'CONCLUSIONS\\tWe believe that application of this cream should be the standard of care where radiation dermatitis is expected .\\n',\n",
       " '\\n',\n",
       " '###24332668\\n',\n",
       " 'OBJECTIVE\\tTo compare the interstage cardiac catheterization hemodynamic and angiographic findings between shunt types for the Pediatric Heart Network Single Ventricle Reconstruction trial .\\n',\n",
       " 'OBJECTIVE\\tThe trial , which randomized subjects to a modified Blalock-Taussig shunt ( MBTS ) or right ventricle-to-pulmonary artery shunt ( RVPAS ) for the Norwood procedure , demonstrated the RVPAS was associated with a smaller pulmonary artery diameter but superior @-month transplant-free survival .\\n',\n",
       " 'METHODS\\tWe analyzed the pre-stage II catheterization data for the trial subjects .\\n',\n",
       " 'METHODS\\tThe hemodynamic variables and shunt and pulmonary angiographic data were compared between shunt types ; their association with @-month transplant-free survival was also evaluated .\\n',\n",
       " 'RESULTS\\tOf @ randomized subjects , @ underwent pre-stage II catheterization .\\n',\n",
       " 'RESULTS\\tA smaller size , lower aortic and superior vena cava saturation , and higher ventricular end-diastolic pressure were associated with worse @-month transplant-free survival .\\n',\n",
       " 'RESULTS\\tThe MBTS group had a lower coronary perfusion pressure ( @ vs @ mm Hg ; P < @ ) and greater pulmonary blood flow/systemic blood flow ratio ( @ vs @ , P = @ ) .\\n',\n",
       " 'RESULTS\\tA greater pulmonary blood flow/systemic blood flow ratio increased the risk of death or transplantation only in the RVPAS group ( P = @ ) .\\n',\n",
       " 'RESULTS\\tThe MBTS group had fewer shunt ( @ % vs @ % , P = @ ) and severe left pulmonary artery ( @ % vs @ % , P = @ ) stenoses , larger mid-main branch pulmonary artery diameters , and greater Nakata indexes ( @ vs @ , P < @ ) .\\n',\n",
       " 'CONCLUSIONS\\tCompared with the RVPAS subjects , the MBTS subjects had more hemodynamic abnormalities related to shunt physiology , and the RVPAS subjects had more shunt or pulmonary obstruction of a severe degree and inferior pulmonary artery growth at pre-stage II catheterization .\\n',\n",
       " 'CONCLUSIONS\\tA lower body surface area , greater ventricular end-diastolic pressure , and lower superior vena cava saturation were associated with worse @-month transplant-free survival .\\n',\n",
       " '\\n',\n",
       " '###24379356\\n',\n",
       " 'OBJECTIVE\\tIt has been hypothesized that the development of diabetic polyneuropathy ( DPN ) is due to swelling of the nerve , as well as thickening and stiffening of the surrounding ligaments , causing chronic compression of nerves .\\n',\n",
       " 'OBJECTIVE\\tWe aimed to examine the effect of surgical decompression of the tibial nerve on the mean cross-sectional area ( CSA ) .\\n',\n",
       " 'METHODS\\tWe performed a randomized controlled trial of @ subjects with painful DPN diagnosed using the Diabetic Neuropathy Score .\\n',\n",
       " 'METHODS\\tA computer randomized for the surgery arm of the study .\\n',\n",
       " 'METHODS\\tA control group consisting of @ healthy subjects was included .\\n',\n",
       " 'METHODS\\tAn experienced sonographer measured the CSA and thickness-to-width ( T/W ) ratio of the tibial nerve , as well as the thickness of the flexor retinaculum .\\n',\n",
       " 'RESULTS\\tCSA is significantly larger in patients with painful DPN ( @ @ mm ( @ ) ) than in control subjects ( @ @ mm ( @ ) ) , P = @ .\\n',\n",
       " 'RESULTS\\tThe T/W ratio in patients with painful DPN is @ and in control subjects @ , P = @ .\\n',\n",
       " 'RESULTS\\tPatients with DPN have a significantly thicker retinaculum ( @ mm ) than control subjects ( @ mm ) , P < @ .\\n',\n",
       " 'RESULTS\\tMean follow-up was @ weeks ( range @-@ ) .\\n',\n",
       " 'RESULTS\\tDifference between baseline and follow-up in the operated leg was @ mm ( @ ) and in the control leg @ mm ( @ ) , P = @ .\\n',\n",
       " 'CONCLUSIONS\\tDecompression of the tibial nerve does not result in a significant difference between baseline and follow-up in CSA using ultrasound between the operated and control leg .\\n',\n",
       " 'CONCLUSIONS\\tUltrasound measurements show a significantly increased CSA , a significantly thicker retinaculum , and a significantly increased T/W ratio in patients with painful DPN compared with healthy control subjects .\\n',\n",
       " 'CONCLUSIONS\\tClinical trial reg .\\n',\n",
       " 'CONCLUSIONS\\tno .\\n',\n",
       " 'CONCLUSIONS\\tNTR@ , www.trialregister.nl .\\n',\n",
       " '\\n',\n",
       " '###25018097\\n',\n",
       " 'BACKGROUND\\tA community-based randomized trial was conducted in Costa Rica to evaluate the HPV-@ / @ AS@-adjuvanted vaccine ( NCT@ ) .\\n',\n",
       " 'BACKGROUND\\tThe primary objective was to evaluate efficacy of the vaccine to prevent cervical intraepithelial neoplasia @ or more severe disease ( CIN@ + ) associated with incident HPV-@ / @ cervical infections .\\n',\n",
       " 'BACKGROUND\\tSecondary objectives were to evaluate efficacy against CIN@ + associated with incident cervical infection by any oncogenic HPVs and to evaluate duration of protection against incident cervical infection with HPV-@ / @ .\\n',\n",
       " 'BACKGROUND\\tVaccine safety and immunogenicity over the @-year follow-up were also evaluated .\\n',\n",
       " 'METHODS\\tWe randomized ( @ HPV arm ; @ control arm ) , vaccinated ( HPV-@ / @ or Hepatitis A ) and followed ( median @ months ) @ healthy women aged @-@ years .\\n',\n",
       " 'METHODS\\t@ women ( @ HPV arm ; @ control arm ) were included in the according to protocol analysis for efficacy .\\n',\n",
       " 'METHODS\\tThe full cohort was evaluated for safety .\\n',\n",
       " 'METHODS\\tImmunogenicity was considered on a subset of @ ( HPV-@ ) and @ ( HPV-@ ) women .\\n',\n",
       " 'METHODS\\tHPV type was assessed by PCR on cervical specimens .\\n',\n",
       " 'METHODS\\tImmunogenicity was assessed using ELISA and inhibition enzyme immunoassays .\\n',\n",
       " 'METHODS\\tDisease outcomes were histologically confirmed .\\n',\n",
       " 'METHODS\\tVaccine efficacy and @ % confidence intervals ( @ % CI ) were computed .\\n',\n",
       " 'RESULTS\\tVaccine efficacy was @ % ( @ % CI : @-@ @ ; N = @ events total ) against HPV-@ / @ associated CIN@ + , @ % ( @ % CI : @-@ @ ; N = @ events total ) against CIN@ + associated with non-HPV-@ / @ oncogenic HPVs and @ % ( @ % CI : @-@ @ ; N = @ events total ) against CIN@ + irrespective of HPV type .\\n',\n",
       " 'RESULTS\\tThe vaccine had an acceptable safety profile and induced robust and long-lasting antibody responses .\\n',\n",
       " 'CONCLUSIONS\\tOur findings confirm the high efficacy and immunogenicity of the HPV-@ / @ vaccine against incident HPV infections and cervical disease associated with HPV-@ / @ and other oncogenic HPV types .\\n',\n",
       " 'CONCLUSIONS\\tThese results will serve as a benchmark to which we can compare future findings from the ongoing extended follow-up of participants in the Costa Rica trial .\\n',\n",
       " 'BACKGROUND\\tRegistered with clinicaltrials.gov : NCT@ .\\n',\n",
       " '\\n',\n",
       " '###24736930\\n',\n",
       " 'BACKGROUND\\tThere is a long-held concept among spine surgeons that endoscopic lumbar discectomy procedures are reserved for small-contained disc herniation ; @-year follow-up has not been reported .\\n',\n",
       " 'BACKGROUND\\tThe purpose of this study is to assess microendoscopic discectomy ( MED ) in patients with large uncontained lumbar disc herniation ( the antero-posterior diameter of the extruded fragment is @-@ mm or more on axial cuts of MRI ) and report long-term outcome .\\n',\n",
       " 'METHODS\\tOne hundred eighty-five patients with MED or standard open discectomy underwent follow-up for @ years .\\n',\n",
       " 'METHODS\\tPrimary ( clinical ) outcomes data included Numerical Rating Scale ( NRS ) for back and leg symptoms and Oswestry Disability Index ( ODI ) to quantify pain and disability , respectively .\\n',\n",
       " 'METHODS\\tSecondary ( objective ) outcomes data included operative time , blood loss , postoperative analgesics , length of hospital stay , time to return to work , reoperation and complication rate , patient satisfaction index ( PSI ) , and modified ( MacNab ) criteria .\\n',\n",
       " 'RESULTS\\tAt the end of the follow-up , the leg pain relief was statistically significant for both groups .\\n',\n",
       " 'RESULTS\\tNRS back pain , ODI , PSI and MacNab criteria showed significant deterioration for control group .\\n',\n",
       " 'RESULTS\\tSecondary outcomes data of MED group were significantly better than the control group .\\n',\n",
       " 'CONCLUSIONS\\tLarge , uncontained , lumbar disc herniations can be sufficiently removed using MED which is an effective alternative to open discectomy procedures with remarkable long-term outcome .\\n',\n",
       " 'CONCLUSIONS\\tAlthough the neurological outcome of the two procedures is the same , the morbidity of MED is significantly less than open discectomy .\\n',\n",
       " 'CONCLUSIONS\\tMaximum benefit can be gained if we adhere to strict selection criteria .\\n',\n",
       " 'CONCLUSIONS\\tThe optimum indication is single - or multi-level radiculopathy secondary to a single-level , large , uncontained , lumbar disc herniation .\\n',\n",
       " '\\n',\n",
       " '###25498992\\n',\n",
       " 'BACKGROUND\\tHeart failure ( HF ) patients suffer from frequent and repeated hospitalizations , causing a substantial economic burden on society .\\n',\n",
       " 'BACKGROUND\\tHospitalizations can be reduced considerably by better compliance with self-care .\\n',\n",
       " \"BACKGROUND\\tHome telemonitoring has the potential to boost patients ' compliance with self-care , although the results are still contradictory .\\n\",\n",
       " 'OBJECTIVE\\tA randomized controlled trial was conducted in order to study whether the multidisciplinary care of heart failure patients promoted with telemonitoring leads to decreased HF-related hospitalization .\\n',\n",
       " 'METHODS\\tHF patients were eligible whose left ventricular ejection fraction was lower than @ % , NYHA functional class @ , and who needed regular follow-up .\\n',\n",
       " 'METHODS\\tPatients in the telemonitoring group ( n = @ ) measured their body weight , blood pressure , and pulse and answered symptom-related questions on a weekly basis , reporting their values to the heart failure nurse using a mobile phone app .\\n',\n",
       " 'METHODS\\tThe heart failure nurse followed the status of patients weekly and if necessary contacted the patient .\\n',\n",
       " 'METHODS\\tThe primary outcome was the number of HF-related hospital days .\\n',\n",
       " 'METHODS\\tControl patients ( n = @ ) received multidisciplinary treatment according to standard practices .\\n',\n",
       " \"METHODS\\tPatients ' clinical status , use of health care resources , adherence , and user experience from the patients ' and the health care professionals ' perspective were studied .\\n\",\n",
       " 'RESULTS\\tAdherence , calculated as a proportion of weekly submitted self-measurements , was close to @ % .\\n',\n",
       " 'RESULTS\\tNo difference was found in the number of HF-related hospital days ( incidence rate ratio -LSB- IRR -RSB- = @ , P = @ ) , which was the primary outcome .\\n',\n",
       " 'RESULTS\\tThe intervention group used more health care resources : they paid an increased number of visits to the nurse ( IRR = @ , P < @ ) , spent more time at the nurse reception ( mean difference of @ minutes , P < @ ) , and there was a greater number of telephone contacts between the nurse and intervention patients ( IRR = @ , P < @ for nurse-induced contacts and IRR = @ , P = @ for patient-induced contacts ) .\\n',\n",
       " \"RESULTS\\tThere were no statistically significant differences in patients ' clinical health status or in their self-care behavior .\\n\",\n",
       " 'RESULTS\\tThe technology received excellent feedback from the patient and professional side with a high adherence rate throughout the study .\\n',\n",
       " \"CONCLUSIONS\\tHome telemonitoring did not reduce the number of patients ' HF-related hospital days and did not improve the patients ' clinical condition .\\n\",\n",
       " 'CONCLUSIONS\\tPatients in the telemonitoring group contacted the Cardiology Outpatient Clinic more frequently , and on this way increased the use of health care resources .\\n',\n",
       " 'BACKGROUND\\tClinicaltrials.gov NCT@ ; http://clinicaltrials.gov/show/NCT@ ( Archived by WebCite at http://www.webcitation.org/@UFxiCk@Z ) .\\n',\n",
       " '\\n',\n",
       " '###24411490\\n',\n",
       " 'OBJECTIVE\\tProbiotics help maintain balance in composition of the gut microbiota , and have been considered as a potential treatment for obesity .\\n',\n",
       " 'OBJECTIVE\\tThis study was conducted in order to assess the effects of probiotics when combined with herbal medicine in treatment of obesity .\\n',\n",
       " 'OBJECTIVE\\tProbiotics were tested for the ability to modulate gut microbiota , gut permeability , and endotoxin level , which may have correlation with factors involved in obesity .\\n',\n",
       " 'METHODS\\tA randomized , double-blind , placebo controlled study was conducted , in which patients with higher BMI ( > @kg/m ( @ ) ) and waist circumference ( > @cm ) were enrolled and randomly assigned to receive Bofutsushosan with either probiotics or placebo capsules for a period of eight weeks .\\n',\n",
       " 'METHODS\\tAssessment of body composition parameters , metabolic biomarkers , endotoxin level , gut permeability , and fecal bacteria in stool was performed at baseline and at week @ .\\n',\n",
       " 'METHODS\\tThe study was registered at the Clinical Research Information Service , approved by the Korea National Institute of Health ( KCT@ ) .\\n',\n",
       " 'RESULTS\\tAlthough both groups showed a significant reduction in weight and waist circumference ( p = @ ) , no significant differences in body composition and metabolic markers were observed .\\n',\n",
       " 'RESULTS\\tIn correlation analysis , change in body composition showed positive correlation with endotoxin level ( r = @ , p < @ for BW ; and r = @ , p < @ for fat mass ) and the population of gut Lactobacillus plantarum ( r = @ , p < @ for BW ; and r = @ , p < @ for BMI ) .\\n',\n",
       " 'RESULTS\\tThe Gram negative bacterial population in gut also exhibited positive correlation with changes in body composition ( WC ) and total cholesterol level ( r = @ , and @ , for the former and later parameters , respectively , p < @ for both ) .\\n',\n",
       " 'RESULTS\\tWhile , the profile of gut Bifidobacterium breve population showed negative correlation with endotoxin level ( r = -@ , p < @ ) .\\n',\n",
       " 'CONCLUSIONS\\tCorrelations between gut microbiota and change in body composition indicate that probiotics may influence energy metabolism in obesity .\\n',\n",
       " 'CONCLUSIONS\\tCorrelation between endotoxin level and weight reduction indicates that probiotics may play an important role in prevention of endotoxin production , which can lead to gut microbiota dysbiosis associated with obesity .\\n',\n",
       " '\\n',\n",
       " '###24471516\\n',\n",
       " 'OBJECTIVE\\tThe objective of this study is to analyze the effects of a @-week indoor intermittent training program on lung function , physical capacity , body composition and quality of life in children with asthma .\\n',\n",
       " 'METHODS\\tParticipants were randomized in an experimental group ( EG , @ children , age = @ years ) and in a control group ( CG , @ children , age = @ years ) .\\n',\n",
       " 'METHODS\\tThe training program was conducted indoors and consisted of alternating high - and low-intensity stimuli , for three sessions of @min/week , for @ weeks .\\n',\n",
       " \"METHODS\\tPhysical exercise and sports activities were organized to follow the criteria of the American College of Sports Medicine ( @ ) and previous interventions ' studies .\\n\",\n",
       " 'RESULTS\\tIn EG , there was a significant improvement ( p < @ ) in FEV@ , FEV@ , @MWT , handgrip strength , CMJ and flexibility .\\n',\n",
       " 'RESULTS\\tReductions in BMI and fat mass as well as an increase in quality of life were all shown .\\n',\n",
       " 'RESULTS\\tThe dyspnea index decreased significantly and there were no episodes of EIA .\\n',\n",
       " 'RESULTS\\tThere is a significant positive correlation ( p < @ ) between the FEV@ with handgrip strength and @MWT and a negative correlation with fat mass .\\n',\n",
       " 'CONCLUSIONS\\tAn indoor intermittent training program with these characteristics has improved lung function , physical capacity , body composition and quality of life in children with asthma .\\n',\n",
       " 'CONCLUSIONS\\tThese training adaptations are particularly relevant for those patients suffering from asthma as a regular physical exercise routine will greatly improve their quality of life .\\n',\n",
       " '\\n',\n",
       " '###26255514\\n',\n",
       " 'OBJECTIVE\\tTo observe the efficacy of catgut implantation at back-shu points in treatment of mild perimenopausal depression of kidney , deficiency and liver stagnation syndrome and analyze its essential function on target symptoms .\\n',\n",
       " 'METHODS\\tForty-five cases were randomized into a catgut implantation group ( @ cases ) and atid acupuncture group ( @ cases ) .\\n',\n",
       " 'METHODS\\tIn the catgut implantation group , catguts were implanted at Shenshu ( BL @ ) , Ganshu ( BL @ ) , Xinshu ( BL @ ) , Pishu ( BL @ ) , etc. , once every week .\\n',\n",
       " 'METHODS\\tIn the acupuncture group , the conventional acupuncture was applied to the same acupoints as the catgut implantation group , once every two days .\\n',\n",
       " 'METHODS\\tThe : treatment of @ weeks made one session , and continuous @ sessions were required .\\n',\n",
       " 'METHODS\\tThe efficacy was evaluated in , @ sessions .\\n',\n",
       " 'METHODS\\tThe follow-up started in the @th week .\\n',\n",
       " 'METHODS\\tBefore treatment , after treatment and in the follow-up period , Kupperman score and the total score in Hamilton depression scale ( HAMD ) , as well as the factor score were observed in the patients separately .\\n',\n",
       " 'RESULTS\\tKupperman score , the total HAMD score and the scores in the items of anxiety/somatization , retardation , sleep disorder and cognitive disorder after treatment were all reduced significantly as compared with those before treatment in the two groups ( P < @ , P < @ ) .\\n',\n",
       " 'RESULTS\\tIn the follow-up period , the difference in Kupperman was not significant in comparison with that after treatment in the catgut implantation : group ( P > @ ) .\\n',\n",
       " 'RESULTS\\tThe total HAMD score and sleep disorder were reduced significantly as compared with those after treatment in the catgut implantation group ( both P < @ ) ; in the acupuncture group , Kupperman score , the total HAMD score and sleep disorder were all increased as compared with those after treatment ( all P < @ ) .\\n',\n",
       " 'RESULTS\\tIn ; the catgut implantation group , the total HAMD score was lower than that in the acupuncture group ( P < @ ) , and the scores in the items of retardation and sleep disorder were reduced significantly as compared with those in the acupuncture group ( both P < @ ) .\\n',\n",
       " 'CONCLUSIONS\\tThe catgut implantation at back-shu points alleviates perimenopasual sympton is in patients of mild perimenopausal depression of kidney deficiency and liver stagnation syndrome .\\n',\n",
       " \"CONCLUSIONS\\tThis therapy effectively relieves depressive disorders by regulating the target symptoms such as anxiety / somatization , retardation , sleep disorder and cognitive ' disorder .\\n\",\n",
       " 'CONCLUSIONS\\tThe long-term efficacy of this therapy is better than the conventional acupuncture .\\n',\n",
       " '\\n',\n",
       " '###24952391\\n',\n",
       " 'OBJECTIVE\\tUp to @ % of patients who undergo a percutaneous coronary intervention show some limitation in the use of drug-eluting stents .\\n',\n",
       " 'OBJECTIVE\\tThe aim of this study was to evaluate if titanium-nitride-oxide-coated stents could be a good alternative to everolimus-eluting stents in diabetic patients .\\n',\n",
       " 'METHODS\\tA total of @ diabetic patients with lesions at moderate risk of restenosis ( exclusion criteria : diameter < @ mm or length > @ mm in vessels < @mm , chronic occlusion ) were randomized to a titanium group ( @ patients ) or an everolimus group ( @ patients ) .\\n',\n",
       " 'RESULTS\\tBaseline characteristics were well balanced ; @ % of patients were insulin dependent .\\n',\n",
       " 'RESULTS\\tAt @ year , the incidence of major adverse cardiac events ( death , nonfatal myocardial infarction , stroke , or repeat target vessel revascularization ) was significantly higher in the titanium group than in the everolimus group ( total , @ % vs @ % ; P = @ ; noninsulin-dependent subgroup , @ % vs @ % ; P = @ ; insulin-dependent subgroup , @ % vs @ % ; P = @ ) .\\n',\n",
       " 'RESULTS\\tThe incidence of death , nonfatal myocardial infarction , stroke , or any revascularization was @ % in the titanium group and @ % in the everolimus group ( P = @ ) .\\n',\n",
       " 'RESULTS\\tTarget lesion and vessel revascularizations occurred in @ % compared with @ % ( P = @ ) and in @ % compared with @ % ( P = @ ) in the titanium and everolimus groups , respectively .\\n',\n",
       " 'RESULTS\\tAngiographic follow-up at @ months showed significantly less late lumen loss in the everolimus group ( in-segment , @ -LSB- standard deviation , @ ) mm vs -@ -LSB- @ -RSB- mm ; in-stent , @ -LSB- @ -RSB- mm vs @ -LSB- @ -RSB- mm ; P < @ ) .\\n',\n",
       " 'CONCLUSIONS\\tThe everolimus-eluting stent is superior to the titanium stent for clinical and angiographic end points in diabetic patients with lesions at moderate risk of restenosis .\\n',\n",
       " '\\n',\n",
       " '###25516006\\n',\n",
       " 'OBJECTIVE\\tTo evaluate the safety of the fixed combination of ibuprofen and famotidine compared with ibuprofen alone from two @-week , multicenter , double-blind trials designed to evaluate the comparative incidence of endoscopically documented upper gastrointestinal ulcers and a @-week double-blind extension study .\\n',\n",
       " 'METHODS\\tSafety was analyzed by pooling data from the two double-blind trials and the follow-on study .\\n',\n",
       " 'METHODS\\tSafety was assessed by monitoring the incidence , causality , and severity of adverse events ( AEs ) .\\n',\n",
       " 'RESULTS\\tIn the pivotal efficacy and safety trials , discontinuation rates due to any cause and dyspepsia were significantly lower for the ibuprofen/famotidine combination versus ibuprofen alone .\\n',\n",
       " 'RESULTS\\tOther than dyspepsia , gastrointestinal and cardiovascular AEs of special interest were similar .\\n',\n",
       " 'RESULTS\\tEvents judged to be treatment related were significantly lower with the ibuprofen/famotidine combination ( @ % vs. @ % ) .\\n',\n",
       " 'RESULTS\\tIn the safety extension population , there were no differences in the discontinuation rates and the reporting of AEs or serious AEs ( SAEs ) between the two groups .\\n',\n",
       " 'RESULTS\\tGastrointestinal-related events were similar between the groups .\\n',\n",
       " 'RESULTS\\tIncidence of cardiovascular-related AEs of special interest were @ % ( ibuprofen/famotidine ) and @ % ( ibuprofen ) ( p = @ ) , possibly due to a higher number of rheumatoid arthritis patients in the combination group .\\n',\n",
       " 'RESULTS\\tOf these , @ % were reports of hypertension ( @ % ibuprofen/famotidine vs. @ % ibuprofen ) .\\n',\n",
       " 'RESULTS\\tThree cases of hypertension in the ibuprofen/famotidine group were considered treatment related .\\n',\n",
       " 'RESULTS\\tThe probability of a cardiovascular event decreased during days @-@ of treatment and remained low with continued treatment .\\n',\n",
       " 'CONCLUSIONS\\tOne-year safety data from two pivotal trials and a long-term extension study indicate that the ibuprofen/famotidine combination demonstrates a favorable gastrointestinal safety profile and more patients continued on therapy compared to ibuprofen alone .\\n',\n",
       " 'CONCLUSIONS\\tNo new safety signals have been identified .\\n',\n",
       " 'CONCLUSIONS\\tThese data offer additional evidence supporting a new therapeutic option to improve gastrointestinal safety and adherence for patients who require long-term ibuprofen .\\n',\n",
       " '\\n',\n",
       " '###24851689\\n',\n",
       " 'OBJECTIVE\\tTo compare the effects of volume-controlled ventilation ( VCV ) and pressure-controlled volume-guaranteed ( PCV-VG ) mode during one-lung ventilation ( OLV ) on circulation , pulmonary function and lung injury .\\n',\n",
       " 'METHODS\\t@ February to @ March in Ningbo No@ .\\n',\n",
       " 'METHODS\\tHospital cardiothoracic surgery , @ patients aged @ to @ years ( ASA grade II-III ) undergoing elective thoracoscopic lobectomy were randomly divided into VCV group and PCV-VG group , with @ cases in each group .\\n',\n",
       " 'METHODS\\tAfter anesthesia induction and endotracheal intubation , endobronchial blocker was inserted to start OLV .\\n',\n",
       " 'METHODS\\tHeart rate ( HR ) , mean arterial pressure ( MAP ) , measured tidal volume ( TV ) , peak airway pressure ( Ppeak ) , airway resistance ( Raw ) , chest compliance ( Cdyn ) and the end-tidal carbon dioxide pressure ( PetCO ( @ ) ) were recorded at the time point of @ minutes after turning to the lateral position , @ minutes and @ minutes after OLV , and @ minutes after the resumption of two lung ventilation .\\n',\n",
       " 'METHODS\\tIn the meanwhile , arterial blood gas analysis was conducted to measure indicators of pH , oxygen tension ( PaO ( @ ) ) and carbon dioxide partial pressure ( PaCO ( @ ) ) .\\n',\n",
       " 'METHODS\\tBlood was drawn before induction , @ hour after OLV and @ hour after the end of surgery , and the concentration of interleukin-@ ( IL-@ ) and tumor necrosis factor-alpha ( TNF - ) were detected by enzyme-linked immunosorbent assay ( ELISA ) .\\n',\n",
       " 'RESULTS\\tHR , MAP , TV , PetCO ( @ ) , pH and PaCO ( @ ) in two groups at the time point of @ minutes after turning to the lateral position , @ minutes and @ minutes after OLV , and @ minutes after the resumption of two lung ventilation showed no significant difference ( P > @ ) .\\n',\n",
       " 'RESULTS\\tAt the point of @ minutes after turning to the lateral position and @ minutes after two lung ventilation , Ppeak and Cdyn of two groups were significantly different ( P < @ ) ( Ppeak :@ @ cmH ( @ ) O , @ @ cmH ( @ ) O for VCV group and @ @ cmH ( @ ) O , @ @ cmH ( @ ) O for PCV-VG group ; Cdyn : @ @ ml/cmH ( @ ) O , @ @ ml/cmH@O for VCV group and @ @ ml/cmH ( @ ) O , @ @ ml/cmH ( @ ) O for PCV-VG group ) .\\n',\n",
       " 'RESULTS\\tCompared with VCV group , PCV-VG group showed a lower Ppeak @ minutes and @ minutes after OLV -LSB- ( @ @ cmH ( @ ) O ) vs ( @ @ cmH ( @ ) O ) and ( @ @ cmH ( @ ) O ) vs ( @ @ cmH ( @ ) O ) with a higher Cdyn at the same point ( @ @ ml/cmH ( @ ) O ) vs ( @ @ ml/cmH ( @ ) O ) and @ @ ml/cmH ( @ ) O ) vs ( @ @ ml/cmH ( @ ) O ) -RSB- ( P < @ ) .\\n',\n",
       " 'RESULTS\\tCompared with VCV group,IL-@ and TNF - of PCV-VG group @ hour after OLV and @ hour after the end of surgery were significantly lower ( P < @ ) ( IL-@ : @ @ vs @ @ pg/ml and @ @ vs @ @ pg/ml ; TNF - : @ @ vs @ @ pg/ml and @ @ vs. @ @ pg/ml ) .\\n',\n",
       " 'CONCLUSIONS\\tDuring one-lung ventilation in thoracoscopic lobectomy , PCV-VG mode has a competitive advantage over VCV mode in terms of pulmonary function and lung protection .\\n',\n",
       " '\\n',\n",
       " '###24748400\\n',\n",
       " 'OBJECTIVE\\tWe compared the recovery profile of propofol and sevoflurane when used for maintenance of anesthesia in elective day care operative procedures .\\n',\n",
       " 'METHODS\\tOne hundred ASA physical status I and II patients , aged between @ and @ years , were randomly assigned to receive either propofol-nitrous oxide or sevoflurane-nitrous oxide maintenance of anesthesia .\\n',\n",
       " 'METHODS\\tEarly and intermediate recovery in terms of cognitive and ambulatory functions was recorded .\\n',\n",
       " 'METHODS\\tPsychomotor testing , in the form of Trieger dot test and digit symbol substitution test , were performed before surgery and in the post-anesthesia care unit at @ min , @ min , @ h , @ h , and @ h following nitrous oxide switch-off to evaluate intermediate recovery .\\n',\n",
       " \"RESULTS\\tThere were no significant differences in recovery of early cognitive functions between the two groups , except that patients in the sevoflurane group were more responsive at around @ min following nitrous oxide switch-off and `` recalled address '' earlier than patients in the propofol group .\\n\",\n",
       " \"RESULTS\\tThere was no significant difference in between the two groups with regard to `` home-readiness . ''\\n\",\n",
       " \"CONCLUSIONS\\tRecovery from sevoflurane anesthesia , especially with regard to cognitive functions , may be slightly faster than from propofol , but the difference is not sufficiently significant to affect the time to `` home-readiness '' in patients undergoing day care surgery .\\n\",\n",
       " '\\n',\n",
       " '###24594499\\n',\n",
       " \"BACKGROUND\\tVertigo imposes considerable health restrictions with significant impact on the patient 's quality of life .\\n\",\n",
       " 'BACKGROUND\\tThe most effective antivertigo agent is undetermined thus far .\\n',\n",
       " 'OBJECTIVE\\tThis study was performed to assess whether promethazine has superior vertigo reduction compared with lorazepam in ED patients .\\n',\n",
       " 'METHODS\\tIn this randomized , double-blind , parallel group trial @ patients were assigned ( @:@ ratio ) to receive either promethazine , @ mg intravenously , or lorazepam , @ mg intravenously .\\n',\n",
       " 'METHODS\\tPrimary endpoint was mean change in vertigo intensity at @ hours measured using visual analog scale ( VAS ) .\\n',\n",
       " 'METHODS\\tSecondary endpoints were mean change in nausea score , need for second dose of study medications , and adverse events ( AEs ) .\\n',\n",
       " 'RESULTS\\tPromethazine was associated with significantly more reduction ( @ mm ) in vertigo than lorazepam ( @ mm , p < @ ) .\\n',\n",
       " 'RESULTS\\tMean change in nausea score @ hours after drug injection on the VAS was @ mm for promethazine and @ for lorazepam ( p = @ ) .\\n',\n",
       " 'RESULTS\\tThe most frequently reported AEs were lethargy ( @ % in lorazepam group , @ % in promethazine group , p = @ ) and drowsiness ( @ % for promethazine , @ % for lorazepam , p = @ ) .\\n',\n",
       " 'CONCLUSIONS\\tOur study demonstrated the evidence that promethazine is superior to lorazepam in management of peripheral vertigo and vertigo-related nausea in ED adults .\\n',\n",
       " '\\n',\n",
       " '###24604111\\n',\n",
       " 'BACKGROUND\\tDuring lower limb lengthening , distraction-induced muscle pain and surrounding joint contractures are frustrating complications for which few effective treatments are available .\\n',\n",
       " 'OBJECTIVE\\tWe evaluated Botulinum Toxin Type A ( BtX-A ) injection in the calf muscles during human tibial distraction osteogenesis .\\n',\n",
       " 'OBJECTIVE\\tWe hypothesized that it may decrease calf pain and increase ROM of the surrounding joints by reducing muscle stiffness .\\n',\n",
       " 'METHODS\\tBetween April @ and January @ , we evaluated @ patients undergoing bilateral tibia lengthening who met prespecified inclusion criteria .\\n',\n",
       " 'METHODS\\tAll patients underwent stature lengthening with lengthening over a nail or lengthening and then nailing .\\n',\n",
       " 'METHODS\\tBtX-A ( @IU ) was injected at the calf muscle only in one leg for each patient and the same amount of sterile normal saline was injected into the other leg as a control .\\n',\n",
       " 'METHODS\\tSelection of the leg receiving the toxin was randomized .\\n',\n",
       " 'METHODS\\tClinical evaluation included a VAS score for calf pain and measurement of ROM of the knees and ankles and calf circumference , with evaluations performed in a double-blinded manner .\\n',\n",
       " 'METHODS\\tSide-to-side differences were analyzed until the end of consolidation phase .\\n',\n",
       " 'METHODS\\tMinimum followup was @months ( mean , @months ; range , @-@months ) .\\n',\n",
       " 'METHODS\\tThe distraction rate and the final length gain were similar in the treated and control limbs .\\n',\n",
       " 'METHODS\\tA priori power analysis suggested that @ legs were required to achieve statistical significance of @ with @ % of power to detect a @ % difference in treatment effect between treatment and control groups .\\n',\n",
       " 'RESULTS\\tThere were no differences in calf pain , knee and ankle ROM , and maximal calf circumferences between the two legs at each time point .\\n',\n",
       " 'CONCLUSIONS\\tLocal injection of @IU BtX-A at the human calf muscle does not appear to reduce calf pain or help enhance ROM of the knee and ankle during tibial lengthening .\\n',\n",
       " 'CONCLUSIONS\\tHowever , the small sample size provided sufficient power to detect only relatively large clinical effects ; future , larger trials will be needed to determine whether smaller differences are present .\\n',\n",
       " 'METHODS\\tLevel II , therapeutic study .\\n',\n",
       " 'METHODS\\tSee Instructions for Authors for a complete description of levels of evidence .\\n',\n",
       " '\\n',\n",
       " '###25872390\\n',\n",
       " 'OBJECTIVE\\tTo assess potential of preoperative therapy with local steroid and non-steroid anti-inflammatory drugs ( SAIDs and NSAIDs ) for prolonging the hypotensive effect of trabeculectomy .\\n',\n",
       " 'METHODS\\tA total of @ patients with primary open-angle glaucoma planed for trabeculectomy were randomized into @ groups of @ each : @ groups that differed in the studied drug ( nepafenac , dexamethasone , or their non-fixed combination ) and a control group with no preoperative therapy .\\n',\n",
       " 'METHODS\\tThe patients instilled @ drop of either drug b.i.d. for @ weeks before the surgery and were examined each day of the first week and then at weeks @ , @ , @ and months @ , @ , and @ .\\n',\n",
       " 'METHODS\\tThe rate of postoperative surgical and medical interventions ( needling , needling revision , hypotensive therapy ) was used for outcome evaluation .\\n',\n",
       " 'RESULTS\\tPostoperative needling was required in @ % of the controls , @ % of the NSAIDs and @ % of the SAIDs patients as well as @ % the combination-therapy patients .\\n',\n",
       " 'RESULTS\\tNeedling revision had to be performed in @ % of patients from the control group and @ % of patients from the NSAIDs group .\\n',\n",
       " 'RESULTS\\tPatients from the steroid and combination-therapy groups had no need in needling procedure .\\n',\n",
       " 'RESULTS\\tFurther hypotensive therapy was required in @ % of the control group , @ % of the NSAIDs group , @ % of the SAIDs group and @ % of the combination-therapy group .\\n',\n",
       " 'RESULTS\\tDuring the first postoperative year complete success of the treatment was achieved in @ % of the controls , @ % of the NSAIDs patients , @ % of the SAIDs patients , and @ % of those under combination therapy .\\n',\n",
       " 'RESULTS\\tQualified success during the same period was achieved in @ % of cases .\\n',\n",
       " 'CONCLUSIONS\\tPreoperative local anti-inflammatory therapy helped to increase the one-year complete success rate after trabeculectomy as compared with the controls .\\n',\n",
       " 'CONCLUSIONS\\tThe most significant hypotensive effect was noted in the combination-therapy group ( @ % ) , less significant -- in the steroid and non-steroid monotherapy groups ( @ % and @ % correspondingly ) .\\n',\n",
       " 'CONCLUSIONS\\tA negative correlation was noted between the use of nepafenac and dexamethasone and other measures aimed at increasing the hypotensive effect of glaucoma surgery .\\n',\n",
       " '\\n',\n",
       " '###25899215\\n',\n",
       " 'METHODS\\tCase-control study ; ecological study .\\n',\n",
       " 'OBJECTIVE\\tTo examine the efficacy of wearing compression stockings to prevent muscle damage and to maintain running performance during a marathon competition .\\n',\n",
       " 'BACKGROUND\\tExercise-induced muscle damage has been identified as one of the main causes of the progressive decrease in running and muscular performance found during marathon races .\\n',\n",
       " 'METHODS\\tThirty-four experienced runners were pair-matched for age , anthropometric data , and best race time in the marathon , and randomly assigned to a control group ( n = @ ) of runners who wore conventional socks or to a group of runners who wore foot-to-knee graduated compression stockings ( n = @ ) .\\n',\n",
       " 'METHODS\\tBefore and after the race , a sample of venous blood was obtained , and jump height and leg muscle power were measured during a countermovement jump .\\n',\n",
       " 'METHODS\\tSerum myoglobin and creatine kinase concentrations were determined as blood markers of muscle fiber damage .\\n',\n",
       " 'RESULTS\\tTotal race time was not different between the control group and the compression stockings group ( @ @ and @ @ minutes , respectively ; P = @ ) .\\n',\n",
       " 'RESULTS\\tBetween the control group and the compression stockings group , postrace reductions in leg muscle power ( -@ % @ % versus -@ % @ % , respectively ; P = @ ) and jump height ( -@ % @ % versus -@ % .\\n',\n",
       " 'RESULTS\\t@ % , respectively ; P = @ ) were similar .\\n',\n",
       " 'RESULTS\\tAt the end of the race , there were no differences between the control group and the compression stockings group in serum myoglobin ( @ @ ngmL ( -@ ) versus @ @ ngmL ( -@ ) , respectively ; P = @ ) and creatine kinase concentration ( @ @ UL ( -@ ) versus @ @ UL ( -@ ) , respectively ; P = @ ) .\\n',\n",
       " 'CONCLUSIONS\\tThe use of compression stockings did not improve running pace and did not prevent exercise-induced muscle damage during the marathon .\\n',\n",
       " 'CONCLUSIONS\\tWearing compression stockings during long-distance running events is an ineffective strategy to avoid the deleterious effects of muscle damage on running performance .\\n',\n",
       " 'METHODS\\tTherapy , level @b .\\n',\n",
       " '\\n',\n",
       " '###24361853\\n',\n",
       " 'BACKGROUND\\tThe relationships of left ventricular ( LV ) longitudinal and circumferential systolic dysfunction with diastolic performance in hypertensive patients have never been compared .\\n',\n",
       " \"RESULTS\\tIn @ asymptomatic hypertensive patients , circumferential function was assessed with the use of midwall fractional shortening ( mFS ) and stress-corrected mFS ( SCmFS ) , whereas longitudinal function was assessed with the use of left atrioventricular plane displacement ( AVPD ) and systolic mitral annulus velocity ( s ' ) .\\n\",\n",
       " \"RESULTS\\tEarly diastolic annular velocity ( e ' ) and the E/e ' ratio were measured .\\n\",\n",
       " 'RESULTS\\tGlobal longitudinal and circumferential strain were determined in a subset of @ patients .\\n',\n",
       " \"RESULTS\\te ' was linearly related to all systolic indexes ( AVPD : R = @ ; s ' : R = @ ; mFS : R = @ ; SCmFS : R = @ ; all P < @ ) , but the correlations were stronger with longitudinal indexes than with circumferential ones ( P < @ ) .\\n\",\n",
       " \"RESULTS\\tE/e ' was nonlinearly related to AVPD ( R = -@ ; P < @ ) and s ' ( R = -@ ; P < @ ) and showed no relationship with mFS and SCmFS .\\n\",\n",
       " \"RESULTS\\tLongitudinal indexes were superior to circumferential ones in predicting e ' < @ cm/s , E/e ' < @ , and E/e ' @ .\\n\",\n",
       " 'RESULTS\\tThe effect of LV geometry on LV diastolic function was evident among patients with preserved systolic longitudinal function , but was blunted among patients with impaired longitudinal function .\\n',\n",
       " \"RESULTS\\tIn multivariable analyses , only longitudinal indexes remained associated with e ' and E/e ' .\\n\",\n",
       " 'RESULTS\\tAnalyses using strains provided similar results .\\n',\n",
       " 'CONCLUSIONS\\tIn asymptomatic hypertensive subjects , LV diastolic performance is independently associated with longitudinal systolic dysfunction , but not with circumferential systolic dysfunction .\\n',\n",
       " 'CONCLUSIONS\\tSubtle longitudinal systolic impairment plays a role in mediating the effect of LV geometry on diastolic performance .\\n',\n",
       " 'CONCLUSIONS\\tThese findings may support the need of critically revising the concept of isolated diastolic dysfunction in these patients .\\n',\n",
       " '\\n',\n",
       " '###25395709\\n',\n",
       " 'BACKGROUND\\tMultiple Sclerosis ( MS ) is a chronic and disabling disease resulting in disabilities in young and middle-aged persons .\\n',\n",
       " 'BACKGROUND\\tIn this study , researchers explored the effect of yoga techniques on physical activities and sexual function among some Iranian women with MS.\\n',\n",
       " 'METHODS\\tIn this study , @ Iranian women with multiple sclerosis ( MS ) were placed in two equally divided control and case groups through random selection to assess pre-and post-effects of yoga exercises on their physical activities and sexual satisfaction levels .\\n',\n",
       " 'METHODS\\tWomen in case group were offered a series of yoga training and exercises for @ months , which consisted of @ sessions per month for @ to @ minutes at each session .\\n',\n",
       " 'METHODS\\tYoga training program included the @ principles of slow motions ( Hatayoga ) , respiratory exercises ( Pranayama ) and centralization to control mind via meditation , expansion and stasis ( Rajayoga ) .\\n',\n",
       " 'METHODS\\tAfter @ months both groups were surveyed using the initial questionnaire to evaluate and compare findings with the base-line data .\\n',\n",
       " 'RESULTS\\tResearchers found significant statistical difference in physical activity and sexual satisfaction levels among the women in case group ( P = @ ) .\\n',\n",
       " 'RESULTS\\tWomen in case group showed improvement in physical ability while women in control group manifested exacerbated symptoms .\\n',\n",
       " 'CONCLUSIONS\\tYoga techniques may improve physical activities and sexual satisfaction function of women with MS.\\n',\n",
       " '\\n',\n",
       " '###26080882\\n',\n",
       " 'OBJECTIVE\\tTo evaluate the safety and efficacy of antiplatelet therapy of ticagrelor on patients suffering from acute ST segment elevation myocardial infarction undergoing primary percutaneous coronary intervention .\\n',\n",
       " 'METHODS\\tIn the study , @ patients suffering from acute ST segment elevation myocardial infarction onset within @ h undergoing primary percutaneous coronary intervention from May to October in @ were randomly divided into ticagrelor group ( n = @ ) and clopidogrel group ( n = @ ) by using the method of random number table .\\n',\n",
       " 'METHODS\\tTicagrelor and clopidogrel antiplatelet treatment were used before and after operation .\\n',\n",
       " 'METHODS\\tTheir baseline data , coronary artery disease characteristics , platelet count , adenosine diphosphate ( ADP ) - induced platelet inhibition rate by thrombelastograph after @ days of treatment , the major adverse cardiovascular events of the follow up for @ months and bleeding complications were observed and compared in the two groups .\\n',\n",
       " 'RESULTS\\tThe differences between the two groups of patients with their baseline data , the features of coronary artery lesions , platelet count before and after @ days of treatment had no statistical significance ( P > @ ) .\\n',\n",
       " 'RESULTS\\tADP induced platelet inhibition rate -LSB- ( @ ) % -RSB- after @ days of treatment in ticagrelor group was significantly higher than that in clopidogrel group -LSB- ( @ ) % , P < @ -RSB- .\\n',\n",
       " 'RESULTS\\tThe two groups of patients were followed up for @ months , @ cases of major adverse cardiovascular events occurred in clopidogrel group , @ cases of major adverse cardiovascular events occurred in ticagrelor group , and there was significant difference between the two groups ( P < @ ) .\\n',\n",
       " 'RESULTS\\tThe two groups ( @ cases of @ patients in ticagrelor group vs. @ cases of @ patients in clopidogrel group ) had no statistically significant difference in bleeding complications ( P > @ ) .\\n',\n",
       " 'CONCLUSIONS\\tAntiplatelet therapy of ticagrelor on patients suffering from acute ST segment elevation myocardial infarction undergoing emergency PCI has good efficacy and safety .\\n',\n",
       " '\\n',\n",
       " '###25100336\\n',\n",
       " 'OBJECTIVE\\tTo evaluate the image quality , radiation dose and diagnostic accuracy of @kVp , high-pitch CT pulmonary angiography ( CTPA ) with iterative reconstruction using @ ml of contrast agent .\\n',\n",
       " 'METHODS\\tOne hundred patients with suspected pulmonary embolism ( PE ) were randomly divided into two groups ( n = @ each ; group A , @ kVp , @ pitch , @ ml of contrast medium and filtered back projection algorithm ; group B , @ kVp , @ pitch , @ ml of contrast medium and sinogram affirmed iterative reconstruction ) .\\n',\n",
       " 'METHODS\\tImage quality , diagnostic accuracy and radiation dose were evaluated and compared .\\n',\n",
       " 'RESULTS\\tMean CT numbers of pulmonary arteries in group B were higher than those in group A ( all P < @ ) .\\n',\n",
       " 'RESULTS\\tContrast-to-noise ratio and signal-to-noise ratio of group B were higher than those of group A ( both P < @ ) .\\n',\n",
       " 'RESULTS\\tThere was no significant difference in subjective image quality scores between two groups ( P = @ ) .\\n',\n",
       " 'RESULTS\\tThe interobserver agreement was excellent ( k = @ ) .\\n',\n",
       " 'RESULTS\\tThere was no significant difference in diagnostic accuracy between the two groups ( P > @ ) .\\n',\n",
       " 'RESULTS\\tCompared with group A , radiation dose of group B was reduced by @ % ( P < @ ) .\\n',\n",
       " 'CONCLUSIONS\\tHigh-pitch CTPA at @ kVp can obtain sufficient image quality in normal-weight individuals with @ ml of contrast agent and half the radiation dose of a conventional CTPA protocol .\\n',\n",
       " 'CONCLUSIONS\\tCTPA is feasible at @ kVp using only @ ml of contrast agent .\\n',\n",
       " 'CONCLUSIONS\\tHigh-pitch CTPA at @ kVp has an effective dose under @ mSv .\\n',\n",
       " 'CONCLUSIONS\\tThis CTPA protocol can obtain sufficient image quality in normal-weight individuals .\\n',\n",
       " '\\n',\n",
       " '###25267532\\n',\n",
       " 'BACKGROUND\\tFamilies express a need for guidance in helping their loved ones with anorexia nervosa ( AN ) .\\n',\n",
       " 'BACKGROUND\\tGuided self-help interventions can offer support to caregivers .\\n',\n",
       " 'METHODS\\tOne hundred seventy-eight adult AN patients and their caregivers were recruited from @ UK treatment centres .\\n',\n",
       " \"METHODS\\tFamilies were randomized to carers ' assessment , skills and information sharing ( C ) intervention + treatment as usual ( TAU ) or TAU alone .\\n\",\n",
       " 'METHODS\\tFeedback forms were sent at @months post-discharge and , if not returned , at @months .\\n',\n",
       " 'METHODS\\tOne hundred two ( @ % ) patient forms ( n = @TAU ; n = @C ) and @ ( @ % ) caregiver forms ( n = @TAU ; n = @C ) were returned .\\n',\n",
       " 'METHODS\\tTwo researchers coded data blind , using thematic analysis .\\n',\n",
       " 'RESULTS\\t( i ) Caregivers and patients express a need for post-discharge support .\\n',\n",
       " 'RESULTS\\t( ii ) Patients identify helpful and unhelpful support strategies , useful for developing future interventions .\\n',\n",
       " 'RESULTS\\t( iii ) Patients could identify positive caregiver behaviour changes targeted in intervention .\\n',\n",
       " 'RESULTS\\t( iv ) Guided self-help may benefit caregiver and sufferer , post-discharge .\\n',\n",
       " 'CONCLUSIONS\\tCaregiver interventions can be a useful tool that will improve the cost effectiveness of inpatient treatment by enhancing the well-being of caregivers and patients .\\n',\n",
       " '\\n',\n",
       " '###24799513\\n',\n",
       " 'BACKGROUND\\tCardiac mortality and electrophysiological dysfunction both increase with age .\\n',\n",
       " 'BACKGROUND\\tHeart rate variability ( HRV ) provides indices of autonomic function and electrophysiology that are associated with cardiac risk .\\n',\n",
       " 'BACKGROUND\\tHow habitual physical activity among older adults prospectively relates to HRV , including nonlinear indices of erratic sinus patterns , is not established .\\n',\n",
       " 'BACKGROUND\\tWe hypothesized that increasing the levels of both total leisure-time activity and walking would be prospectively associated with more favorable time-domain , frequency-domain , and nonlinear HRV measures in older adults .\\n',\n",
       " 'RESULTS\\tWe evaluated serial longitudinal measures of both physical activity and @-hour Holter HRV over @ years among @ older US adults in the community-based Cardiovascular Health Study .\\n',\n",
       " 'RESULTS\\tAfter multivariable adjustment , greater total leisure-time activity , walking distance , and walking pace were each prospectively associated with specific , more favorable HRV indices , including higher @-hour standard deviation of all normal-to-normal intervals ( Ptrend = @ , @ , @ , respectively ) and ultralow-frequency power ( Ptrend = @ , @ , @ , respectively ) .\\n',\n",
       " 'RESULTS\\tGreater walking pace was also associated with a higher short-term fractal scaling exponent ( Ptrend = @ ) and lower Poincar ratio ( Ptrend = @ ) , markers of less erratic sinus patterns .\\n',\n",
       " 'CONCLUSIONS\\tGreater total leisure-time activity , and walking alone , as well , were prospectively associated with more favorable and specific indices of autonomic function in older adults , including several suggestive of more normal circadian fluctuations and less erratic sinoatrial firing .\\n',\n",
       " 'CONCLUSIONS\\tOur results suggest potential mechanisms that might contribute to lower cardiovascular mortality with habitual physical activity later in life .\\n',\n",
       " '\\n',\n",
       " '###24573358\\n',\n",
       " 'OBJECTIVE\\tOur aim was to compare anatomical and functional outcome between vaginal colposuspension and transvaginal mesh .\\n',\n",
       " 'METHODS\\tThis was a prospective randomized controlled trial in a teaching hospital .\\n',\n",
       " 'METHODS\\tSixty-eight women with stage @ anterior vaginal wall prolapse according to the Pelvic Organ Prolapse Quantification ( POP-Q ) system were assessed , randomized , and analyzed .\\n',\n",
       " 'METHODS\\tPatients were randomized to anterior colporrhaphy with vaginal colposuspension ( n = @ ) or transvaginal mesh ( n = @ ) .\\n',\n",
       " 'METHODS\\tPrimary outcome was objective cure rate of the anterior vaginal wall , defined as POP-Q @ at @years .\\n',\n",
       " 'METHODS\\tSecondary outcomes were functional results , quality-of-life ( QoL ) scores , mesh-related morbidity , and onset of urinary incontinence .\\n',\n",
       " 'RESULTS\\tThe anatomical result for point Ba was significantly better at @years in the mesh group ( -@ cm ) than in the colposuspension group ( -@ cm ) ( p = @ ) .\\n',\n",
       " 'RESULTS\\tConcerning POP-Q stages , the anatomical success rate at @years was @ % for colposuspension and @ % for mesh ( p = @ ) .\\n',\n",
       " 'RESULTS\\tThere were @ anatomic recurrences ( @ % ) in the colposuspension group .\\n',\n",
       " 'RESULTS\\tThe erosion rate was @ % ( n = @ ) .\\n',\n",
       " 'RESULTS\\tNo significant difference was noted regarding minor complications .\\n',\n",
       " 'RESULTS\\tAnalysis of QoL questionnaires showed overall improvement in both groups , with no significant difference between them .\\n',\n",
       " 'CONCLUSIONS\\tThe vaginal colposuspension technique of anterior vaginal wall prolapse repair gave good anatomical and functional results at @years .\\n',\n",
       " 'CONCLUSIONS\\tTransobturator vaginal mesh gave better @-year anatomical results than vaginal colposuspension , with overall improvement in QoL in both groups .\\n',\n",
       " '\\n',\n",
       " '###25249651\\n',\n",
       " 'OBJECTIVE\\tClinical studies evaluating the effects of medications on - cell function in type @ diabetes ( T@DM ) are compromised by an inability to determine the actual baseline degree of - cell dysfunction independent of the reversible dysfunction induced by hyperglycemia ( glucotoxicity ) .\\n',\n",
       " 'OBJECTIVE\\tShort-term intensive insulin therapy ( IIT ) is a strategy for eliminating glucotoxicity before randomization .\\n',\n",
       " 'OBJECTIVE\\tThis study determined whether liraglutide can preserve - cell function over @ weeks in early T@DM following initial elimination of glucotoxicity with IIT .\\n',\n",
       " \"METHODS\\tIn this double-blind , randomized , placebo-controlled trial , @ patients with T@DM of @ @ years ' duration and an A@C of @ @ % ( @ @ mmol/mol ) completed @ weeks of IIT before randomization to daily subcutaneous liraglutide or placebo injection , with serial assessment of - cell function by Insulin Secretion-Sensitivity Index-@ ( ISSI-@ ) on oral glucose tolerance test performed every @ weeks .\\n\",\n",
       " 'RESULTS\\tThe primary outcome of baseline-adjusted ISSI-@ at @ weeks was higher in the liraglutide group than in the placebo group ( @ @ vs. @ @ , P = @ ) .\\n',\n",
       " 'RESULTS\\tBaseline-adjusted HbA@c at @ weeks was lower in the liraglutide group ( @ @ % vs. @ @ % , P = @ ) ( @ @ vs. @ @ mmol/mol ) .\\n',\n",
       " 'RESULTS\\tAt each quarterly assessment , > @ % of participants on liraglutide had an HbA@c @ % ( @ mmol/mol ) and glucose tolerance in the nondiabetic range .\\n',\n",
       " 'RESULTS\\tDespite this level of glycemic control , no difference was found in the incidence of hypoglycemia between the liraglutide and placebo groups ( P = @ ) .\\n',\n",
       " 'RESULTS\\tTwo weeks after stopping treatment , however , the beneficial effect on ISSI-@ of liraglutide versus placebo was entirely lost ( @ @ vs. @ @ , P = @ ) .\\n',\n",
       " 'CONCLUSIONS\\tLiraglutide provides robust enhancement of - cell function that is sustained over @ weeks in early T@DM but lost upon cessation of therapy .\\n',\n",
       " '\\n',\n",
       " '###25110443\\n',\n",
       " 'OBJECTIVE\\tTo investigate the effectiveness of rectally administered indomethacin in the prophylaxis of post-endoscopic retrograde cholangiopancreatography ( ERCP ) pancreatitis and hyperamylasaemia in a multicentre study .\\n',\n",
       " 'METHODS\\tA prospective , randomised , placebo-controlled multicentre study in five endoscopic units was conducted on @ patients randomised to receive a suppository containing @ mg indomethacin , or an inert placebo , @-@ min before ERCP .\\n',\n",
       " 'METHODS\\tPost-ERCP pancreatitis and hyperamylasaemia were evaluated @ h following the procedure on the basis of clinical signs and laboratory parameters , and computed tomography/magnetic resonance imaging findings if required .\\n',\n",
       " 'RESULTS\\tTwenty-one patients were excluded because of incompleteness of their data or because of protocol violation .\\n',\n",
       " 'RESULTS\\tThe results of @ investigations were evaluated : @ in the indomethacin group and @ in the placebo group .\\n',\n",
       " 'RESULTS\\tThe distributions of the risk factors in the two groups did not differ significantly .\\n',\n",
       " 'RESULTS\\tPancreatitis developed in @ patients ( @ % ) : it was mild in @ ( @ % ) and severe in eight ( @ % ) cases .\\n',\n",
       " 'RESULTS\\tHyperamylaesemia occurred in @ patients ( @ % ) .\\n',\n",
       " 'RESULTS\\tThere was no significant difference between the indomethacin and placebo groups in the incidence of either post-ERCP pancreatitis ( @ % vs @ % ) or hyperamylasaemia ( @ % vs @ % ) .\\n',\n",
       " 'RESULTS\\tSimilarly , subgroup analysis did not reveal any significant differences between the two groups .\\n',\n",
       " 'CONCLUSIONS\\t@ mg rectal indomethacin administered before ERCP did not prove effective in preventing post-ERCP pancreatitis .\\n',\n",
       " '\\n',\n",
       " '###24249722\\n',\n",
       " 'BACKGROUND\\tWe sought to determine the incidence of newly diagnosed diabetes in treated elderly hypertensive patients and the prognostic impact of diabetes on long-term survival .\\n',\n",
       " 'METHODS\\tThe Second Australian National Blood Pressure ( ANBP@ ) study randomized @,@ hypertensive patients aged @-@ years to angiotensin-converting enzyme inhibitor ( ACEI ) or thiazide diuretic-based therapy and followed them for a median of @ years .\\n',\n",
       " 'METHODS\\tLong-term survival was determined in @,@ patients over an additional median of @ years after ANBP@ ( post-trial ) .\\n',\n",
       " 'RESULTS\\tAfter ANBP@ , the cohort was classified into preexisting ( @ % ) , newly diagnosed ( @ % ) , and no diabetes ( @ % ) groups .\\n',\n",
       " 'RESULTS\\tA @ % higher incidence of newly diagnosed diabetes was observed in patients randomized to thiazide diuretic compared with ACEI-based treatment .\\n',\n",
       " 'RESULTS\\tThe other predictors of newly diagnosed diabetes were having a higher body mass index , having a higher random blood glucose , and living in a regional location compared to major cities ( a geographical classification based on accessibility ) at study entry .\\n',\n",
       " 'RESULTS\\tAfter completion of ANBP@ , compared with those with no diabetes , the preexisting diabetes group experienced higher cardiovascular ( hazards ratio ( HR ) = @ ; @ % confidence interval ( CI ) = @-@ @ ) and all-cause mortality ( HR = @ ; @ % CI = @-@ @ ) when adjusted for age , sex , and treatment .\\n',\n",
       " 'RESULTS\\tA similar pattern was observed after including the post-trial period for cardiovascular ( HR = @ ; @ % CI = @-@ @ ) and all-cause mortality ( HR = @ ; @ % CI = @-@ @ ) .\\n',\n",
       " 'RESULTS\\tHowever , when the newly diagnosed group was compared with the no diabetes group , no significant difference was observed in cardiovascular ( HR = @ ; @ % CI = @-@ @ ) or all-cause mortality ( HR = @ ; @ % CI = @-@ @ ) either during the ANBP@ trial or including post-trial follow-up ( cardiovascular : HR = @ ; @ % CI = @-@ @ ; all-cause mortality : HR = @ ; @ % CI = @-@ @ ) .\\n',\n",
       " 'CONCLUSIONS\\tLong-term presence of diabetes reduces survival .\\n',\n",
       " 'CONCLUSIONS\\tCompared with thiazide diuretics , ACEI-based antihypertensives may delay the development of diabetes in those at risk and thus potentially improve cardiovascular outcome in the elderly .\\n',\n",
       " '\\n',\n",
       " '###25027286\\n',\n",
       " 'BACKGROUND\\tObesity is associated with a risk of gastroesophageal reflux disease .\\n',\n",
       " 'BACKGROUND\\tThe pharmacodynamic efficacy of proton pump inhibitors has not been specifically evaluated in obese subjects .\\n',\n",
       " 'BACKGROUND\\tThe aim of this study was to compare the antisecretory response to a single oral dose of @ mg rabeprazole , @ mg omeprazole and placebo in obese subjects .\\n',\n",
       " 'METHODS\\tGastric pH was monitored for @ hours on three separate occasions in eighteen H. pylori-negative , asymptomatic obese subjects .\\n',\n",
       " 'METHODS\\tSubjects were given omeprazole , rabeprazole or placebo in a randomized order and in a double-blind fashion .\\n',\n",
       " 'METHODS\\tThe main analysis criterion was @-h percent of time post dose with intragastric pH above @ ; secondary criteria were percentage of time above pH @ , median pH , -LSB- H + -RSB- concentrations and nocturnal acid breakthrough ( NAB ) .\\n',\n",
       " 'METHODS\\tResults were analyzed using linear mixed models and Wilks test comparing variances .\\n',\n",
       " 'RESULTS\\t@-h median -LSB- IQ -RSB- percentages of time with gastric pH above @ and @ were higher with rabeprazole than omeprazole ( @ -LSB- @-@ -RSB- vs. @ -LSB- @-@ -RSB- % , @ -LSB- @-@ -RSB- % for placebo ) but the differences did not reach statistical significance ( p = @ and @ , respectively ) .\\n',\n",
       " 'RESULTS\\tMedian acid concentrations were significantly lower with rabeprazole than with omeprazole and placebo ( @ -LSB- @-@ -RSB- vs. @ -LSB- @-@ -RSB- and @ -LSB- @-@ -RSB- mmoles/l , p < @ ) for all periods .\\n',\n",
       " 'RESULTS\\tThe number of NAB was significantly lower with rabeprazole than with omeprazole ( median @ -LSB- @,@ -RSB- vs. @ -LSB- @-@ -RSB- , p = @ ) .\\n',\n",
       " 'RESULTS\\tVariances of @-h data ( pH above @ and @ , median pH , -LSB- H + -RSB- concentrations ) were significantly lower with rabeprazole than with omeprazole ( p < @ ) .\\n',\n",
       " 'CONCLUSIONS\\tIn asymptomatic obese subjects the gastric antisecretory response to a single dose of rabeprazole and omeprazole was strong and not significantly different between drugs despite a significantly more homogeneous response with rabeprazole .\\n',\n",
       " 'BACKGROUND\\tClinicalTrial.gov : NCT@ .\\n',\n",
       " '\\n',\n",
       " '###25439809\\n',\n",
       " 'OBJECTIVE\\tTo study the effect of growth hormone ( GH ) treatment on ovarian and uterine morphology and function in short , prepubertal small-for-gestational-age ( SGA ) girls .\\n',\n",
       " 'METHODS\\tA multinational , randomized controlled trial on safety and efficacy of GH therapy in short , prepubertal children born SGA .\\n',\n",
       " 'METHODS\\tNot applicable .\\n',\n",
       " 'METHODS\\tA subgroup of @ Danish girls born SGA included in North European SGA Study ( NESGAS ) .\\n',\n",
       " 'METHODS\\tOne year of GH treatment ( @ g/kg/day ) followed by @ years of randomized GH treatment ( @ g/kg/day , @ g/kg/day , or IGF-I titrated ) .\\n',\n",
       " 'METHODS\\tData on anthropometrics , reproductive hormones , and ultrasonographic examination of the internal genitalia were collected during @ months of GH treatment .\\n',\n",
       " 'RESULTS\\tUterine and ovarian volume increased significantly during @ years of treatment ( @ % and @ % , respectively ) but remained low within normal reference ranges .\\n',\n",
       " 'RESULTS\\tOvarian follicles became visible in @ % after @ year compared with @ % before GH therapy .\\n',\n",
       " 'RESULTS\\tAnti-Mllerian hormone increased significantly during the @ years of GH therapy but remained within the normal range .\\n',\n",
       " 'RESULTS\\tPrecocious puberty was observed in one girl ; another girl developed multicystic ovaries .\\n',\n",
       " 'CONCLUSIONS\\tGH treatment was associated with statistically significant growth of the internal genitalia , but remained within the normal range .\\n',\n",
       " 'CONCLUSIONS\\tAs altered pubertal development and ovarian morphology were found in @ of @ girls , monitoring of puberty and ovarian function during GH therapy in SGA girls is prudent .\\n',\n",
       " 'CONCLUSIONS\\tAltogether , the findings are reassuring .\\n',\n",
       " 'CONCLUSIONS\\tHowever , long-term effects of GH treatment on adult reproductive function remain unknown .\\n',\n",
       " 'BACKGROUND\\tEudraCT @-@-@ .\\n',\n",
       " '\\n',\n",
       " '###24898858\\n',\n",
       " 'OBJECTIVE\\tTo test the hypothesis that a brief , clinic-based , single-session programme will reduce the rate of @ selected condom use errors in a clinical sample of young black men ( YBM ) ages @ through @ years .\\n',\n",
       " 'METHODS\\tData were collected in clinics treating patients with sexually transmitted infections ( STI ) in three southern US cities .\\n',\n",
       " 'METHODS\\tMales @-@years of age who identified as black/African-American , and reported recent ( past @months ) condom use were eligible .\\n',\n",
       " 'METHODS\\tOnly those also reporting condom use in the @months prior to a @-month follow-up assessment ( n = @ ) were included in this secondary analysis of data from a randomised , controlled trial .\\n',\n",
       " 'METHODS\\tDifference scores were used to capture a GroupTime effect .\\n',\n",
       " 'RESULTS\\tYBM reported @ condom use events in the @months preceding study enrolment and @ in the @months preceding the follow-up assessment .\\n',\n",
       " 'RESULTS\\tMean baseline error rates were @ and @ for young men randomised to the intervention and control conditions , respectively .\\n',\n",
       " 'RESULTS\\tFollow-up rates were @ and @ for young men randomised to the intervention and control conditions , respectively .\\n',\n",
       " 'RESULTS\\tControlled findings yielded a significant effect for the influence of group assignment on the difference score ( baseline to follow-up ) in the condom use error rate ( = @ ; p = @ ) .\\n',\n",
       " 'CONCLUSIONS\\tA brief , clinic-based counselling programme produced modest reductions in condom use errors among YBM attending STI clinics in the southern USA Intensified clinic-based intervention that helps YBM improve the quality of their condom use behaviours is warranted .\\n',\n",
       " 'BACKGROUND\\tNCT@ .\\n',\n",
       " '\\n',\n",
       " '###24672940\\n',\n",
       " 'OBJECTIVE\\tTo provide evidence for Chinese medical treatment of children with EB virus infection by exploring its clinical efficacy from multiple angles .\\n',\n",
       " 'METHODS\\tTotally @ children patients were randomly assigned to the treatment group ( @ cases ) and the control group ( @ cases ) .\\n',\n",
       " 'METHODS\\tPatients in the treatment group took Chinese medical decoction , while those in the control received intravenous dripping of Ganciclovir and oral administration of pidotimod .\\n',\n",
       " 'METHODS\\tThe treatment period for the two groups was @ weeks .\\n',\n",
       " 'METHODS\\tPatients were followed-up till the @th week .\\n',\n",
       " 'METHODS\\tClinical symptoms such as fever , lymphadenopathy and hepatosplenomegaly , as well as lab indices such as abnormal lymphocyte percentage , EB virus antibody , virus DNA load , T cell subsets , immunoglobulin , and so on were observed before and after treatment , at week @ and @ of follow-ups .\\n',\n",
       " 'RESULTS\\t( @ ) The total effective rate at week @ was @ % in the treatment group , higher than that of the control group ( @ % ) , but there was no statistical difference between the two groups .\\n',\n",
       " 'RESULTS\\t( @ ) The time for defervescence , duration of pharyngeal hyperemia , duration of swollen tonsils was shorter in the treatment group than in the control group ( P < @ ) .\\n',\n",
       " 'RESULTS\\tThe subsidence of lymphadenopathy , hepatomegaly , and abnormal lymphocytes was better in the treatment group than in the control group ( P < @ ) .\\n',\n",
       " 'RESULTS\\t( @ ) The positive cases of peripheral blood hetero-lymphocyte was significantly reduced after treatment , at week @ and @ of follow-ups both in the treatment group and the control group ( P < @ ) .\\n',\n",
       " 'RESULTS\\tThe expression of IgA and IgM decreased after treatment in the two groups when compared with before treatment in the same group ( P < @ , P < @ ) .\\n',\n",
       " 'RESULTS\\tIgG in the treatment group also obviously decreased after treatment , at week @ and @ of follow-ups ( P < @ , P < @ ) , while it decreased only after treatment in the control group ( P < @ ) .\\n',\n",
       " 'RESULTS\\tActivities of AST and ALT in the treatment group and the AST activity in the control group were markedly improved when compared with those before treatment ( P < @ ) .\\n',\n",
       " 'RESULTS\\tCompared with the control group , the abnormal lymphocyte positive case number obviously decreased in the treatment group after treatment , at week @ and @ of follow-ups ( P < @ ) .\\n',\n",
       " 'RESULTS\\t( @ ) After treatment , at week @ and @ of follow-ups , CD@ + and CD@ + significantly decreased ; CD@ + , CD@/CD@ , and B cells significantly increased in the two groups , when compared with before treatment ( P < @ ) .\\n',\n",
       " 'RESULTS\\tNK cells significantly increased more in the treatment group after treatment , at week @ and @ of follow-ups , higher than before treatment as well as the control group ( P < @ ) .\\n',\n",
       " 'RESULTS\\t( @ ) EB viral DNA and EB viral CA-IgM negative conversion case numbers significantly increased in the two groups after treatment , at week @ and @ of follow-ups ( P < @ ) .\\n',\n",
       " 'RESULTS\\tCompared with the control group , EB viral DNA and EB viral CA-IgM negative conversion case numbers significantly increased in the treatment group after treatment and at week @ of follow-ups ( P < @ ) .\\n',\n",
       " 'CONCLUSIONS\\tTreatment of EB virus infection by Chinese medical treatment was effective .\\n',\n",
       " 'CONCLUSIONS\\tIt could promote the recovery of EB viral infection , and reduce the risk of vicious disease after EB viral infection .\\n',\n",
       " '\\n',\n",
       " '###25039547\\n',\n",
       " 'OBJECTIVE\\tThe primary objective was to compare the cosmetic outcomes of traumatic trunk and extremity lacerations repaired using absorbable versus nonabsorbable sutures .\\n',\n",
       " 'OBJECTIVE\\tThe secondary objective was to compare complication rates between the two groups .\\n',\n",
       " 'METHODS\\tThis was a randomized controlled trial comparing wounds repaired with Vicryl Rapide and Prolene sutures .\\n',\n",
       " 'METHODS\\tPediatric and adult patients with lacerations were enrolled in the study .\\n',\n",
       " 'METHODS\\tAt a @-day follow-up , the wounds were evaluated for infection and dehiscence .\\n',\n",
       " 'METHODS\\tAfter @ months , patients returned to have the wounds photographed .\\n',\n",
       " 'METHODS\\tTwo plastic surgeons blinded to the method of closure rated the cosmetic outcome of each wound using a @-mm visual analog scale ( VAS ) .\\n',\n",
       " 'METHODS\\tUsing a noninferiority design , a VAS score of @ mm or greater was considered to be a clinically significant difference .\\n',\n",
       " \"METHODS\\tWe used a Student 's t-test to compare differences between mean VAS scores and odds ratios ( ORs ) to compare differences in complication rates between the two groups .\\n\",\n",
       " 'RESULTS\\tOf the @ patients enrolled , @ completed the study including @ in the Vicryl Rapide group and @ in the Prolene group .\\n',\n",
       " 'RESULTS\\tThe mean ( SD ) age of patients who completed the study was @ ( @ ) years , and @ were male .\\n',\n",
       " 'RESULTS\\tWe found no significant differences in the age , race , sex , length of wound , number of sutures , or layers of repair in the two groups .\\n',\n",
       " \"RESULTS\\tThe observer 's mean VAS for the Vicryl Rapide group was @ mm ( @ % confidence interval -LSB- CI -RSB- = @ to @ mm ) and for the Prolene group was @ mm ( @ % CI = @ to @ mm ) .\\n\",\n",
       " 'RESULTS\\tThe resulting mean difference was @ mm ( @ % CI = -@ to @ mm ; p = @ ) ; thus noninferiority was established .\\n',\n",
       " 'RESULTS\\tStatistical testing showed no differences in the rates of complications between the two groups , but a higher percentage of the Vicryl Rapide wounds developed complications .\\n',\n",
       " 'CONCLUSIONS\\tThe use of absorbable sutures for the repair of simple lacerations on the trunk and extremities should be considered as an alternative to nonabsorbable suture repair .\\n',\n",
       " '\\n',\n",
       " '###25139873\\n',\n",
       " 'OBJECTIVE\\tAspirin early after intravenous thrombolysis in acute ischemic stroke increases the risk of symptomatic intracranial hemorrhage ( SICH ) , without influencing functional outcome at @ months .\\n',\n",
       " 'OBJECTIVE\\tThe effect of aspirin on early neurological deterioration ( END ) was explored as a post hoc analysis of the randomized Antiplatelet Therapy in Combination With Recombinant t-PA Thrombolysis in Ischemic Stroke ( ARTIS ) trial .\\n',\n",
       " 'METHODS\\tEND , defined as a @ points National Institutes of Health Stroke Scale worsening @ hours after intravenous thrombolysis , was categorized into SICH ( ENDSICH ) and cerebral ischemia ( ENDCI ) .\\n',\n",
       " 'METHODS\\tMultinomial logistic regression was used to assess the effect of aspirin on END .\\n',\n",
       " 'RESULTS\\tOf the @ patients , @ patients ( @ % ) experienced END ( @ ENDSICH , @ ENDCI ) .\\n',\n",
       " 'RESULTS\\tAspirin increased the risk of ENDSICH ( odds ratio , @ ; @ % confidence interval , @-@ @ ) but not of ENDCI ( odds ratio , @ ; @ % confidence interval , @-@ @ ) .\\n',\n",
       " 'RESULTS\\tAfter adjustment for other explanatory variables , the association between aspirin and ENDSICH remained significant .\\n',\n",
       " 'CONCLUSIONS\\tIn this trial , there is no evidence of an early antithrombotic effect from the addition of aspirin to intravenous thrombolysis in acute ischemic stroke .\\n',\n",
       " '\\n',\n",
       " '###24917273\\n',\n",
       " 'OBJECTIVE\\tTo compare the relative effectiveness of methotrexate and mycophenolate mofetil for noninfectious intermediate uveitis , posterior uveitis , or panuveitis .\\n',\n",
       " 'METHODS\\tMulticenter , block-randomized , observer-masked clinical trial .\\n',\n",
       " ...]"
      ]
     },
     "execution_count": 8,
     "metadata": {},
     "output_type": "execute_result"
    }
   ],
   "source": [
    "train_lines"
   ]
  },
  {
   "cell_type": "markdown",
   "id": "605eb8fe-4b48-4465-8469-d2a88157cc05",
   "metadata": {},
   "source": [
    "[{\n",
    "    'line_number': int,\n",
    "    'target': str,\n",
    "    'text': str,\n",
    "    'total_lines': int\n",
    "}, \n",
    "{\n",
    "    ...\n",
    "}\n",
    "]"
   ]
  },
  {
   "cell_type": "code",
   "execution_count": 9,
   "id": "6ef5c360-0d05-495c-a9b8-f7f0f9b86e0e",
   "metadata": {},
   "outputs": [],
   "source": [
    "def preprocess_text_with_line_numbers(filename):\n",
    "  \"\"\"Returns a list of dictionaries of abstract line data.\n",
    "\n",
    "  Takes in filename, reads its contents and sorts through each line,\n",
    "  extracting things like the target label, the text of the sentence,\n",
    "  how many sentences are in the current abstract and what sentence number\n",
    "  the target line is.\n",
    "\n",
    "  Args:\n",
    "      filename: a string of the target text file to read and extract line data\n",
    "      from.\n",
    "\n",
    "  Returns:\n",
    "      A list of dictionaries each containing a line from an abstract,\n",
    "      the lines label, the lines position in the abstract and the total number\n",
    "      of lines in the abstract where the line is from. For example:\n",
    "\n",
    "      [{\"target\": 'CONCLUSION',\n",
    "        \"text\": The study couldn't have gone better, turns out people are kinder than you think\",\n",
    "        \"line_number\": 8,\n",
    "        \"total_lines\": 8}]\n",
    "  \"\"\"\n",
    "  with open(filename) as f: input_lines = f.readlines()  \n",
    "  abstract_lines = \"\" # create an empty abstract\n",
    "  abstract_samples = [] # create an empty list of abstracts\n",
    "  \n",
    "  # Loop through each line in target file\n",
    "  for line in input_lines:\n",
    "    if line.startswith(\"###\"): # check to see if line is an ID line\n",
    "      abstract_id = line\n",
    "      abstract_lines = \"\" # reset abstract string\n",
    "    elif line.isspace(): # check to see if line is a new line\n",
    "      abstract_line_split = abstract_lines.splitlines() # split abstract into separate lines\n",
    "\n",
    "      # Iterate through each line in abstract and count them at the same time\n",
    "      for abstract_line_number, abstract_line in enumerate(abstract_line_split):\n",
    "        line_data = {} # create empty dict to store data from line\n",
    "        target_text_split = abstract_line.split(\"\\t\") # split target label from text\n",
    "        line_data[\"target\"] = target_text_split[0] # get target label\n",
    "        line_data[\"text\"] = target_text_split[1].lower() # get target text and lower it\n",
    "        line_data[\"line_number\"] = abstract_line_number # what number line does the line appear in the abstract?\n",
    "        line_data[\"total_lines\"] = len(abstract_line_split) - 1 # how many total lines are in the abstract? (start from 0)\n",
    "        abstract_samples.append(line_data) # add line data to abstract samples list\n",
    "    \n",
    "    else: # if the above conditions aren't fulfilled, the line contains a labelled sentence\n",
    "      abstract_lines += line\n",
    "  \n",
    "  return abstract_samples"
   ]
  },
  {
   "cell_type": "code",
   "execution_count": 10,
   "id": "00a50261-975b-4dd8-b735-a32c288336d2",
   "metadata": {},
   "outputs": [],
   "source": [
    "train_samples = preprocess_text_with_line_numbers(train_10_lem_path)\n",
    "val_samples = preprocess_text_with_line_numbers(dev_10_lem_path)\n",
    "test_samples = preprocess_text_with_line_numbers(test_10_lem_path)"
   ]
  },
  {
   "cell_type": "code",
   "execution_count": 11,
   "id": "499ab42d-19e8-4c59-a228-85266046aabb",
   "metadata": {},
   "outputs": [
    {
     "data": {
      "text/plain": [
       "[{'target': 'OBJECTIVE',\n",
       "  'text': 'to investigate the efficacy of @ weeks of daily low-dose oral prednisolone in improving pain , mobility , and systemic low-grade inflammation in the short term and whether the effect would be sustained at @ weeks in older adults with moderate to severe knee osteoarthritis ( oa ) .',\n",
       "  'line_number': 0,\n",
       "  'total_lines': 11},\n",
       " {'target': 'METHODS',\n",
       "  'text': 'a total of @ patients with primary knee oa were randomized @:@ ; @ received @ mg/day of prednisolone and @ received placebo for @ weeks .',\n",
       "  'line_number': 1,\n",
       "  'total_lines': 11},\n",
       " {'target': 'METHODS',\n",
       "  'text': 'outcome measures included pain reduction and improvement in function scores and systemic inflammation markers .',\n",
       "  'line_number': 2,\n",
       "  'total_lines': 11},\n",
       " {'target': 'METHODS',\n",
       "  'text': 'pain was assessed using the visual analog pain scale ( @-@ mm ) .',\n",
       "  'line_number': 3,\n",
       "  'total_lines': 11},\n",
       " {'target': 'METHODS',\n",
       "  'text': 'secondary outcome measures included the western ontario and mcmaster universities osteoarthritis index scores , patient global assessment ( pga ) of the severity of knee oa , and @-min walk distance ( @mwd ) .',\n",
       "  'line_number': 4,\n",
       "  'total_lines': 11},\n",
       " {'target': 'METHODS',\n",
       "  'text': 'serum levels of interleukin @ ( il-@ ) , il-@ , tumor necrosis factor ( tnf ) - , and high-sensitivity c-reactive protein ( hscrp ) were measured .',\n",
       "  'line_number': 5,\n",
       "  'total_lines': 11},\n",
       " {'target': 'RESULTS',\n",
       "  'text': 'there was a clinically relevant reduction in the intervention group compared to the placebo group for knee pain , physical function , pga , and @mwd at @ weeks .',\n",
       "  'line_number': 6,\n",
       "  'total_lines': 11},\n",
       " {'target': 'RESULTS',\n",
       "  'text': 'the mean difference between treatment arms ( @ % ci ) was @ ( @-@ @ ) , p < @ ; @ ( @-@ @ ) , p < @ ; @ ( @-@ @ ) , p < @ ; and @ ( @-@ @ ) , p < @ , respectively .',\n",
       "  'line_number': 7,\n",
       "  'total_lines': 11},\n",
       " {'target': 'RESULTS',\n",
       "  'text': 'further , there was a clinically relevant reduction in the serum levels of il-@ , il-@ , tnf - , and hscrp at @ weeks in the intervention group when compared to the placebo group .',\n",
       "  'line_number': 8,\n",
       "  'total_lines': 11},\n",
       " {'target': 'RESULTS',\n",
       "  'text': 'these differences remained significant at @ weeks .',\n",
       "  'line_number': 9,\n",
       "  'total_lines': 11},\n",
       " {'target': 'RESULTS',\n",
       "  'text': 'the outcome measures in rheumatology clinical trials-osteoarthritis research society international responder rate was @ % in the intervention group and @ % in the placebo group ( p < @ ) .',\n",
       "  'line_number': 10,\n",
       "  'total_lines': 11},\n",
       " {'target': 'CONCLUSIONS',\n",
       "  'text': 'low-dose oral prednisolone had both a short-term and a longer sustained effect resulting in less knee pain , better physical function , and attenuation of systemic inflammation in older patients with knee oa ( clinicaltrials.gov identifier nct@ ) .',\n",
       "  'line_number': 11,\n",
       "  'total_lines': 11},\n",
       " {'target': 'BACKGROUND',\n",
       "  'text': 'emotional eating is associated with overeating and the development of obesity .',\n",
       "  'line_number': 0,\n",
       "  'total_lines': 10}]"
      ]
     },
     "execution_count": 11,
     "metadata": {},
     "output_type": "execute_result"
    }
   ],
   "source": [
    "train_samples[:13]"
   ]
  },
  {
   "cell_type": "code",
   "execution_count": 12,
   "id": "1c88a2dc-1910-466a-b259-b5f59e0389da",
   "metadata": {},
   "outputs": [],
   "source": [
    "import pandas as pd\n",
    "train_df = pd.DataFrame(train_samples)\n",
    "val_df = pd.DataFrame(val_samples)\n",
    "test_df = pd.DataFrame(test_samples)"
   ]
  },
  {
   "cell_type": "code",
   "execution_count": 13,
   "id": "278a2da5-be55-4720-8a9d-001ec909938f",
   "metadata": {},
   "outputs": [
    {
     "data": {
      "text/html": [
       "<div>\n",
       "<style scoped>\n",
       "    .dataframe tbody tr th:only-of-type {\n",
       "        vertical-align: middle;\n",
       "    }\n",
       "\n",
       "    .dataframe tbody tr th {\n",
       "        vertical-align: top;\n",
       "    }\n",
       "\n",
       "    .dataframe thead th {\n",
       "        text-align: right;\n",
       "    }\n",
       "</style>\n",
       "<table border=\"1\" class=\"dataframe\">\n",
       "  <thead>\n",
       "    <tr style=\"text-align: right;\">\n",
       "      <th></th>\n",
       "      <th>target</th>\n",
       "      <th>text</th>\n",
       "      <th>line_number</th>\n",
       "      <th>total_lines</th>\n",
       "    </tr>\n",
       "  </thead>\n",
       "  <tbody>\n",
       "    <tr>\n",
       "      <th>0</th>\n",
       "      <td>OBJECTIVE</td>\n",
       "      <td>to investigate the efficacy of @ weeks of dail...</td>\n",
       "      <td>0</td>\n",
       "      <td>11</td>\n",
       "    </tr>\n",
       "    <tr>\n",
       "      <th>1</th>\n",
       "      <td>METHODS</td>\n",
       "      <td>a total of @ patients with primary knee oa wer...</td>\n",
       "      <td>1</td>\n",
       "      <td>11</td>\n",
       "    </tr>\n",
       "    <tr>\n",
       "      <th>2</th>\n",
       "      <td>METHODS</td>\n",
       "      <td>outcome measures included pain reduction and i...</td>\n",
       "      <td>2</td>\n",
       "      <td>11</td>\n",
       "    </tr>\n",
       "    <tr>\n",
       "      <th>3</th>\n",
       "      <td>METHODS</td>\n",
       "      <td>pain was assessed using the visual analog pain...</td>\n",
       "      <td>3</td>\n",
       "      <td>11</td>\n",
       "    </tr>\n",
       "    <tr>\n",
       "      <th>4</th>\n",
       "      <td>METHODS</td>\n",
       "      <td>secondary outcome measures included the wester...</td>\n",
       "      <td>4</td>\n",
       "      <td>11</td>\n",
       "    </tr>\n",
       "  </tbody>\n",
       "</table>\n",
       "</div>"
      ],
      "text/plain": [
       "      target                                               text  line_number  \\\n",
       "0  OBJECTIVE  to investigate the efficacy of @ weeks of dail...            0   \n",
       "1    METHODS  a total of @ patients with primary knee oa wer...            1   \n",
       "2    METHODS  outcome measures included pain reduction and i...            2   \n",
       "3    METHODS  pain was assessed using the visual analog pain...            3   \n",
       "4    METHODS  secondary outcome measures included the wester...            4   \n",
       "\n",
       "   total_lines  \n",
       "0           11  \n",
       "1           11  \n",
       "2           11  \n",
       "3           11  \n",
       "4           11  "
      ]
     },
     "execution_count": 13,
     "metadata": {},
     "output_type": "execute_result"
    }
   ],
   "source": [
    "train_df.head()"
   ]
  },
  {
   "cell_type": "code",
   "execution_count": 14,
   "id": "3e0dd483-5196-489e-bfb1-f4d95ae8eb88",
   "metadata": {},
   "outputs": [
    {
     "data": {
      "text/plain": [
       "target\n",
       "METHODS        59353\n",
       "RESULTS        57953\n",
       "CONCLUSIONS    27168\n",
       "BACKGROUND     21727\n",
       "OBJECTIVE      13839\n",
       "Name: count, dtype: int64"
      ]
     },
     "execution_count": 14,
     "metadata": {},
     "output_type": "execute_result"
    }
   ],
   "source": [
    "train_df.target.value_counts()"
   ]
  },
  {
   "cell_type": "code",
   "execution_count": 15,
   "id": "f3a23510-a8f9-4fcc-ac36-1f613b790607",
   "metadata": {},
   "outputs": [
    {
     "data": {
      "text/plain": [
       "total_lines\n",
       "11    24468\n",
       "10    23639\n",
       "12    22113\n",
       "9     19400\n",
       "13    18438\n",
       "14    14610\n",
       "8     12285\n",
       "15    10768\n",
       "7      7464\n",
       "16     7429\n",
       "17     5202\n",
       "6      3353\n",
       "18     3344\n",
       "19     2480\n",
       "20     1281\n",
       "5      1146\n",
       "21      770\n",
       "22      759\n",
       "23      264\n",
       "4       215\n",
       "24      200\n",
       "25      182\n",
       "26       81\n",
       "28       58\n",
       "3        32\n",
       "30       31\n",
       "27       28\n",
       "Name: count, dtype: int64"
      ]
     },
     "execution_count": 15,
     "metadata": {},
     "output_type": "execute_result"
    }
   ],
   "source": [
    "train_df.total_lines.value_counts() # avg"
   ]
  },
  {
   "cell_type": "code",
   "execution_count": 16,
   "id": "3630b3d7-df6f-4b28-81f3-439b9ce7fc70",
   "metadata": {},
   "outputs": [],
   "source": [
    "train_sentences = train_df[\"text\"].tolist()\n",
    "val_sentences = val_df[\"text\"].tolist()\n",
    "test_sentences = test_df[\"text\"].tolist()"
   ]
  },
  {
   "cell_type": "code",
   "execution_count": 17,
   "id": "821a3553-1553-4641-9265-20b354ec3e2a",
   "metadata": {},
   "outputs": [
    {
     "data": {
      "text/plain": [
       "(180040, 30212, 30135)"
      ]
     },
     "execution_count": 17,
     "metadata": {},
     "output_type": "execute_result"
    }
   ],
   "source": [
    "len(train_sentences), len(val_sentences), len(test_sentences)"
   ]
  },
  {
   "cell_type": "markdown",
   "id": "451d3773-da23-4576-a753-9fbc35a60b1e",
   "metadata": {},
   "source": [
    "### Make numeric labels"
   ]
  },
  {
   "cell_type": "code",
   "execution_count": 18,
   "id": "4f34dd4d-bca0-464b-872d-1f56a677e4b5",
   "metadata": {},
   "outputs": [
    {
     "data": {
      "text/plain": [
       "array([[0., 0., 0., 1., 0.],\n",
       "       [0., 0., 1., 0., 0.],\n",
       "       [0., 0., 1., 0., 0.],\n",
       "       [0., 0., 1., 0., 0.],\n",
       "       [0., 0., 1., 0., 0.],\n",
       "       [0., 0., 1., 0., 0.],\n",
       "       [0., 0., 0., 0., 1.],\n",
       "       [0., 0., 0., 0., 1.],\n",
       "       [0., 0., 0., 0., 1.],\n",
       "       [0., 0., 0., 0., 1.]])"
      ]
     },
     "execution_count": 18,
     "metadata": {},
     "output_type": "execute_result"
    }
   ],
   "source": [
    "from sklearn.preprocessing import OneHotEncoder\n",
    "\n",
    "one_hot_encoder = OneHotEncoder(sparse_output=False)\n",
    "train_labels_one_hot = one_hot_encoder.fit_transform(train_df.target.to_numpy().reshape(-1, 1))\n",
    "test_labels_one_hot = one_hot_encoder.transform(test_df.target.to_numpy().reshape(-1, 1))\n",
    "val_labels_one_hot = one_hot_encoder.transform(val_df.target.to_numpy().reshape(-1, 1))\n",
    "\n",
    "train_labels_one_hot[:10]"
   ]
  },
  {
   "cell_type": "code",
   "execution_count": 19,
   "id": "8a43106f-99d5-4f79-93ff-336080aada67",
   "metadata": {},
   "outputs": [
    {
     "data": {
      "text/html": [
       "<div>\n",
       "<style scoped>\n",
       "    .dataframe tbody tr th:only-of-type {\n",
       "        vertical-align: middle;\n",
       "    }\n",
       "\n",
       "    .dataframe tbody tr th {\n",
       "        vertical-align: top;\n",
       "    }\n",
       "\n",
       "    .dataframe thead th {\n",
       "        text-align: right;\n",
       "    }\n",
       "</style>\n",
       "<table border=\"1\" class=\"dataframe\">\n",
       "  <thead>\n",
       "    <tr style=\"text-align: right;\">\n",
       "      <th></th>\n",
       "      <th>target</th>\n",
       "      <th>text</th>\n",
       "      <th>line_number</th>\n",
       "      <th>total_lines</th>\n",
       "    </tr>\n",
       "  </thead>\n",
       "  <tbody>\n",
       "    <tr>\n",
       "      <th>0</th>\n",
       "      <td>OBJECTIVE</td>\n",
       "      <td>to investigate the efficacy of @ weeks of dail...</td>\n",
       "      <td>0</td>\n",
       "      <td>11</td>\n",
       "    </tr>\n",
       "    <tr>\n",
       "      <th>1</th>\n",
       "      <td>METHODS</td>\n",
       "      <td>a total of @ patients with primary knee oa wer...</td>\n",
       "      <td>1</td>\n",
       "      <td>11</td>\n",
       "    </tr>\n",
       "    <tr>\n",
       "      <th>2</th>\n",
       "      <td>METHODS</td>\n",
       "      <td>outcome measures included pain reduction and i...</td>\n",
       "      <td>2</td>\n",
       "      <td>11</td>\n",
       "    </tr>\n",
       "    <tr>\n",
       "      <th>3</th>\n",
       "      <td>METHODS</td>\n",
       "      <td>pain was assessed using the visual analog pain...</td>\n",
       "      <td>3</td>\n",
       "      <td>11</td>\n",
       "    </tr>\n",
       "    <tr>\n",
       "      <th>4</th>\n",
       "      <td>METHODS</td>\n",
       "      <td>secondary outcome measures included the wester...</td>\n",
       "      <td>4</td>\n",
       "      <td>11</td>\n",
       "    </tr>\n",
       "    <tr>\n",
       "      <th>5</th>\n",
       "      <td>METHODS</td>\n",
       "      <td>serum levels of interleukin @ ( il-@ ) , il-@ ...</td>\n",
       "      <td>5</td>\n",
       "      <td>11</td>\n",
       "    </tr>\n",
       "    <tr>\n",
       "      <th>6</th>\n",
       "      <td>RESULTS</td>\n",
       "      <td>there was a clinically relevant reduction in t...</td>\n",
       "      <td>6</td>\n",
       "      <td>11</td>\n",
       "    </tr>\n",
       "    <tr>\n",
       "      <th>7</th>\n",
       "      <td>RESULTS</td>\n",
       "      <td>the mean difference between treatment arms ( @...</td>\n",
       "      <td>7</td>\n",
       "      <td>11</td>\n",
       "    </tr>\n",
       "    <tr>\n",
       "      <th>8</th>\n",
       "      <td>RESULTS</td>\n",
       "      <td>further , there was a clinically relevant redu...</td>\n",
       "      <td>8</td>\n",
       "      <td>11</td>\n",
       "    </tr>\n",
       "    <tr>\n",
       "      <th>9</th>\n",
       "      <td>RESULTS</td>\n",
       "      <td>these differences remained significant at @ we...</td>\n",
       "      <td>9</td>\n",
       "      <td>11</td>\n",
       "    </tr>\n",
       "  </tbody>\n",
       "</table>\n",
       "</div>"
      ],
      "text/plain": [
       "      target                                               text  line_number  \\\n",
       "0  OBJECTIVE  to investigate the efficacy of @ weeks of dail...            0   \n",
       "1    METHODS  a total of @ patients with primary knee oa wer...            1   \n",
       "2    METHODS  outcome measures included pain reduction and i...            2   \n",
       "3    METHODS  pain was assessed using the visual analog pain...            3   \n",
       "4    METHODS  secondary outcome measures included the wester...            4   \n",
       "5    METHODS  serum levels of interleukin @ ( il-@ ) , il-@ ...            5   \n",
       "6    RESULTS  there was a clinically relevant reduction in t...            6   \n",
       "7    RESULTS  the mean difference between treatment arms ( @...            7   \n",
       "8    RESULTS  further , there was a clinically relevant redu...            8   \n",
       "9    RESULTS  these differences remained significant at @ we...            9   \n",
       "\n",
       "   total_lines  \n",
       "0           11  \n",
       "1           11  \n",
       "2           11  \n",
       "3           11  \n",
       "4           11  \n",
       "5           11  \n",
       "6           11  \n",
       "7           11  \n",
       "8           11  \n",
       "9           11  "
      ]
     },
     "execution_count": 19,
     "metadata": {},
     "output_type": "execute_result"
    }
   ],
   "source": [
    "train_df.head(10)"
   ]
  },
  {
   "cell_type": "markdown",
   "id": "a0086060-df7e-4823-a780-f83b976276e2",
   "metadata": {},
   "source": [
    "### Label encode"
   ]
  },
  {
   "cell_type": "code",
   "execution_count": 20,
   "id": "d7b0a56e-481c-44a1-81a3-4f6bfabbb49a",
   "metadata": {},
   "outputs": [],
   "source": [
    "from sklearn.preprocessing import LabelEncoder\n",
    "label_encoder = LabelEncoder()\n",
    "train_labels_encoded = label_encoder.fit_transform(train_df.target.to_numpy())\n",
    "val_labels_encoded = label_encoder.transform(val_df.target.to_numpy())\n",
    "test_labels_encoded = label_encoder.transform(test_df.target.to_numpy())"
   ]
  },
  {
   "cell_type": "markdown",
   "id": "ae38911b-cbe2-4a3d-918e-2183dacd93e7",
   "metadata": {},
   "source": [
    "## Models"
   ]
  },
  {
   "cell_type": "markdown",
   "id": "f2cf37fe-9e5a-4132-80dc-87836e48ceeb",
   "metadata": {},
   "source": [
    "### Model0: Naive Bayes"
   ]
  },
  {
   "cell_type": "code",
   "execution_count": 21,
   "id": "021198c0-7ba7-4596-8b5b-8d65d45b4c28",
   "metadata": {},
   "outputs": [],
   "source": [
    "from sklearn.feature_extraction.text import TfidfVectorizer\n",
    "from sklearn.naive_bayes import MultinomialNB\n",
    "from sklearn.pipeline import Pipeline\n",
    "\n",
    "model_0 = Pipeline([\n",
    "    (\"tfidf\", TfidfVectorizer()),\n",
    "    (\"clf\", MultinomialNB())\n",
    "])\n",
    "history = model_0.fit(train_sentences, train_labels_encoded)"
   ]
  },
  {
   "cell_type": "code",
   "execution_count": 22,
   "id": "5860381d-1b8a-41b3-9a88-8743e96ac862",
   "metadata": {},
   "outputs": [],
   "source": [
    "model_0_preds = history.predict(test_sentences,)"
   ]
  },
  {
   "cell_type": "code",
   "execution_count": 23,
   "id": "00da417b-5aa9-43bb-aadc-b67609c1e58c",
   "metadata": {},
   "outputs": [
    {
     "data": {
      "text/plain": [
       "{'accuracy': 71.6674962667994,\n",
       " 'precision': 0.7124322482375202,\n",
       " 'recall': 0.716674962667994,\n",
       " 'f1': 0.6925101703856846}"
      ]
     },
     "execution_count": 23,
     "metadata": {},
     "output_type": "execute_result"
    }
   ],
   "source": [
    "from helper_functions import calculate_results\n",
    "model_0_results = calculate_results(\n",
    "    test_labels_encoded,\n",
    "    model_0_preds\n",
    ")\n",
    "model_0_results"
   ]
  },
  {
   "cell_type": "markdown",
   "id": "bf464120-70eb-4b1d-aded-93b59bd6b097",
   "metadata": {},
   "source": [
    "### Model1: Conv1D + token embbedings"
   ]
  },
  {
   "cell_type": "code",
   "execution_count": 24,
   "id": "b1505c1d-65c6-498d-9fb0-8c1de2bdbae3",
   "metadata": {},
   "outputs": [
    {
     "name": "stderr",
     "output_type": "stream",
     "text": [
      "2024-06-26 21:05:00.861169: I external/local_xla/xla/stream_executor/cuda/cuda_executor.cc:901] successful NUMA node read from SysFS had negative value (-1), but there must be at least one NUMA node, so returning NUMA node zero. See more at https://github.com/torvalds/linux/blob/v6.0/Documentation/ABI/testing/sysfs-bus-pci#L344-L355\n",
      "2024-06-26 21:05:01.046812: I external/local_xla/xla/stream_executor/cuda/cuda_executor.cc:901] successful NUMA node read from SysFS had negative value (-1), but there must be at least one NUMA node, so returning NUMA node zero. See more at https://github.com/torvalds/linux/blob/v6.0/Documentation/ABI/testing/sysfs-bus-pci#L344-L355\n",
      "2024-06-26 21:05:01.047143: I external/local_xla/xla/stream_executor/cuda/cuda_executor.cc:901] successful NUMA node read from SysFS had negative value (-1), but there must be at least one NUMA node, so returning NUMA node zero. See more at https://github.com/torvalds/linux/blob/v6.0/Documentation/ABI/testing/sysfs-bus-pci#L344-L355\n",
      "2024-06-26 21:05:01.048339: I external/local_xla/xla/stream_executor/cuda/cuda_executor.cc:901] successful NUMA node read from SysFS had negative value (-1), but there must be at least one NUMA node, so returning NUMA node zero. See more at https://github.com/torvalds/linux/blob/v6.0/Documentation/ABI/testing/sysfs-bus-pci#L344-L355\n",
      "2024-06-26 21:05:01.048588: I external/local_xla/xla/stream_executor/cuda/cuda_executor.cc:901] successful NUMA node read from SysFS had negative value (-1), but there must be at least one NUMA node, so returning NUMA node zero. See more at https://github.com/torvalds/linux/blob/v6.0/Documentation/ABI/testing/sysfs-bus-pci#L344-L355\n",
      "2024-06-26 21:05:01.048768: I external/local_xla/xla/stream_executor/cuda/cuda_executor.cc:901] successful NUMA node read from SysFS had negative value (-1), but there must be at least one NUMA node, so returning NUMA node zero. See more at https://github.com/torvalds/linux/blob/v6.0/Documentation/ABI/testing/sysfs-bus-pci#L344-L355\n",
      "2024-06-26 21:05:01.120922: I external/local_xla/xla/stream_executor/cuda/cuda_executor.cc:901] successful NUMA node read from SysFS had negative value (-1), but there must be at least one NUMA node, so returning NUMA node zero. See more at https://github.com/torvalds/linux/blob/v6.0/Documentation/ABI/testing/sysfs-bus-pci#L344-L355\n",
      "2024-06-26 21:05:01.121108: I external/local_xla/xla/stream_executor/cuda/cuda_executor.cc:901] successful NUMA node read from SysFS had negative value (-1), but there must be at least one NUMA node, so returning NUMA node zero. See more at https://github.com/torvalds/linux/blob/v6.0/Documentation/ABI/testing/sysfs-bus-pci#L344-L355\n",
      "2024-06-26 21:05:01.121251: I external/local_xla/xla/stream_executor/cuda/cuda_executor.cc:901] successful NUMA node read from SysFS had negative value (-1), but there must be at least one NUMA node, so returning NUMA node zero. See more at https://github.com/torvalds/linux/blob/v6.0/Documentation/ABI/testing/sysfs-bus-pci#L344-L355\n",
      "2024-06-26 21:05:01.121366: I tensorflow/core/common_runtime/gpu/gpu_device.cc:1929] Created device /job:localhost/replica:0/task:0/device:GPU:0 with 2784 MB memory:  -> device: 0, name: NVIDIA GeForce GTX 1650 Ti, pci bus id: 0000:01:00.0, compute capability: 7.5\n"
     ]
    }
   ],
   "source": [
    "from tensorflow.keras.layers import TextVectorization\n",
    "\n",
    "# use default TextVectorization parameters\n",
    "vocab_length =  70_000\n",
    "max_length = 50\n",
    "text_vectorizer = TextVectorization(\n",
    "  max_tokens=vocab_length, # How many words are in vocab\n",
    "  standardize=\"lower_and_strip_punctuation\",\n",
    "  output_mode=\"int\", # How to map words to num\n",
    "  output_sequence_length=max_length, # how long does sequences will be\n",
    "  pad_to_max_tokens=True\n",
    ")"
   ]
  },
  {
   "cell_type": "code",
   "execution_count": 25,
   "id": "0fbc3a93-b36b-4fd3-ae5f-63ea3b166181",
   "metadata": {},
   "outputs": [],
   "source": [
    "text_vectorizer.adapt(train_sentences)"
   ]
  },
  {
   "cell_type": "code",
   "execution_count": 26,
   "id": "e50c7b81-f422-439e-8ee7-6cd8a1e737ce",
   "metadata": {},
   "outputs": [
    {
     "name": "stderr",
     "output_type": "stream",
     "text": [
      "2024-06-26 21:05:11.985460: I external/local_tsl/tsl/platform/default/subprocess.cc:304] Start cannot spawn child process: No such file or directory\n"
     ]
    },
    {
     "data": {
      "text/plain": [
       "<tf.Tensor: shape=(1, 50), dtype=int64, numpy=\n",
       "array([[    1, 25624,  9118,    20,     1,  7329,     6,  2807, 10096,\n",
       "            0,     0,     0,     0,     0,     0,     0,     0,     0,\n",
       "            0,     0,     0,     0,     0,     0,     0,     0,     0,\n",
       "            0,     0,     0,     0,     0,     0,     0,     0,     0,\n",
       "            0,     0,     0,     0,     0,     0,     0,     0,     0,\n",
       "            0,     0,     0,     0,     0]])>"
      ]
     },
     "execution_count": 26,
     "metadata": {},
     "output_type": "execute_result"
    }
   ],
   "source": [
    "sample_sentence = \"Hello, my name is Borak, nice to meet you!\"\n",
    "text_vectorizer([sample_sentence])"
   ]
  },
  {
   "cell_type": "code",
   "execution_count": 27,
   "id": "7761bb2a-c4e5-47df-94e6-805d9ff93a30",
   "metadata": {},
   "outputs": [],
   "source": [
    "embedding = tf.keras.layers.Embedding(\n",
    "    input_dim=vocab_length,\n",
    "    output_dim=512,\n",
    "    input_length=max_length,\n",
    "    mask_zero=True\n",
    ")"
   ]
  },
  {
   "cell_type": "markdown",
   "id": "25324fd4-68cd-49b7-8f82-52d26c21ff6f",
   "metadata": {},
   "source": [
    "#### Creating tf datasets "
   ]
  },
  {
   "cell_type": "code",
   "execution_count": 28,
   "id": "3fd7f413-e408-4470-a799-a590c109ba06",
   "metadata": {},
   "outputs": [
    {
     "data": {
      "text/plain": [
       "<_TensorSliceDataset element_spec=(TensorSpec(shape=(), dtype=tf.string, name=None), TensorSpec(shape=(5,), dtype=tf.float64, name=None))>"
      ]
     },
     "execution_count": 28,
     "metadata": {},
     "output_type": "execute_result"
    }
   ],
   "source": [
    "train_dataset = tf.data.Dataset.from_tensor_slices((train_sentences, train_labels_one_hot))\n",
    "val_dataset = tf.data.Dataset.from_tensor_slices((val_sentences, val_labels_one_hot))\n",
    "test_dataset = tf.data.Dataset.from_tensor_slices((test_sentences, test_labels_one_hot))\n",
    "\n",
    "train_dataset"
   ]
  },
  {
   "cell_type": "code",
   "execution_count": 29,
   "id": "d2a49589-042a-40ee-8b98-1645c5fb2b2f",
   "metadata": {},
   "outputs": [],
   "source": [
    "# Prefetch\n",
    "train_dataset = train_dataset.batch(32).prefetch(tf.data.AUTOTUNE)\n",
    "val_dataset = val_dataset.batch(32).prefetch(tf.data.AUTOTUNE)\n",
    "test_dataset = test_dataset.batch(32).prefetch(tf.data.AUTOTUNE)"
   ]
  },
  {
   "cell_type": "markdown",
   "id": "97e4ea96-04d1-4c68-a767-d7d459880ba0",
   "metadata": {},
   "source": [
    "#### Creating model"
   ]
  },
  {
   "cell_type": "code",
   "execution_count": 30,
   "id": "e6776073-3921-4756-84c7-34ef79da08c2",
   "metadata": {},
   "outputs": [],
   "source": [
    "# Create a model\n",
    "from tensorflow.keras import layers\n",
    "inputs = layers.Input(shape=(1,), dtype=tf.string)\n",
    "x = text_vectorizer(inputs)\n",
    "x = embedding(x)\n",
    "x = layers.Conv1D(64, kernel_size=5, padding=\"same\", activation=\"relu\")(x)\n",
    "x = layers.GlobalAveragePooling1D()(x)\n",
    "outputs = layers.Dense(5, activation=\"softmax\")(x)\n",
    "\n",
    "model_1 = tf.keras.Model(inputs, outputs)"
   ]
  },
  {
   "cell_type": "code",
   "execution_count": 31,
   "id": "22e711ce-8a86-4034-805b-5e420d204b92",
   "metadata": {},
   "outputs": [],
   "source": [
    "model_1.compile(\n",
    "    optimizer=\"Adam\",\n",
    "    loss=tf.keras.losses.categorical_crossentropy,\n",
    "    metrics=[\"accuracy\"]\n",
    ")"
   ]
  },
  {
   "cell_type": "code",
   "execution_count": 32,
   "id": "f3f36bd3-b709-46cd-a798-e4cc80279c83",
   "metadata": {},
   "outputs": [
    {
     "name": "stdout",
     "output_type": "stream",
     "text": [
      "Epoch 1/5\n"
     ]
    },
    {
     "name": "stderr",
     "output_type": "stream",
     "text": [
      "2024-06-26 21:05:50.394502: I external/local_xla/xla/stream_executor/cuda/cuda_dnn.cc:454] Loaded cuDNN version 8904\n",
      "2024-06-26 21:05:50.700428: I external/local_tsl/tsl/platform/default/subprocess.cc:304] Start cannot spawn child process: No such file or directory\n",
      "2024-06-26 21:05:51.058276: I external/local_xla/xla/service/service.cc:168] XLA service 0x7fe124da8ce0 initialized for platform CUDA (this does not guarantee that XLA will be used). Devices:\n",
      "2024-06-26 21:05:51.058346: I external/local_xla/xla/service/service.cc:176]   StreamExecutor device (0): NVIDIA GeForce GTX 1650 Ti, Compute Capability 7.5\n",
      "2024-06-26 21:05:51.088668: I tensorflow/compiler/mlir/tensorflow/utils/dump_mlir_util.cc:269] disabling MLIR crash reproducer, set env var `MLIR_CRASH_REPRODUCER_DIRECTORY` to enable.\n",
      "WARNING: All log messages before absl::InitializeLog() is called are written to STDERR\n",
      "I0000 00:00:1719425151.235982    3872 device_compiler.h:186] Compiled cluster using XLA!  This line is logged at most once for the lifetime of the process.\n"
     ]
    },
    {
     "name": "stdout",
     "output_type": "stream",
     "text": [
      "5627/5627 [==============================] - ETA: 0s - loss: 0.5886 - accuracy: 0.7870WARNING:tensorflow:Your input ran out of data; interrupting training. Make sure that your dataset or generator can generate at least `steps_per_epoch * epochs` batches (in this case, 30212 batches). You may need to use the repeat() function when building your dataset.\n",
      "5627/5627 [==============================] - 134s 23ms/step - loss: 0.5886 - accuracy: 0.7870 - val_loss: 0.5293 - val_accuracy: 0.8105\n",
      "Epoch 2/5\n",
      "   7/5627 [..............................] - ETA: 1:50 - loss: 0.5982 - accuracy: 0.7902"
     ]
    },
    {
     "name": "stderr",
     "output_type": "stream",
     "text": [
      "2024-06-26 21:08:03.516582: I tensorflow/core/framework/local_rendezvous.cc:421] Local rendezvous recv item cancelled. Key hash: 10691324595616781284\n",
      "2024-06-26 21:08:03.516644: I tensorflow/core/framework/local_rendezvous.cc:421] Local rendezvous recv item cancelled. Key hash: 7418058887113019749\n",
      "2024-06-26 21:08:03.516669: I tensorflow/core/framework/local_rendezvous.cc:421] Local rendezvous recv item cancelled. Key hash: 13068221281480751637\n",
      "2024-06-26 21:08:03.516680: I tensorflow/core/framework/local_rendezvous.cc:421] Local rendezvous recv item cancelled. Key hash: 15321840845383745233\n",
      "2024-06-26 21:08:03.516696: I tensorflow/core/framework/local_rendezvous.cc:421] Local rendezvous recv item cancelled. Key hash: 12806813954593337301\n"
     ]
    },
    {
     "name": "stdout",
     "output_type": "stream",
     "text": [
      "5627/5627 [==============================] - 105s 19ms/step - loss: 0.4219 - accuracy: 0.8528\n",
      "Epoch 3/5\n",
      "5627/5627 [==============================] - 105s 19ms/step - loss: 0.3142 - accuracy: 0.8944\n",
      "Epoch 4/5\n",
      "5627/5627 [==============================] - 109s 19ms/step - loss: 0.2244 - accuracy: 0.9278\n",
      "Epoch 5/5\n",
      "5627/5627 [==============================] - 105s 19ms/step - loss: 0.1602 - accuracy: 0.9508\n"
     ]
    }
   ],
   "source": [
    "history_1 = model_1.fit(\n",
    "    train_dataset,\n",
    "    validation_data=val_dataset,\n",
    "    validation_steps=len(val_sentences),\n",
    "    epochs=5\n",
    ")"
   ]
  },
  {
   "cell_type": "code",
   "execution_count": 33,
   "id": "2a562b2c-be3b-480f-a74f-e28d6e827480",
   "metadata": {},
   "outputs": [
    {
     "name": "stdout",
     "output_type": "stream",
     "text": [
      "942/942 [==============================] - 4s 4ms/step\n"
     ]
    },
    {
     "data": {
      "text/plain": [
       "<tf.Tensor: shape=(30135,), dtype=int64, numpy=array([3, 4, 2, ..., 4, 4, 4])>"
      ]
     },
     "execution_count": 33,
     "metadata": {},
     "output_type": "execute_result"
    }
   ],
   "source": [
    "model_1_pred_probs = model_1.predict(test_dataset)\n",
    "model_1_preds = tf.argmax(model_1_pred_probs, axis=1)\n",
    "model_1_preds"
   ]
  },
  {
   "cell_type": "code",
   "execution_count": 34,
   "id": "a80bfcf6-586f-4345-a9ee-09765ec34d2a",
   "metadata": {},
   "outputs": [],
   "source": [
    "model_1_results = calculate_results(\n",
    "    test_labels_encoded,\n",
    "    model_1_preds\n",
    ")"
   ]
  },
  {
   "cell_type": "code",
   "execution_count": 35,
   "id": "2dba3be1-98ce-464c-ab95-386bf6ba41ad",
   "metadata": {},
   "outputs": [
    {
     "data": {
      "text/plain": [
       "{'accuracy': 77.2755931640949,\n",
       " 'precision': 0.7700241964363143,\n",
       " 'recall': 0.772755931640949,\n",
       " 'f1': 0.7708521794447235}"
      ]
     },
     "execution_count": 35,
     "metadata": {},
     "output_type": "execute_result"
    }
   ],
   "source": [
    "model_1_results"
   ]
  },
  {
   "cell_type": "markdown",
   "id": "5c2f5d89-4ba6-4a62-8238-2dae8fdd6c3b",
   "metadata": {},
   "source": [
    "### Model2: Feature extraction with pretrained embeddings"
   ]
  },
  {
   "cell_type": "code",
   "execution_count": 36,
   "id": "a5d9fe60-b400-445d-b302-2c16db71e4a8",
   "metadata": {},
   "outputs": [],
   "source": [
    "import tensorflow_hub as tfhub\n",
    "USE_embedding = tfhub.KerasLayer(\n",
    "    \"../USE\", \n",
    "    trainable=False,\n",
    "    input_shape = [],\n",
    "    dtype = tf.string,\n",
    ")"
   ]
  },
  {
   "cell_type": "code",
   "execution_count": 37,
   "id": "b21b8b66-846a-4c72-8310-6544244723e0",
   "metadata": {},
   "outputs": [],
   "source": [
    "inputs = tf.keras.layers.Input(shape=(), dtype=tf.string)\n",
    "x = USE_embedding(inputs)\n",
    "x = layers.Dense(128, activation=\"relu\")(x)\n",
    "outputs = layers.Dense(5, activation='softmax')(x)\n",
    "\n",
    "model_2 = tf.keras.Model(inputs, outputs)"
   ]
  },
  {
   "cell_type": "code",
   "execution_count": 38,
   "id": "96e633d6-1789-4908-8b2d-21afaecc20b1",
   "metadata": {},
   "outputs": [],
   "source": [
    "model_2.compile(\n",
    "    optimizer=tf.keras.optimizers.Adam(),\n",
    "    loss=tf.keras.losses.categorical_crossentropy,\n",
    "    metrics=[\"accuracy\"]\n",
    ")"
   ]
  },
  {
   "cell_type": "code",
   "execution_count": 39,
   "id": "8d552a5c-6147-4969-95f7-cb906b0c970c",
   "metadata": {},
   "outputs": [
    {
     "name": "stdout",
     "output_type": "stream",
     "text": [
      "Epoch 1/5\n",
      "5621/5627 [============================>.] - ETA: 0s - loss: 0.7309 - accuracy: 0.7209WARNING:tensorflow:Your input ran out of data; interrupting training. Make sure that your dataset or generator can generate at least `steps_per_epoch * epochs` batches (in this case, 30212 batches). You may need to use the repeat() function when building your dataset.\n"
     ]
    },
    {
     "name": "stderr",
     "output_type": "stream",
     "text": [
      "2024-06-26 21:16:12.476578: I tensorflow/core/framework/local_rendezvous.cc:421] Local rendezvous recv item cancelled. Key hash: 18243478635263394232\n",
      "2024-06-26 21:16:12.476618: I tensorflow/core/framework/local_rendezvous.cc:421] Local rendezvous recv item cancelled. Key hash: 12139284875124044728\n",
      "2024-06-26 21:16:12.476626: I tensorflow/core/framework/local_rendezvous.cc:425] Local rendezvous send item cancelled. Key hash: 16028272755198971070\n",
      "2024-06-26 21:16:12.476633: I tensorflow/core/framework/local_rendezvous.cc:421] Local rendezvous recv item cancelled. Key hash: 837842833262069979\n",
      "2024-06-26 21:16:12.476641: I tensorflow/core/framework/local_rendezvous.cc:421] Local rendezvous recv item cancelled. Key hash: 8166041400215162893\n",
      "2024-06-26 21:16:12.476648: I tensorflow/core/framework/local_rendezvous.cc:421] Local rendezvous recv item cancelled. Key hash: 11853381352475896567\n",
      "2024-06-26 21:16:12.476654: I tensorflow/core/framework/local_rendezvous.cc:421] Local rendezvous recv item cancelled. Key hash: 6995087848468901967\n",
      "2024-06-26 21:16:12.476660: I tensorflow/core/framework/local_rendezvous.cc:421] Local rendezvous recv item cancelled. Key hash: 15969018048132643961\n",
      "WARNING:tensorflow:Your input ran out of data; interrupting training. Make sure that your dataset or generator can generate at least `steps_per_epoch * epochs` batches (in this case, 30212 batches). You may need to use the repeat() function when building your dataset.\n"
     ]
    },
    {
     "name": "stdout",
     "output_type": "stream",
     "text": [
      "5627/5627 [==============================] - 56s 9ms/step - loss: 0.7308 - accuracy: 0.7210 - val_loss: 0.6594 - val_accuracy: 0.7482\n",
      "Epoch 2/5\n",
      "5627/5627 [==============================] - 43s 8ms/step - loss: 0.6386 - accuracy: 0.7581\n",
      "Epoch 3/5\n",
      "5627/5627 [==============================] - 43s 8ms/step - loss: 0.6034 - accuracy: 0.7720\n",
      "Epoch 4/5\n",
      "5627/5627 [==============================] - 43s 8ms/step - loss: 0.5802 - accuracy: 0.7814\n",
      "Epoch 5/5\n",
      "5627/5627 [==============================] - 44s 8ms/step - loss: 0.5626 - accuracy: 0.7884\n"
     ]
    }
   ],
   "source": [
    "history_2 = model_2.fit(\n",
    "    train_dataset,\n",
    "    epochs=5,\n",
    "    validation_data=val_dataset,\n",
    "    validation_steps=len(val_sentences)\n",
    ")"
   ]
  },
  {
   "cell_type": "code",
   "execution_count": 40,
   "id": "bad5f220-5394-409e-a06c-887b2eb3c95a",
   "metadata": {},
   "outputs": [
    {
     "name": "stdout",
     "output_type": "stream",
     "text": [
      "945/945 [==============================] - 7s 7ms/step\n"
     ]
    },
    {
     "data": {
      "text/plain": [
       "{'accuracy': 77.3732291804581,\n",
       " 'precision': 0.7721113302088481,\n",
       " 'recall': 0.7737322918045809,\n",
       " 'f1': 0.7698780362463314}"
      ]
     },
     "execution_count": 40,
     "metadata": {},
     "output_type": "execute_result"
    }
   ],
   "source": [
    "model_2_preds = tf.argmax(model_2.predict(val_dataset), axis=1)\n",
    "model_2_results = calculate_results(val_labels_encoded, model_2_preds)\n",
    "model_2_results"
   ]
  },
  {
   "cell_type": "markdown",
   "id": "d1474464-9f85-4f22-b0b0-8a64eedc041f",
   "metadata": {},
   "source": [
    "### Model3: Conv1D with char embedding"
   ]
  },
  {
   "cell_type": "code",
   "execution_count": 41,
   "id": "3d6d63c4-ca9a-4533-9a62-6f4be0125754",
   "metadata": {},
   "outputs": [
    {
     "data": {
      "text/plain": [
       "<tf.Tensor: shape=(5, 512), dtype=float32, numpy=\n",
       "array([[-0.03142553, -0.01687619,  0.02631524, ..., -0.07626341,\n",
       "         0.00296729,  0.04952101],\n",
       "       [ 0.0203605 , -0.07000163,  0.04469849, ..., -0.07390847,\n",
       "        -0.02310359, -0.01881832],\n",
       "       [ 0.02793263, -0.05721048,  0.01098407, ..., -0.09221515,\n",
       "         0.04151777,  0.00654545],\n",
       "       [ 0.0279326 , -0.05721049,  0.01098406, ..., -0.09221514,\n",
       "         0.04151776,  0.00654545],\n",
       "       [ 0.05602327, -0.04955822,  0.06383324, ..., -0.0794097 ,\n",
       "         0.03333949,  0.04332928]], dtype=float32)>"
      ]
     },
     "execution_count": 41,
     "metadata": {},
     "output_type": "execute_result"
    }
   ],
   "source": [
    "USE_embedding([\"h\", \"e\", \"l\", \"l\", \"o\"])"
   ]
  },
  {
   "cell_type": "code",
   "execution_count": 42,
   "id": "23de82c6-fbbb-4baa-8e64-5b6e49b51e30",
   "metadata": {},
   "outputs": [],
   "source": [
    "def split_chars(seq):\n",
    "    return \" \".join(list(seq))"
   ]
  },
  {
   "cell_type": "code",
   "execution_count": 43,
   "id": "30a1834d-ae26-40d0-8297-b85ba0e05d8b",
   "metadata": {},
   "outputs": [],
   "source": [
    "train_chars = [split_chars(seq) for seq in train_sentences]\n",
    "val_chars = [split_chars(seq) for seq in val_sentences]\n",
    "test_chars = [split_chars(seq) for seq in test_sentences]"
   ]
  },
  {
   "cell_type": "code",
   "execution_count": 44,
   "id": "1761c30f-0f54-4fad-94b8-eab1cae8f700",
   "metadata": {},
   "outputs": [
    {
     "data": {
      "text/plain": [
       "149.3662574983337"
      ]
     },
     "execution_count": 44,
     "metadata": {},
     "output_type": "execute_result"
    }
   ],
   "source": [
    "import numpy as np\n",
    "char_lens = [len(i) for i in train_sentences]\n",
    "mean_char_len = np.mean(char_lens)\n",
    "mean_char_len"
   ]
  },
  {
   "cell_type": "code",
   "execution_count": 45,
   "id": "9ae1f797-7a61-4571-b10a-bb917013461a",
   "metadata": {},
   "outputs": [
    {
     "data": {
      "image/png": "[encoded data removed]",
      "text/plain": [
       "<Figure size 640x480 with 1 Axes>"
      ]
     },
     "metadata": {},
     "output_type": "display_data"
    }
   ],
   "source": [
    "import matplotlib.pyplot as plt\n",
    "plt.hist(char_lens, bins=200);"
   ]
  },
  {
   "cell_type": "code",
   "execution_count": 46,
   "id": "31d22bcf-2e46-4021-95f6-07a11ef6bd81",
   "metadata": {},
   "outputs": [
    {
     "data": {
      "text/plain": [
       "290"
      ]
     },
     "execution_count": 46,
     "metadata": {},
     "output_type": "execute_result"
    }
   ],
   "source": [
    "# 95%\n",
    "output_seq_char_len = int(np.percentile(char_lens, 95))\n",
    "output_seq_char_len"
   ]
  },
  {
   "cell_type": "code",
   "execution_count": 47,
   "id": "ac62b364-1f17-4ad1-89a7-aeb5edd84012",
   "metadata": {},
   "outputs": [
    {
     "data": {
      "text/plain": [
       "'abcdefghijklmnopqrstuvwxyz0123456789!\"#$%&\\'()*+,-./:;<=>?@[\\\\]^_`{|}~'"
      ]
     },
     "execution_count": 47,
     "metadata": {},
     "output_type": "execute_result"
    }
   ],
   "source": [
    "import string\n",
    "alphabet = string.ascii_lowercase + \\\n",
    "string.digits + string.punctuation # + space + UNK\n",
    "\n",
    "alphabet"
   ]
  },
  {
   "cell_type": "code",
   "execution_count": 48,
   "id": "2392285c-b51a-46bc-91a7-fa469c8626b1",
   "metadata": {},
   "outputs": [],
   "source": [
    "from keras  import layers\n",
    "max_tokens = len(alphabet) + 2\n",
    "char_vectorizer = layers.TextVectorization(\n",
    "    max_tokens=max_tokens,\n",
    "    output_sequence_length=output_seq_char_len,\n",
    "    standardize=\"lower_and_strip_punctuation\"\n",
    ")\n",
    "char_vectorizer.adapt(train_chars)"
   ]
  },
  {
   "cell_type": "code",
   "execution_count": 49,
   "id": "83ad5ff3-03fb-4f25-8ec5-8bf7adedf40e",
   "metadata": {},
   "outputs": [
    {
     "data": {
      "text/plain": [
       "TensorShape([1, 290, 25])"
      ]
     },
     "execution_count": 49,
     "metadata": {},
     "output_type": "execute_result"
    }
   ],
   "source": [
    "char_embed = layers.Embedding(\n",
    "    input_dim=max_tokens,\n",
    "    output_dim=25, # embedding dimension of each character\n",
    "    mask_zero=False, # don't use masks (this messes up model_5 if set to True)\n",
    ")\n",
    "\n",
    "char_embed(char_vectorizer([train_chars[0]])).shape"
   ]
  },
  {
   "cell_type": "code",
   "execution_count": 50,
   "id": "5e5ab79d-bf5d-4795-9204-96be335e68e4",
   "metadata": {},
   "outputs": [],
   "source": [
    "# Building the model\n",
    "inputs = layers.Input(shape=(1,), dtype=tf.string)\n",
    "x = char_vectorizer(inputs)\n",
    "x = char_embed(x)\n",
    "x = layers.Conv1D(64, kernel_size=5, padding=\"same\", activation=\"relu\")(x)\n",
    "x = layers.GlobalAveragePooling1D()(x)\n",
    "outputs = layers.Dense(5, activation=\"softmax\")(x)\n",
    "\n",
    "model_3 = tf.keras.Model(inputs, outputs)"
   ]
  },
  {
   "cell_type": "code",
   "execution_count": 51,
   "id": "4c824f17-27b8-4bff-8551-271a82fad273",
   "metadata": {},
   "outputs": [],
   "source": [
    "model_3.compile(\n",
    "    optimizer=tf.keras.optimizers.Adam(),\n",
    "    loss=\"categorical_crossentropy\",    \n",
    "    metrics=[\"accuracy\"])"
   ]
  },
  {
   "cell_type": "code",
   "execution_count": 52,
   "id": "b33a664b-3530-4859-a81e-d5a486ec33fa",
   "metadata": {},
   "outputs": [
    {
     "data": {
      "text/plain": [
       "<_PrefetchDataset element_spec=(TensorSpec(shape=(None,), dtype=tf.string, name=None), TensorSpec(shape=(None, 5), dtype=tf.float64, name=None))>"
      ]
     },
     "execution_count": 52,
     "metadata": {},
     "output_type": "execute_result"
    }
   ],
   "source": [
    "\n",
    "# Create char datasets\n",
    "train_char_dataset = tf.data.Dataset.from_tensor_slices((train_chars, train_labels_one_hot)).batch(32).prefetch(tf.data.AUTOTUNE)\n",
    "val_char_dataset = tf.data.Dataset.from_tensor_slices((val_chars, val_labels_one_hot)).batch(32).prefetch(tf.data.AUTOTUNE)\n",
    "\n",
    "train_char_dataset"
   ]
  },
  {
   "cell_type": "code",
   "execution_count": 53,
   "id": "83e0a9c1-d12e-450c-a36c-c63c0a424be4",
   "metadata": {},
   "outputs": [
    {
     "name": "stdout",
     "output_type": "stream",
     "text": [
      "Epoch 1/3\n",
      "5627/5627 [==============================] - 34s 6ms/step - loss: 1.3108 - accuracy: 0.4502 - val_loss: 1.2437 - val_accuracy: 0.4887\n",
      "Epoch 2/3\n",
      "5627/5627 [==============================] - 31s 6ms/step - loss: 1.2172 - accuracy: 0.5000 - val_loss: 1.1681 - val_accuracy: 0.5228\n",
      "Epoch 3/3\n",
      "5627/5627 [==============================] - 32s 6ms/step - loss: 1.1334 - accuracy: 0.5418 - val_loss: 1.0805 - val_accuracy: 0.5671\n"
     ]
    }
   ],
   "source": [
    "history_3 = model_3.fit(\n",
    "    train_char_dataset,\n",
    "    epochs=3,\n",
    "    validation_data=val_char_dataset,\n",
    "    validation_steps=len(val_char_dataset)\n",
    ")"
   ]
  },
  {
   "cell_type": "code",
   "execution_count": 54,
   "id": "15b38ce2-2651-4182-ad93-049f4fa77bf0",
   "metadata": {},
   "outputs": [
    {
     "name": "stdout",
     "output_type": "stream",
     "text": [
      "945/945 [==============================] - 3s 3ms/step\n"
     ]
    }
   ],
   "source": [
    "model_3_preds = tf.argmax(model_3.predict(val_char_dataset), axis=1)"
   ]
  },
  {
   "cell_type": "code",
   "execution_count": 55,
   "id": "4765bb70-60a0-4820-b8fa-7dcc55e0bb59",
   "metadata": {},
   "outputs": [
    {
     "data": {
      "text/plain": [
       "<tf.Tensor: shape=(30212,), dtype=int64, numpy=array([1, 4, 2, ..., 4, 2, 0])>"
      ]
     },
     "execution_count": 55,
     "metadata": {},
     "output_type": "execute_result"
    }
   ],
   "source": [
    "model_3_preds"
   ]
  },
  {
   "cell_type": "code",
   "execution_count": 56,
   "id": "181734b8-25fd-408c-aab0-371809898b6e",
   "metadata": {},
   "outputs": [],
   "source": [
    "model_3_results = calculate_results(val_labels_encoded, model_3_preds)"
   ]
  },
  {
   "cell_type": "code",
   "execution_count": 57,
   "id": "2652a8b4-232b-4989-b714-2a168505ff52",
   "metadata": {},
   "outputs": [
    {
     "data": {
      "text/plain": [
       "{'accuracy': 56.705944657751886,\n",
       " 'precision': 0.5379994924175261,\n",
       " 'recall': 0.5670594465775188,\n",
       " 'f1': 0.5398086454376365}"
      ]
     },
     "execution_count": 57,
     "metadata": {},
     "output_type": "execute_result"
    }
   ],
   "source": [
    "model_3_results"
   ]
  },
  {
   "cell_type": "markdown",
   "id": "6e827774-ce1b-4180-bc56-8dc20ecd154a",
   "metadata": {},
   "source": [
    "### Model4: (USE + char_embed) = hybrid embed layer"
   ]
  },
  {
   "cell_type": "code",
   "execution_count": 58,
   "id": "40a8c9f7-4e3f-4e94-b8d7-70c3b257b2b2",
   "metadata": {},
   "outputs": [],
   "source": [
    "# token embedding\n",
    "token_embedding_inputs = tf.keras.layers.Input(shape=[], dtype=tf.string)\n",
    "x = USE_embedding(token_embedding_inputs)\n",
    "token_outputs = tf.keras.layers.Dense(128, activation='relu')(x)\n",
    "token_embedding_model = tf.keras.Model(token_embedding_inputs, token_outputs)\n",
    "\n",
    "# char embedding\n",
    "char_embedding_inputs = tf.keras.layers.Input(shape=(1,), dtype=tf.string)\n",
    "y = char_vectorizer(char_embedding_inputs)\n",
    "y = char_embed(y)\n",
    "char_bi_lstm = tf.keras.layers.Bidirectional(tf.keras.layers.LSTM(25))(y)\n",
    "char_embedding_model = tf.keras.Model(char_embedding_inputs, char_bi_lstm)\n",
    "\n",
    "# concatenate\n",
    "combined = tf.keras.layers.concatenate([token_embedding_model.output, char_embedding_model.output])\n",
    "\n",
    "#  Create output layers\n",
    "combined_dropout = layers.Dropout(0.5)(combined)\n",
    "combined_dense = layers.Dense(200, activation='relu')(combined_dropout)\n",
    "final_dropout = layers.Dropout(0.5)(combined_dense)\n",
    "output_layer = layers.Dense(5, activation='softmax')(final_dropout)"
   ]
  },
  {
   "cell_type": "code",
   "execution_count": 59,
   "id": "8056070d-171f-4401-b9e3-0734993780ec",
   "metadata": {},
   "outputs": [],
   "source": [
    "model_4 = tf.keras.Model(\n",
    "    inputs=[\n",
    "        token_embedding_model.input,\n",
    "        char_embedding_model.input\n",
    "           ],\n",
    "    outputs=output_layer\n",
    ")"
   ]
  },
  {
   "cell_type": "code",
   "execution_count": 60,
   "id": "d119fe6f-b1b4-4cc9-a552-aa37d5abeb5d",
   "metadata": {},
   "outputs": [
    {
     "name": "stdout",
     "output_type": "stream",
     "text": [
      "Model: \"model_5\"\n",
      "__________________________________________________________________________________________________\n",
      " Layer (type)                Output Shape                 Param #   Connected to                  \n",
      "==================================================================================================\n",
      " input_5 (InputLayer)        [(None, 1)]                  0         []                            \n",
      "                                                                                                  \n",
      " input_4 (InputLayer)        [(None,)]                    0         []                            \n",
      "                                                                                                  \n",
      " text_vectorization_1 (Text  (None, 290)                  0         ['input_5[0][0]']             \n",
      " Vectorization)                                                                                   \n",
      "                                                                                                  \n",
      " keras_layer (KerasLayer)    (None, 512)                  2567978   ['input_4[0][0]']             \n",
      "                                                          24                                      \n",
      "                                                                                                  \n",
      " embedding_1 (Embedding)     (None, 290, 25)              1750      ['text_vectorization_1[1][0]']\n",
      "                                                                                                  \n",
      " dense_4 (Dense)             (None, 128)                  65664     ['keras_layer[1][0]']         \n",
      "                                                                                                  \n",
      " bidirectional (Bidirection  (None, 50)                   10200     ['embedding_1[1][0]']         \n",
      " al)                                                                                              \n",
      "                                                                                                  \n",
      " concatenate (Concatenate)   (None, 178)                  0         ['dense_4[0][0]',             \n",
      "                                                                     'bidirectional[0][0]']       \n",
      "                                                                                                  \n",
      " dropout (Dropout)           (None, 178)                  0         ['concatenate[0][0]']         \n",
      "                                                                                                  \n",
      " dense_5 (Dense)             (None, 200)                  35800     ['dropout[0][0]']             \n",
      "                                                                                                  \n",
      " dropout_1 (Dropout)         (None, 200)                  0         ['dense_5[0][0]']             \n",
      "                                                                                                  \n",
      " dense_6 (Dense)             (None, 5)                    1005      ['dropout_1[0][0]']           \n",
      "                                                                                                  \n",
      "==================================================================================================\n",
      "Total params: 256912243 (980.04 MB)\n",
      "Trainable params: 114419 (446.95 KB)\n",
      "Non-trainable params: 256797824 (979.61 MB)\n",
      "__________________________________________________________________________________________________\n"
     ]
    }
   ],
   "source": [
    "model_4.summary()"
   ]
  },
  {
   "cell_type": "code",
   "execution_count": 61,
   "id": "28d83b9a-5d69-4dc0-ad35-8f79a249bac1",
   "metadata": {},
   "outputs": [
    {
     "data": {
      "image/png": "[encoded data removed]",
      "text/plain": [
       "<IPython.core.display.Image object>"
      ]
     },
     "execution_count": 61,
     "metadata": {},
     "output_type": "execute_result"
    }
   ],
   "source": [
    "tf.keras.utils.plot_model(model_4)"
   ]
  },
  {
   "cell_type": "code",
   "execution_count": 62,
   "id": "b187afc6-2216-4c8e-adcf-0c9d8da5d32f",
   "metadata": {},
   "outputs": [],
   "source": [
    "model_4.compile(loss=\"categorical_crossentropy\",\n",
    "                optimizer=tf.keras.optimizers.Adam(), # section 4.2 of https://arxiv.org/pdf/1612.05251.pdf mentions using SGD but we'll stick with Adam\n",
    "                metrics=[\"accuracy\"])\n"
   ]
  },
  {
   "cell_type": "code",
   "execution_count": 63,
   "id": "ad485060-f541-4258-beed-34ffb49db7ae",
   "metadata": {},
   "outputs": [],
   "source": [
    "# Prepare train_dataset ((train_sentences, train_chars), train_labels_one_hot)\n",
    "train_char_token_data = tf.data.Dataset.from_tensor_slices((train_sentences, train_chars))\n",
    "train_char_token_labels = tf.data.Dataset.from_tensor_slices(train_labels_one_hot)\n",
    "train_char_token_dataset = tf.data.Dataset.zip((train_char_token_data, train_char_token_labels))\n",
    "train_char_token_dataset = train_char_token_dataset.batch(32).prefetch(tf.data.AUTOTUNE)\n",
    "\n",
    "# Repeat same steps validation data\n",
    "val_char_token_data = tf.data.Dataset.from_tensor_slices((val_sentences, val_chars))\n",
    "val_char_token_labels = tf.data.Dataset.from_tensor_slices(val_labels_one_hot)\n",
    "val_char_token_dataset = tf.data.Dataset.zip((val_char_token_data, val_char_token_labels))\n",
    "val_char_token_dataset = val_char_token_dataset.batch(32).prefetch(tf.data.AUTOTUNE)"
   ]
  },
  {
   "cell_type": "code",
   "execution_count": 64,
   "id": "0ce7cbe0-1409-496a-b98b-a57b24062e09",
   "metadata": {},
   "outputs": [
    {
     "data": {
      "text/plain": [
       "(<_PrefetchDataset element_spec=((TensorSpec(shape=(None,), dtype=tf.string, name=None), TensorSpec(shape=(None,), dtype=tf.string, name=None)), TensorSpec(shape=(None, 5), dtype=tf.float64, name=None))>,\n",
       " <_PrefetchDataset element_spec=((TensorSpec(shape=(None,), dtype=tf.string, name=None), TensorSpec(shape=(None,), dtype=tf.string, name=None)), TensorSpec(shape=(None, 5), dtype=tf.float64, name=None))>)"
      ]
     },
     "execution_count": 64,
     "metadata": {},
     "output_type": "execute_result"
    }
   ],
   "source": [
    "train_char_token_dataset, val_char_token_dataset"
   ]
  },
  {
   "cell_type": "code",
   "execution_count": null,
   "id": "6cd2e25e-f9dc-467a-b290-4afd8e721dec",
   "metadata": {},
   "outputs": [
    {
     "name": "stdout",
     "output_type": "stream",
     "text": [
      "Epoch 1/5\n",
      "5627/5627 [==============================] - 184s 32ms/step - loss: 0.7550 - accuracy: 0.7118 - val_loss: 0.6204 - val_accuracy: 0.7632\n",
      "Epoch 2/5\n",
      "5627/5627 [==============================] - 189s 34ms/step - loss: 0.6706 - accuracy: 0.7472 - val_loss: 0.5963 - val_accuracy: 0.7744\n",
      "Epoch 3/5\n",
      "3058/5627 [===============>..............] - ETA: 1:20 - loss: 0.6532 - accuracy: 0.7533"
     ]
    }
   ],
   "source": [
    "history_4 = model_4.fit(\n",
    "    train_char_token_dataset,\n",
    "    epochs=5,\n",
    "    validation_data=val_char_token_dataset,\n",
    "    validation_steps=len(val_char_token_dataset)\n",
    ")"
   ]
  },
  {
   "cell_type": "code",
   "execution_count": null,
   "id": "c74eecd3-c2ec-4301-94b3-d2be0733a951",
   "metadata": {},
   "outputs": [],
   "source": [
    "model_4_preds = tf.argmax(model_4.predict(val_char_token_dataset), axis=1)"
   ]
  },
  {
   "cell_type": "code",
   "execution_count": null,
   "id": "e630fdd4-38a7-4028-aeb5-b890a8c02147",
   "metadata": {},
   "outputs": [],
   "source": [
    "model_4_results = calculate_results(y_true=val_labels_encoded,\n",
    "                                    y_pred=model_4_preds)\n",
    "model_4_results"
   ]
  },
  {
   "cell_type": "markdown",
   "id": "56dac2b3-9abd-4c21-9878-cd26401888b2",
   "metadata": {},
   "source": [
    "### Model5: USE_embedding + char_embedding + positional_embedding"
   ]
  },
  {
   "cell_type": "code",
   "execution_count": null,
   "id": "f697cbb7-87b8-4c5b-a174-87a4bbcb4791",
   "metadata": {},
   "outputs": [],
   "source": [
    "train_df.head()"
   ]
  },
  {
   "cell_type": "code",
   "execution_count": null,
   "id": "87e66485-c126-412b-ba1b-b220f2c2cf0c",
   "metadata": {},
   "outputs": [],
   "source": [
    "train_df.line_number.plot.hist()"
   ]
  },
  {
   "cell_type": "code",
   "execution_count": null,
   "id": "458a44eb-4e40-4423-9e3a-f140cbac0db7",
   "metadata": {},
   "outputs": [],
   "source": [
    "train_line_numbers_one_hot = tf.one_hot(train_df.line_number.to_numpy(), depth=15)\n",
    "val_line_numbers_one_hot = tf.one_hot(val_df.line_number.to_numpy(), depth=15)\n",
    "test_line_numbers_one_hot = tf.one_hot(test_df.line_number.to_numpy(), depth=15)"
   ]
  },
  {
   "cell_type": "code",
   "execution_count": null,
   "id": "23b49a5c-4ba6-4487-a9e0-85a1ba92c32a",
   "metadata": {},
   "outputs": [],
   "source": [
    "train_line_numbers_one_hot.shape, train_line_numbers_one_hot[:20]"
   ]
  },
  {
   "cell_type": "code",
   "execution_count": null,
   "id": "649f6da1-ee72-4194-bf72-fa6e63ca1eaf",
   "metadata": {},
   "outputs": [],
   "source": [
    "# Check the distribution of total lines\n",
    "train_df.total_lines.plot.hist();\n"
   ]
  },
  {
   "cell_type": "code",
   "execution_count": null,
   "id": "266f188b-6c8b-4983-8b05-675977f2d3ae",
   "metadata": {},
   "outputs": [],
   "source": [
    "np.percentile(train_df.total_lines, 98)"
   ]
  },
  {
   "cell_type": "code",
   "execution_count": null,
   "id": "3695a481-9767-4443-b6d8-cf25f01e4283",
   "metadata": {},
   "outputs": [],
   "source": [
    "np.percentile(train_df.line_number, 98)"
   ]
  },
  {
   "cell_type": "code",
   "execution_count": null,
   "id": "422d946d-aa77-4e66-b91f-966d2c057cd6",
   "metadata": {},
   "outputs": [],
   "source": [
    "train_total_lines_one_hot = tf.one_hot(train_df.total_lines.to_numpy(), depth=20)\n",
    "val_total_lines_one_hot = tf.one_hot(val_df.total_lines.to_numpy(), depth=20)\n",
    "test_total_lines_one_hot = tf.one_hot(test_df.total_lines.to_numpy(), depth=20)"
   ]
  },
  {
   "cell_type": "code",
   "execution_count": null,
   "id": "e9b1ca67-3cf3-44f1-8239-391c93620428",
   "metadata": {},
   "outputs": [],
   "source": [
    "train_total_lines_one_hot.shape, train_total_lines_one_hot[:10]"
   ]
  },
  {
   "cell_type": "code",
   "execution_count": null,
   "id": "a071775d-ec5d-4086-ad23-65d10e206f4c",
   "metadata": {},
   "outputs": [],
   "source": [
    "from keras import layers\n",
    "\n",
    "token_inputs = layers.Input(shape=[], dtype=\"string\", name=\"token_inputs\")\n",
    "token_embeddings = USE_embedding(token_inputs)\n",
    "token_outputs = layers.Dense(128, activation=\"relu\")(token_embeddings)\n",
    "token_model = tf.keras.Model(inputs=token_inputs,\n",
    "                             outputs=token_outputs)\n",
    "\n",
    "# 2. Char inputs\n",
    "char_inputs = layers.Input(shape=(1,), dtype=tf.string, name=\"char_inputs\")\n",
    "char_vectors = char_vectorizer(char_inputs)\n",
    "char_embeddings = char_embed(char_vectors)\n",
    "char_bi_lstm = layers.Bidirectional(layers.LSTM(32))(char_embeddings)\n",
    "char_model = tf.keras.Model(inputs=char_inputs,\n",
    "                            outputs=char_bi_lstm)\n",
    "\n",
    "# 3. Line numbers inputs\n",
    "line_number_inputs = layers.Input(shape=(15,), dtype=tf.int32, name=\"line_number_inputs\")\n",
    "x = layers.Dense(32, activation=\"relu\")(line_number_inputs)\n",
    "line_number_model = tf.keras.Model(line_number_inputs, x)\n",
    "\n",
    "# 4. Total lines inputs\n",
    "total_lines_inputs = layers.Input(shape=(20,), dtype=tf.int32, name=\"total_lines_inputs\")\n",
    "y = layers.Dense(32, activation=\"relu\")(total_lines_inputs)\n",
    "total_line_model = tf.keras.Model(inputs=total_lines_inputs,\n",
    "                                  outputs=y)\n",
    "\n",
    "# 5. Combine token + char models\n",
    "combined_embeddings = layers.Concatenate()([token_model.output, char_model.output])\n",
    "\n",
    "z = layers.Dense(256, activation=\"relu\")(combined_embeddings)\n",
    "z = layers.Dropout(0.5)(z)\n",
    "\n",
    "# 6. Combine pos embeddings with token/char embeddings\n",
    "z = layers.Concatenate()([line_number_model.output, total_line_model.output, z])\n",
    "\n",
    "# 7. Output\n",
    "output_layer = layers.Dense(5, activation=\"softmax\")(z)\n",
    "\n",
    "# 8. Model_5\n",
    "model_5 = tf.keras.Model([\n",
    "    line_number_model.input,\n",
    "    total_line_model.input,\n",
    "    token_model.input,\n",
    "    char_model.input\n",
    "], output_layer)"
   ]
  },
  {
   "cell_type": "code",
   "execution_count": null,
   "id": "216f61cb-9b55-468a-b058-9db864e2c0b9",
   "metadata": {},
   "outputs": [],
   "source": [
    "model_5.summary()"
   ]
  },
  {
   "cell_type": "code",
   "execution_count": null,
   "id": "3c67969c-9b21-4b8f-ab24-496b2d4c73a5",
   "metadata": {},
   "outputs": [],
   "source": [
    "from tensorflow.keras.utils import plot_model\n",
    "plot_model(model_5)"
   ]
  },
  {
   "cell_type": "code",
   "execution_count": null,
   "id": "e85fcff7-6523-48a1-89b1-4133aba18764",
   "metadata": {},
   "outputs": [],
   "source": [
    "model_5.compile(\n",
    "    loss=tf.keras.losses.CategoricalCrossentropy(label_smoothing=0.2),\n",
    "    optimizer=tf.keras.optimizers.Adam(),\n",
    "    metrics=[\"accuracy\"]\n",
    ")"
   ]
  },
  {
   "cell_type": "code",
   "execution_count": null,
   "id": "cb83e751-50bc-4173-becf-c3d7e3e6470c",
   "metadata": {},
   "outputs": [],
   "source": [
    "# Training\n",
    "train_pos_char_token_data = tf.data.Dataset.from_tensor_slices((\n",
    "    train_line_numbers_one_hot,\n",
    "    train_total_lines_one_hot,\n",
    "    train_sentences,\n",
    "    train_chars\n",
    "))\n",
    "train_pos_char_token_labels = tf.data.Dataset.from_tensor_slices(train_labels_one_hot)\n",
    "train_pos_char_token_dataset = tf.data.Dataset.zip((train_pos_char_token_data, train_pos_char_token_labels))\n",
    "train_pos_char_token_dataset = train_pos_char_token_dataset.batch(32).prefetch(tf.data.AUTOTUNE)\n",
    "\n",
    "# Validation\n",
    "val_pos_char_token_data = tf.data.Dataset.from_tensor_slices((val_line_numbers_one_hot,\n",
    "                                                              val_total_lines_one_hot,\n",
    "                                                              val_sentences,\n",
    "                                                              val_chars))\n",
    "val_pos_char_token_labels = tf.data.Dataset.from_tensor_slices(val_labels_one_hot)\n",
    "val_pos_char_token_dataset = tf.data.Dataset.zip((val_pos_char_token_data, val_pos_char_token_labels))\n",
    "val_pos_char_token_dataset = val_pos_char_token_dataset.batch(32).prefetch(tf.data.AUTOTUNE) "
   ]
  },
  {
   "cell_type": "code",
   "execution_count": null,
   "id": "288bd5ef-426e-4e51-af50-284b80329322",
   "metadata": {},
   "outputs": [],
   "source": [
    "train_pos_char_token_dataset, val_pos_char_token_dataset"
   ]
  },
  {
   "cell_type": "code",
   "execution_count": null,
   "id": "6a4c1a0f-7a6e-4784-ac7f-c5b44d9eb305",
   "metadata": {},
   "outputs": [],
   "source": [
    "history_model_5 = model_5.fit(\n",
    "    train_pos_char_token_dataset,\n",
    "    epochs=5,\n",
    "    validation_data = val_pos_char_token_dataset,\n",
    "    validation_steps=len(val_pos_char_token_dataset)\n",
    ")"
   ]
  },
  {
   "cell_type": "code",
   "execution_count": null,
   "id": "4637e2e5-85c8-4401-b0d2-0631c234a35e",
   "metadata": {},
   "outputs": [],
   "source": [
    "model_5_preds = tf.argmax(model_5.predict(val_pos_char_token_dataset), axis=1)\n",
    "model_5_preds"
   ]
  },
  {
   "cell_type": "code",
   "execution_count": null,
   "id": "e21974a9-2601-4e48-b6db-4390ea72a1b4",
   "metadata": {},
   "outputs": [],
   "source": [
    "model_5_results = calculate_results(y_true=val_labels_encoded,\n",
    "                                    y_pred=model_5_preds)\n",
    "model_5_results"
   ]
  },
  {
   "cell_type": "code",
   "execution_count": null,
   "id": "4437e390-fc2d-48b4-a9d9-d879666fe79a",
   "metadata": {},
   "outputs": [],
   "source": [
    "model_5.save(\"model_5_pub_med.keras\")"
   ]
  },
  {
   "cell_type": "markdown",
   "id": "9c02b656-61c3-4cdb-a71e-172b3a467dbc",
   "metadata": {},
   "source": [
    "## Compare models"
   ]
  },
  {
   "cell_type": "code",
   "execution_count": null,
   "id": "02471f95-e762-4c25-975f-3a3c110b5476",
   "metadata": {},
   "outputs": [],
   "source": [
    "all_model_results = pd.DataFrame({\"baseline\": baseline_results,\n",
    "                                  \"custom_token_embed_conv1d\": model_1_results,\n",
    "                                  \"pretrained_token_embed\": model_2_results,\n",
    "                                  \"custom_char_embed_conv1d\": model_3_results,\n",
    "                                  \"hybrid_char_token_embed\": model_4_results,\n",
    "                                  \"tribrid_pos_char_token_embed\": model_5_results})\n",
    "all_model_results = all_model_results.transpose()\n",
    "all_model_results"
   ]
  },
  {
   "cell_type": "code",
   "execution_count": null,
   "id": "edf97e04-de06-4e53-9842-37a64540b243",
   "metadata": {},
   "outputs": [],
   "source": [
    "all_model_results[\"accuracy\"] = all_model_results[\"accuracy\"]/100\n",
    "\n",
    "# Plot and compare all of the model results\n",
    "all_model_results.plot(kind=\"bar\", figsize=(10, 7)).legend(bbox_to_anchor=(1.0, 1.0));"
   ]
  }
 ],
 "metadata": {
  "kernelspec": {
   "display_name": "Python 3 (ipykernel)",
   "language": "python",
   "name": "python3"
  },
  "language_info": {
   "codemirror_mode": {
    "name": "ipython",
    "version": 3
   },
   "file_extension": ".py",
   "mimetype": "text/x-python",
   "name": "python",
   "nbconvert_exporter": "python",
   "pygments_lexer": "ipython3",
   "version": "3.11.5"
  }
 },
 "nbformat": 4,
 "nbformat_minor": 5
}
