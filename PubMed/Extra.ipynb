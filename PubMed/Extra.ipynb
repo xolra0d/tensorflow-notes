{
 "cells": [
  {
   "cell_type": "markdown",
   "id": "21767483-28d7-4959-a16d-fc934509ac58",
   "metadata": {},
   "source": [
    "# All Extra-exercises"
   ]
  },
  {
   "cell_type": "code",
   "execution_count": 1,
   "id": "61a28478-6d3a-49ca-9ef7-a0a65ac625fc",
   "metadata": {},
   "outputs": [
    {
     "name": "stderr",
     "output_type": "stream",
     "text": [
      "2024-07-01 10:26:07.849052: E external/local_xla/xla/stream_executor/cuda/cuda_dnn.cc:9261] Unable to register cuDNN factory: Attempting to register factory for plugin cuDNN when one has already been registered\n",
      "2024-07-01 10:26:07.849238: E external/local_xla/xla/stream_executor/cuda/cuda_fft.cc:607] Unable to register cuFFT factory: Attempting to register factory for plugin cuFFT when one has already been registered\n",
      "2024-07-01 10:26:07.899119: E external/local_xla/xla/stream_executor/cuda/cuda_blas.cc:1515] Unable to register cuBLAS factory: Attempting to register factory for plugin cuBLAS when one has already been registered\n",
      "2024-07-01 10:26:08.005027: I tensorflow/core/platform/cpu_feature_guard.cc:182] This TensorFlow binary is optimized to use available CPU instructions in performance-critical operations.\n",
      "To enable the following instructions: AVX2 FMA, in other operations, rebuild TensorFlow with the appropriate compiler flags.\n",
      "2024-07-01 10:26:09.044765: W tensorflow/compiler/tf2tensorrt/utils/py_utils.cc:38] TF-TRT Warning: Could not find TensorRT\n"
     ]
    }
   ],
   "source": [
    "import tensorflow as tf"
   ]
  },
  {
   "cell_type": "code",
   "execution_count": 2,
   "id": "d7783e26-de27-4b94-8651-5e95394adfec",
   "metadata": {},
   "outputs": [
    {
     "data": {
      "text/plain": [
       "'2.15.1'"
      ]
     },
     "execution_count": 2,
     "metadata": {},
     "output_type": "execute_result"
    }
   ],
   "source": [
    "tf.__version__"
   ]
  },
  {
   "cell_type": "markdown",
   "id": "334f56c6-e467-448b-b7a3-e724a62181ee",
   "metadata": {},
   "source": [
    "## Import datasets"
   ]
  },
  {
   "cell_type": "code",
   "execution_count": 3,
   "id": "ca7cf73e-9bba-4b90-bf52-6bbfcd8e4650",
   "metadata": {},
   "outputs": [],
   "source": [
    "dataset_path = \"pubmed-rct/PubMed_20k_RCT_numbers_replaced_with_at_sign/\""
   ]
  },
  {
   "cell_type": "code",
   "execution_count": 4,
   "id": "3293925d-b918-4c96-9235-cf7c168bc2b1",
   "metadata": {},
   "outputs": [
    {
     "data": {
      "text/plain": [
       "['pubmed-rct/PubMed_20k_RCT_numbers_replaced_with_at_sign/train.txt',\n",
       " 'pubmed-rct/PubMed_20k_RCT_numbers_replaced_with_at_sign/test.txt',\n",
       " 'pubmed-rct/PubMed_20k_RCT_numbers_replaced_with_at_sign/dev.txt']"
      ]
     },
     "execution_count": 4,
     "metadata": {},
     "output_type": "execute_result"
    }
   ],
   "source": [
    "import glob\n",
    "glob.glob(dataset_path +  \"*\")"
   ]
  },
  {
   "cell_type": "code",
   "execution_count": 5,
   "id": "cd4518ed-e037-463b-a9e0-c036f2e4cbaa",
   "metadata": {},
   "outputs": [
    {
     "data": {
      "text/plain": [
       "('pubmed-rct/PubMed_20k_RCT_numbers_replaced_with_at_sign/train.txt',\n",
       " 'pubmed-rct/PubMed_20k_RCT_numbers_replaced_with_at_sign/test.txt',\n",
       " 'pubmed-rct/PubMed_20k_RCT_numbers_replaced_with_at_sign/dev.txt')"
      ]
     },
     "execution_count": 5,
     "metadata": {},
     "output_type": "execute_result"
    }
   ],
   "source": [
    "train_file, test_file, val_file = glob.glob(dataset_path +  \"*\")\n",
    "\n",
    "train_file, test_file, val_file"
   ]
  },
  {
   "cell_type": "markdown",
   "id": "eb5f488b-8fa2-46d5-832c-d9f4df673725",
   "metadata": {},
   "source": [
    "One piece of batch will look like:\n",
    "[{\n",
    "    \"line_number\": int,\n",
    "    \"subject\": str,\n",
    "    \"text\": str,\n",
    "    \"total_lines\": int\n",
    "}]"
   ]
  },
  {
   "cell_type": "code",
   "execution_count": 6,
   "id": "2ab9c6cc-e466-47c4-aba8-966d2fc7f0eb",
   "metadata": {},
   "outputs": [],
   "source": [
    "def prepare_datasets(filename):\n",
    "    dataset = []\n",
    "    with open(filename) as f:\n",
    "        for abstract in f.read().split(\"\\n\\n\"):\n",
    "            lines = abstract.split(\"\\n\")[1:]\n",
    "            for line_number, line in enumerate(lines):\n",
    "                subject, text = line.split(\"\\t\")\n",
    "                dataset.append({\n",
    "                    \"line_number\": line_number,\n",
    "                    \"subject\": subject,\n",
    "                    \"text\": text,\n",
    "                    \"total_lines\": len(lines) - 1\n",
    "                })\n",
    "    return dataset"
   ]
  },
  {
   "cell_type": "code",
   "execution_count": 7,
   "id": "44f5320d-5756-4160-af92-a96eb3858b29",
   "metadata": {},
   "outputs": [],
   "source": [
    "import pandas as pd\n",
    "train_df = pd.DataFrame(prepare_datasets(train_file))\n",
    "val_df = pd.DataFrame(prepare_datasets(val_file))\n",
    "test_df = pd.DataFrame(prepare_datasets(test_file))"
   ]
  },
  {
   "cell_type": "code",
   "execution_count": 8,
   "id": "0479fdff-dac9-411a-9358-0cc5b0d3eb42",
   "metadata": {},
   "outputs": [
    {
     "data": {
      "text/plain": [
       "(180040, 30212, 30135)"
      ]
     },
     "execution_count": 8,
     "metadata": {},
     "output_type": "execute_result"
    }
   ],
   "source": [
    "len(train_df), len(val_df), len(test_df)"
   ]
  },
  {
   "cell_type": "code",
   "execution_count": 9,
   "id": "ce1b9417-0758-45ed-ad75-1a84f26c2978",
   "metadata": {},
   "outputs": [
    {
     "data": {
      "text/html": [
       "<div>\n",
       "<style scoped>\n",
       "    .dataframe tbody tr th:only-of-type {\n",
       "        vertical-align: middle;\n",
       "    }\n",
       "\n",
       "    .dataframe tbody tr th {\n",
       "        vertical-align: top;\n",
       "    }\n",
       "\n",
       "    .dataframe thead th {\n",
       "        text-align: right;\n",
       "    }\n",
       "</style>\n",
       "<table border=\"1\" class=\"dataframe\">\n",
       "  <thead>\n",
       "    <tr style=\"text-align: right;\">\n",
       "      <th></th>\n",
       "      <th>line_number</th>\n",
       "      <th>subject</th>\n",
       "      <th>text</th>\n",
       "      <th>total_lines</th>\n",
       "    </tr>\n",
       "  </thead>\n",
       "  <tbody>\n",
       "    <tr>\n",
       "      <th>0</th>\n",
       "      <td>0</td>\n",
       "      <td>OBJECTIVE</td>\n",
       "      <td>To investigate the efficacy of @ weeks of dail...</td>\n",
       "      <td>11</td>\n",
       "    </tr>\n",
       "    <tr>\n",
       "      <th>1</th>\n",
       "      <td>1</td>\n",
       "      <td>METHODS</td>\n",
       "      <td>A total of @ patients with primary knee OA wer...</td>\n",
       "      <td>11</td>\n",
       "    </tr>\n",
       "    <tr>\n",
       "      <th>2</th>\n",
       "      <td>2</td>\n",
       "      <td>METHODS</td>\n",
       "      <td>Outcome measures included pain reduction and i...</td>\n",
       "      <td>11</td>\n",
       "    </tr>\n",
       "  </tbody>\n",
       "</table>\n",
       "</div>"
      ],
      "text/plain": [
       "   line_number    subject                                               text  \\\n",
       "0            0  OBJECTIVE  To investigate the efficacy of @ weeks of dail...   \n",
       "1            1    METHODS  A total of @ patients with primary knee OA wer...   \n",
       "2            2    METHODS  Outcome measures included pain reduction and i...   \n",
       "\n",
       "   total_lines  \n",
       "0           11  \n",
       "1           11  \n",
       "2           11  "
      ]
     },
     "execution_count": 9,
     "metadata": {},
     "output_type": "execute_result"
    }
   ],
   "source": [
    "train_df[:3]"
   ]
  },
  {
   "cell_type": "markdown",
   "id": "566404b7-d368-4b42-951c-a8f3a05ed8d1",
   "metadata": {},
   "source": [
    "## One-hot encoding"
   ]
  },
  {
   "cell_type": "code",
   "execution_count": 10,
   "id": "bdeb64d8-9cba-4d9b-9136-217480b8bf9a",
   "metadata": {},
   "outputs": [],
   "source": [
    "# Convert subjects to one-hot encoded lists\n",
    "from sklearn.preprocessing import OneHotEncoder\n",
    "\n",
    "one_hot_encoder = OneHotEncoder(sparse_output=False)\n",
    "\n",
    "train_labels_one_hot = one_hot_encoder.fit_transform(train_df.subject.to_numpy().reshape(-1, 1))\n",
    "val_labels_one_hot = one_hot_encoder.transform(val_df.subject.to_numpy().reshape(-1, 1))\n",
    "test_labels_one_hot = one_hot_encoder.transform(test_df.subject.to_numpy().reshape(-1, 1))"
   ]
  },
  {
   "cell_type": "code",
   "execution_count": 11,
   "id": "f72155bb-1157-44b3-bfe1-256f72bc7334",
   "metadata": {},
   "outputs": [
    {
     "data": {
      "text/plain": [
       "(13.0, 18.0)"
      ]
     },
     "execution_count": 11,
     "metadata": {},
     "output_type": "execute_result"
    }
   ],
   "source": [
    "# average len of the article\n",
    "import numpy as np\n",
    "avg_95_len_line_number = np.percentile(train_df.line_number, 95)\n",
    "avg_95_len_total_lines = np.percentile(train_df.total_lines, 95)\n",
    "avg_95_len_line_number, avg_95_len_total_lines"
   ]
  },
  {
   "cell_type": "code",
   "execution_count": 12,
   "id": "7eaa9297-af2f-4811-bca6-08d841d9f5d0",
   "metadata": {},
   "outputs": [
    {
     "name": "stderr",
     "output_type": "stream",
     "text": [
      "2024-07-01 10:26:11.571270: I external/local_xla/xla/stream_executor/cuda/cuda_executor.cc:901] successful NUMA node read from SysFS had negative value (-1), but there must be at least one NUMA node, so returning NUMA node zero. See more at https://github.com/torvalds/linux/blob/v6.0/Documentation/ABI/testing/sysfs-bus-pci#L344-L355\n",
      "2024-07-01 10:26:11.746532: I external/local_xla/xla/stream_executor/cuda/cuda_executor.cc:901] successful NUMA node read from SysFS had negative value (-1), but there must be at least one NUMA node, so returning NUMA node zero. See more at https://github.com/torvalds/linux/blob/v6.0/Documentation/ABI/testing/sysfs-bus-pci#L344-L355\n",
      "2024-07-01 10:26:11.746803: I external/local_xla/xla/stream_executor/cuda/cuda_executor.cc:901] successful NUMA node read from SysFS had negative value (-1), but there must be at least one NUMA node, so returning NUMA node zero. See more at https://github.com/torvalds/linux/blob/v6.0/Documentation/ABI/testing/sysfs-bus-pci#L344-L355\n",
      "2024-07-01 10:26:11.748361: I external/local_xla/xla/stream_executor/cuda/cuda_executor.cc:901] successful NUMA node read from SysFS had negative value (-1), but there must be at least one NUMA node, so returning NUMA node zero. See more at https://github.com/torvalds/linux/blob/v6.0/Documentation/ABI/testing/sysfs-bus-pci#L344-L355\n",
      "2024-07-01 10:26:11.748652: I external/local_xla/xla/stream_executor/cuda/cuda_executor.cc:901] successful NUMA node read from SysFS had negative value (-1), but there must be at least one NUMA node, so returning NUMA node zero. See more at https://github.com/torvalds/linux/blob/v6.0/Documentation/ABI/testing/sysfs-bus-pci#L344-L355\n",
      "2024-07-01 10:26:11.748808: I external/local_xla/xla/stream_executor/cuda/cuda_executor.cc:901] successful NUMA node read from SysFS had negative value (-1), but there must be at least one NUMA node, so returning NUMA node zero. See more at https://github.com/torvalds/linux/blob/v6.0/Documentation/ABI/testing/sysfs-bus-pci#L344-L355\n",
      "2024-07-01 10:26:11.820979: I external/local_xla/xla/stream_executor/cuda/cuda_executor.cc:901] successful NUMA node read from SysFS had negative value (-1), but there must be at least one NUMA node, so returning NUMA node zero. See more at https://github.com/torvalds/linux/blob/v6.0/Documentation/ABI/testing/sysfs-bus-pci#L344-L355\n",
      "2024-07-01 10:26:11.821129: I external/local_xla/xla/stream_executor/cuda/cuda_executor.cc:901] successful NUMA node read from SysFS had negative value (-1), but there must be at least one NUMA node, so returning NUMA node zero. See more at https://github.com/torvalds/linux/blob/v6.0/Documentation/ABI/testing/sysfs-bus-pci#L344-L355\n",
      "2024-07-01 10:26:11.821237: I external/local_xla/xla/stream_executor/cuda/cuda_executor.cc:901] successful NUMA node read from SysFS had negative value (-1), but there must be at least one NUMA node, so returning NUMA node zero. See more at https://github.com/torvalds/linux/blob/v6.0/Documentation/ABI/testing/sysfs-bus-pci#L344-L355\n",
      "2024-07-01 10:26:11.821316: I tensorflow/core/common_runtime/gpu/gpu_device.cc:1929] Created device /job:localhost/replica:0/task:0/device:GPU:0 with 2784 MB memory:  -> device: 0, name: NVIDIA GeForce GTX 1650 Ti, pci bus id: 0000:01:00.0, compute capability: 7.5\n"
     ]
    }
   ],
   "source": [
    "train_df_line_number = tf.one_hot(train_df.line_number, depth=avg_95_len_line_number)\n",
    "train_df_total_lines = tf.one_hot(train_df.total_lines, depth=avg_95_len_total_lines)\n",
    "\n",
    "val_df_line_number = tf.one_hot(val_df.line_number, depth=avg_95_len_line_number)\n",
    "val_df_total_lines = tf.one_hot(val_df.total_lines, depth=avg_95_len_total_lines)\n",
    "\n",
    "test_df_line_number = tf.one_hot(test_df.line_number, depth=avg_95_len_line_number)\n",
    "test_df_total_lines = tf.one_hot(test_df.total_lines, depth=avg_95_len_total_lines)"
   ]
  },
  {
   "cell_type": "markdown",
   "id": "29a55dc6-8164-429f-9835-b99127a11efb",
   "metadata": {},
   "source": [
    "## Char Vectorization & Embedding"
   ]
  },
  {
   "cell_type": "code",
   "execution_count": 13,
   "id": "d6dc2346-b495-483f-a485-75458cca92cc",
   "metadata": {},
   "outputs": [],
   "source": [
    "train_chars = [\" \".join(list(i)) for i in train_df.text]\n",
    "val_chars = [\" \".join(list(i)) for i in val_df.text]\n",
    "test_chars = [\" \".join(list(i)) for i in test_df.text]"
   ]
  },
  {
   "cell_type": "code",
   "execution_count": 14,
   "id": "db941ddb-444a-49a4-8846-d550de00178d",
   "metadata": {},
   "outputs": [
    {
     "data": {
      "text/plain": [
       "149.3662574983337"
      ]
     },
     "execution_count": 14,
     "metadata": {},
     "output_type": "execute_result"
    }
   ],
   "source": [
    "import numpy as np\n",
    "char_lens = [len(i) for i in train_df.text]\n",
    "np.mean(char_lens)"
   ]
  },
  {
   "cell_type": "code",
   "execution_count": 15,
   "id": "a090a4ea-4b85-46bd-b2d2-09071b2f4094",
   "metadata": {},
   "outputs": [
    {
     "data": {
      "image/png": "[encoded data removed]",
      "text/plain": [
       "<Figure size 640x480 with 1 Axes>"
      ]
     },
     "metadata": {},
     "output_type": "display_data"
    }
   ],
   "source": [
    "import matplotlib.pyplot as plt\n",
    "plt.hist(char_lens, bins=200);"
   ]
  },
  {
   "cell_type": "code",
   "execution_count": 16,
   "id": "75e375bb-9537-4b8b-88a2-279b2de1f5da",
   "metadata": {},
   "outputs": [
    {
     "data": {
      "text/plain": [
       "290.0"
      ]
     },
     "execution_count": 16,
     "metadata": {},
     "output_type": "execute_result"
    }
   ],
   "source": [
    "output_char_len = np.percentile(char_lens, 95)\n",
    "output_char_len"
   ]
  },
  {
   "cell_type": "code",
   "execution_count": 17,
   "id": "3cfc53a9-c8e2-4cd6-b2e9-9e5d916c8274",
   "metadata": {},
   "outputs": [],
   "source": [
    "from keras import layers\n",
    "max_tokens = 28\n",
    "char_vectorizer = layers.TextVectorization(\n",
    "    max_tokens=max_tokens,\n",
    "    output_sequence_length=int(output_char_len),\n",
    "    standardize=\"lower_and_strip_punctuation\"\n",
    ")\n",
    "char_vectorizer.adapt(train_chars)"
   ]
  },
  {
   "cell_type": "code",
   "execution_count": 18,
   "id": "65a2b963-554d-4153-b495-646b86b6bad4",
   "metadata": {},
   "outputs": [
    {
     "name": "stderr",
     "output_type": "stream",
     "text": [
      "2024-07-01 10:26:20.872345: I external/local_tsl/tsl/platform/default/subprocess.cc:304] Start cannot spawn child process: No such file or directory\n"
     ]
    },
    {
     "data": {
      "text/plain": [
       "<tf.Tensor: shape=(1, 290), dtype=int64, numpy=\n",
       "array([[13,  2, 12, 12,  7, 12,  5,  0,  0,  0,  0,  0,  0,  0,  0,  0,\n",
       "         0,  0,  0,  0,  0,  0,  0,  0,  0,  0,  0,  0,  0,  0,  0,  0,\n",
       "         0,  0,  0,  0,  0,  0,  0,  0,  0,  0,  0,  0,  0,  0,  0,  0,\n",
       "         0,  0,  0,  0,  0,  0,  0,  0,  0,  0,  0,  0,  0,  0,  0,  0,\n",
       "         0,  0,  0,  0,  0,  0,  0,  0,  0,  0,  0,  0,  0,  0,  0,  0,\n",
       "         0,  0,  0,  0,  0,  0,  0,  0,  0,  0,  0,  0,  0,  0,  0,  0,\n",
       "         0,  0,  0,  0,  0,  0,  0,  0,  0,  0,  0,  0,  0,  0,  0,  0,\n",
       "         0,  0,  0,  0,  0,  0,  0,  0,  0,  0,  0,  0,  0,  0,  0,  0,\n",
       "         0,  0,  0,  0,  0,  0,  0,  0,  0,  0,  0,  0,  0,  0,  0,  0,\n",
       "         0,  0,  0,  0,  0,  0,  0,  0,  0,  0,  0,  0,  0,  0,  0,  0,\n",
       "         0,  0,  0,  0,  0,  0,  0,  0,  0,  0,  0,  0,  0,  0,  0,  0,\n",
       "         0,  0,  0,  0,  0,  0,  0,  0,  0,  0,  0,  0,  0,  0,  0,  0,\n",
       "         0,  0,  0,  0,  0,  0,  0,  0,  0,  0,  0,  0,  0,  0,  0,  0,\n",
       "         0,  0,  0,  0,  0,  0,  0,  0,  0,  0,  0,  0,  0,  0,  0,  0,\n",
       "         0,  0,  0,  0,  0,  0,  0,  0,  0,  0,  0,  0,  0,  0,  0,  0,\n",
       "         0,  0,  0,  0,  0,  0,  0,  0,  0,  0,  0,  0,  0,  0,  0,  0,\n",
       "         0,  0,  0,  0,  0,  0,  0,  0,  0,  0,  0,  0,  0,  0,  0,  0,\n",
       "         0,  0,  0,  0,  0,  0,  0,  0,  0,  0,  0,  0,  0,  0,  0,  0,\n",
       "         0,  0]])>"
      ]
     },
     "execution_count": 18,
     "metadata": {},
     "output_type": "execute_result"
    }
   ],
   "source": [
    "char_vectorizer([\"H e l l o  L A !\"])"
   ]
  },
  {
   "cell_type": "code",
   "execution_count": 19,
   "id": "939c6edf-ae4d-4069-8766-285ced3aa398",
   "metadata": {},
   "outputs": [],
   "source": [
    "char_embedding = layers.Embedding(\n",
    "    input_dim=max_tokens,\n",
    "    output_dim=25\n",
    ")"
   ]
  },
  {
   "cell_type": "code",
   "execution_count": 20,
   "id": "bfe7338e-d568-4876-8466-b277d6a5914e",
   "metadata": {},
   "outputs": [
    {
     "data": {
      "text/plain": [
       "<tf.Tensor: shape=(1, 290, 25), dtype=float32, numpy=\n",
       "array([[[-0.0490144 , -0.03967799, -0.01455731, ..., -0.03500394,\n",
       "          0.01277624,  0.00066807],\n",
       "        [ 0.04199201, -0.02605927,  0.0358974 , ...,  0.04166627,\n",
       "         -0.03173604,  0.00921617],\n",
       "        [ 0.04863322, -0.02723846,  0.0398985 , ..., -0.00031919,\n",
       "         -0.00546757,  0.0409555 ],\n",
       "        ...,\n",
       "        [ 0.03946539, -0.04021829, -0.01407636, ..., -0.01220665,\n",
       "          0.02276686,  0.0080045 ],\n",
       "        [ 0.03946539, -0.04021829, -0.01407636, ..., -0.01220665,\n",
       "          0.02276686,  0.0080045 ],\n",
       "        [ 0.03946539, -0.04021829, -0.01407636, ..., -0.01220665,\n",
       "          0.02276686,  0.0080045 ]]], dtype=float32)>"
      ]
     },
     "execution_count": 20,
     "metadata": {},
     "output_type": "execute_result"
    }
   ],
   "source": [
    "char_embedding(char_vectorizer([train_chars[0]]))"
   ]
  },
  {
   "cell_type": "code",
   "execution_count": 21,
   "id": "430038d8-1ff6-4442-9729-7f1c9e7c1dbf",
   "metadata": {},
   "outputs": [],
   "source": [
    "import tensorflow_hub as tfhub\n",
    "token_embedding = tfhub.KerasLayer(\n",
    "    \"../USE\",\n",
    "    trainable=False,\n",
    "    input_shape=[],\n",
    "    dtype=tf.string\n",
    ")"
   ]
  },
  {
   "cell_type": "markdown",
   "id": "e1e1d550-088f-4a4d-99fb-fc25a6932e1f",
   "metadata": {},
   "source": [
    "## Label encoding"
   ]
  },
  {
   "cell_type": "code",
   "execution_count": 22,
   "id": "67f8cac0-e486-4659-a2e1-039a87f35b29",
   "metadata": {},
   "outputs": [
    {
     "data": {
      "text/plain": [
       "array([3, 2, 2, ..., 4, 1, 1])"
      ]
     },
     "execution_count": 22,
     "metadata": {},
     "output_type": "execute_result"
    }
   ],
   "source": [
    "from sklearn.preprocessing import LabelEncoder\n",
    "label_encoder = LabelEncoder()\n",
    "train_labels_encoded = label_encoder.fit_transform(train_df.subject)\n",
    "val_labels_encoded = label_encoder.transform(val_df.subject)\n",
    "test_labels_encoded = label_encoder.transform(test_df.subject)\n",
    "train_labels_encoded"
   ]
  },
  {
   "cell_type": "markdown",
   "id": "e86f6c0c-dbd6-4978-b604-426f2a071af2",
   "metadata": {},
   "source": [
    "## Creating Datasets"
   ]
  },
  {
   "cell_type": "code",
   "execution_count": 23,
   "id": "eeaa2a84-2203-4ce1-b63e-a009f7979dc7",
   "metadata": {},
   "outputs": [],
   "source": [
    "# Prepearing datasets for fiiting\n",
    "# Train\n",
    "train_data = tf.data.Dataset.from_tensor_slices((\n",
    "    train_df_line_number, \n",
    "    train_df_total_lines, \n",
    "    train_df.text, \n",
    "    train_chars))\n",
    "train_labels = tf.data.Dataset.from_tensor_slices(train_labels_one_hot)\n",
    "\n",
    "train_dataset = tf.data.Dataset.zip((train_data, train_labels)).batch(32).prefetch(tf.data.AUTOTUNE)\n",
    "\n",
    "# Val\n",
    "val_data = tf.data.Dataset.from_tensor_slices((val_df_line_number, val_df_total_lines, val_df.text, val_chars))\n",
    "val_labels = tf.data.Dataset.from_tensor_slices(val_labels_one_hot)\n",
    "\n",
    "val_dataset = tf.data.Dataset.zip((val_data, val_labels)).batch(32).prefetch(tf.data.AUTOTUNE)\n",
    "\n",
    "# Test\n",
    "test_data = tf.data.Dataset.from_tensor_slices((test_df_line_number, test_df_total_lines, test_df.text, test_chars))\n",
    "test_labels = tf.data.Dataset.from_tensor_slices(test_labels_one_hot)\n",
    "\n",
    "test_dataset = tf.data.Dataset.zip((test_data, test_labels)).batch(32).prefetch(tf.data.AUTOTUNE)"
   ]
  },
  {
   "cell_type": "markdown",
   "id": "aa0a3e69-916f-42f3-a2d8-c2ebd6fe5806",
   "metadata": {},
   "source": [
    "## Create a baseline"
   ]
  },
  {
   "cell_type": "code",
   "execution_count": 41,
   "id": "55623177-1b70-4967-9a24-b1ac626dfcfb",
   "metadata": {},
   "outputs": [],
   "source": [
    "from tensorflow.keras import layers\n",
    "#\n",
    "line_number_input = layers.Input(int(avg_95_len_line_number),)\n",
    "line_number_output = layers.Dense(32, activation=\"relu\")(line_number_input)\n",
    "line_number_model = tf.keras.Model(line_number_input, line_number_output)\n",
    "\n",
    "#\n",
    "total_lines_input = layers.Input(int(avg_95_len_total_lines),)\n",
    "total_lines_output = layers.Dense(32, activation=\"relu\")(total_lines_input)\n",
    "total_lines_model = tf.keras.Model(total_lines_input, total_lines_output)\n",
    "\n",
    "# \n",
    "token_input = layers.Input([], dtype=tf.string)\n",
    "token_embeds = token_embedding(token_input)\n",
    "token_output = layers.Dense(128, activation=\"relu\")(token_embeds)\n",
    "token_model = tf.keras.Model(token_input, token_output)\n",
    "\n",
    "#\n",
    "char_input = layers.Input((1,), dtype=tf.string)\n",
    "char_vectors = char_vectorizer(char_input)\n",
    "char_embeds = char_embedding(char_vectors)\n",
    "char_bi_lstm = layers.Bidirectional(layers.LSTM(32))(char_embeds)\n",
    "char_model = tf.keras.Model(char_input, char_bi_lstm)\n",
    "\n",
    "#\n",
    "char_token_embeddings = layers.Concatenate()([token_model.output, char_model.output])\n",
    "\n",
    "z = layers.Dropout(0.5)(char_token_embeddings)\n",
    "z = layers.Dense(256, activation=\"relu\")(z)\n",
    "z = layers.Dropout(0.5)(z)\n",
    "\n",
    "#\n",
    "z = layers.Concatenate()([line_number_model.output, total_lines_model.output, z])\n",
    "\n",
    "# \n",
    "output_layer = layers.Dense(5, activation=\"softmax\")(z)\n",
    "\n",
    "baseline_model = tf.keras.Model(\n",
    "    [\n",
    "        line_number_model.input,\n",
    "        total_lines_model.input,\n",
    "        token_model.input,\n",
    "        char_model.input\n",
    "    ],\n",
    "    output_layer\n",
    ")"
   ]
  },
  {
   "cell_type": "code",
   "execution_count": 25,
   "id": "061da0ab-3f0b-4d55-9752-c291163516e9",
   "metadata": {},
   "outputs": [
    {
     "data": {
      "image/png": "[encoded data removed]",
      "text/plain": [
       "<IPython.core.display.Image object>"
      ]
     },
     "execution_count": 25,
     "metadata": {},
     "output_type": "execute_result"
    }
   ],
   "source": [
    "tf.keras.utils.plot_model(baseline_model)"
   ]
  },
  {
   "cell_type": "code",
   "execution_count": 26,
   "id": "1d9ab913-7f9b-4cd0-9b3a-ed36415b6b2d",
   "metadata": {},
   "outputs": [
    {
     "name": "stdout",
     "output_type": "stream",
     "text": [
      "Model: \"model_4\"\n",
      "__________________________________________________________________________________________________\n",
      " Layer (type)                Output Shape                 Param #   Connected to                  \n",
      "==================================================================================================\n",
      " input_4 (InputLayer)        [(None, 1)]                  0         []                            \n",
      "                                                                                                  \n",
      " input_3 (InputLayer)        [(None,)]                    0         []                            \n",
      "                                                                                                  \n",
      " text_vectorization (TextVe  (None, 290)                  0         ['input_4[0][0]']             \n",
      " ctorization)                                                                                     \n",
      "                                                                                                  \n",
      " keras_layer (KerasLayer)    (None, 512)                  2567978   ['input_3[0][0]']             \n",
      "                                                          24                                      \n",
      "                                                                                                  \n",
      " embedding (Embedding)       (None, 290, 25)              700       ['text_vectorization[0][0]']  \n",
      "                                                                                                  \n",
      " dense_2 (Dense)             (None, 128)                  65664     ['keras_layer[0][0]']         \n",
      "                                                                                                  \n",
      " bidirectional (Bidirection  (None, 64)                   14848     ['embedding[0][0]']           \n",
      " al)                                                                                              \n",
      "                                                                                                  \n",
      " concatenate (Concatenate)   (None, 192)                  0         ['dense_2[0][0]',             \n",
      "                                                                     'bidirectional[0][0]']       \n",
      "                                                                                                  \n",
      " dropout (Dropout)           (None, 192)                  0         ['concatenate[0][0]']         \n",
      "                                                                                                  \n",
      " input_1 (InputLayer)        [(None, 13)]                 0         []                            \n",
      "                                                                                                  \n",
      " input_2 (InputLayer)        [(None, 18)]                 0         []                            \n",
      "                                                                                                  \n",
      " dense_3 (Dense)             (None, 256)                  49408     ['dropout[0][0]']             \n",
      "                                                                                                  \n",
      " dense (Dense)               (None, 32)                   448       ['input_1[0][0]']             \n",
      "                                                                                                  \n",
      " dense_1 (Dense)             (None, 32)                   608       ['input_2[0][0]']             \n",
      "                                                                                                  \n",
      " dropout_1 (Dropout)         (None, 256)                  0         ['dense_3[0][0]']             \n",
      "                                                                                                  \n",
      " concatenate_1 (Concatenate  (None, 320)                  0         ['dense[0][0]',               \n",
      " )                                                                   'dense_1[0][0]',             \n",
      "                                                                     'dropout_1[0][0]']           \n",
      "                                                                                                  \n",
      " dense_4 (Dense)             (None, 5)                    1605      ['concatenate_1[0][0]']       \n",
      "                                                                                                  \n",
      "==================================================================================================\n",
      "Total params: 256931105 (980.11 MB)\n",
      "Trainable params: 133281 (520.63 KB)\n",
      "Non-trainable params: 256797824 (979.61 MB)\n",
      "__________________________________________________________________________________________________\n"
     ]
    }
   ],
   "source": [
    "baseline_model.summary()"
   ]
  },
  {
   "cell_type": "code",
   "execution_count": 27,
   "id": "3e36a7d9-dd90-402d-be68-17f093b5ba60",
   "metadata": {},
   "outputs": [],
   "source": [
    "baseline_model.compile(\n",
    "    loss=tf.keras.losses.CategoricalCrossentropy(label_smoothing=0.2),\n",
    "    optimizer=tf.keras.optimizers.Adam(),\n",
    "    metrics=[\"accuracy\"]\n",
    ")"
   ]
  },
  {
   "cell_type": "code",
   "execution_count": 27,
   "id": "3fc142f0-37b5-438b-9db6-a2011cd2ecf2",
   "metadata": {},
   "outputs": [
    {
     "name": "stdout",
     "output_type": "stream",
     "text": [
      "Epoch 1/5\n"
     ]
    },
    {
     "name": "stderr",
     "output_type": "stream",
     "text": [
      "2024-06-29 22:41:33.912871: I external/local_xla/xla/stream_executor/cuda/cuda_dnn.cc:454] Loaded cuDNN version 8904\n",
      "2024-06-29 22:41:35.561457: I external/local_xla/xla/service/service.cc:168] XLA service 0x77406c055230 initialized for platform CUDA (this does not guarantee that XLA will be used). Devices:\n",
      "2024-06-29 22:41:35.561483: I external/local_xla/xla/service/service.cc:176]   StreamExecutor device (0): NVIDIA GeForce GTX 1650 Ti, Compute Capability 7.5\n",
      "2024-06-29 22:41:35.575105: I tensorflow/compiler/mlir/tensorflow/utils/dump_mlir_util.cc:269] disabling MLIR crash reproducer, set env var `MLIR_CRASH_REPRODUCER_DIRECTORY` to enable.\n",
      "WARNING: All log messages before absl::InitializeLog() is called are written to STDERR\n",
      "I0000 00:00:1719690095.664476    2443 device_compiler.h:186] Compiled cluster using XLA!  This line is logged at most once for the lifetime of the process.\n"
     ]
    },
    {
     "name": "stdout",
     "output_type": "stream",
     "text": [
      "5627/5627 [==============================] - 91s 15ms/step - loss: 0.9759 - accuracy: 0.8083 - val_loss: 0.9162 - val_accuracy: 0.8421\n",
      "Epoch 2/5\n",
      "5627/5627 [==============================] - 85s 15ms/step - loss: 0.9359 - accuracy: 0.8361 - val_loss: 0.9068 - val_accuracy: 0.8490\n",
      "Epoch 3/5\n",
      "5627/5627 [==============================] - 85s 15ms/step - loss: 0.9276 - accuracy: 0.8418 - val_loss: 0.9037 - val_accuracy: 0.8513\n",
      "Epoch 4/5\n",
      "5627/5627 [==============================] - 85s 15ms/step - loss: 0.9230 - accuracy: 0.8448 - val_loss: 0.9023 - val_accuracy: 0.8527\n",
      "Epoch 5/5\n",
      "5627/5627 [==============================] - 89s 16ms/step - loss: 0.9192 - accuracy: 0.8476 - val_loss: 0.9012 - val_accuracy: 0.8536\n",
      "CPU times: user 13min 43s, sys: 46.1 s, total: 14min 29s\n",
      "Wall time: 7min 13s\n"
     ]
    }
   ],
   "source": [
    "%time baseline_history = baseline_model.fit(train_dataset, epochs=5, validation_data = val_dataset, validation_steps=len(val_dataset))"
   ]
  },
  {
   "cell_type": "code",
   "execution_count": 28,
   "id": "98145c99-7469-4c18-b8e5-9bd2208b8823",
   "metadata": {},
   "outputs": [
    {
     "name": "stdout",
     "output_type": "stream",
     "text": [
      "942/942 [==============================] - 7s 7ms/step\n"
     ]
    },
    {
     "data": {
      "text/plain": [
       "<tf.Tensor: shape=(30135,), dtype=int64, numpy=array([0, 2, 2, ..., 4, 4, 1])>"
      ]
     },
     "execution_count": 28,
     "metadata": {},
     "output_type": "execute_result"
    }
   ],
   "source": [
    "baseline_preds = tf.argmax(baseline_model.predict(test_dataset), axis=1)\n",
    "baseline_preds"
   ]
  },
  {
   "cell_type": "code",
   "execution_count": 24,
   "id": "22c4cf0e-a3fa-4dfc-9401-15f3fddd921a",
   "metadata": {},
   "outputs": [
    {
     "data": {
      "text/plain": [
       "{'accuracy': 84.73203915712627,\n",
       " 'precision': 0.8481699363381078,\n",
       " 'recall': 0.8473203915712626,\n",
       " 'f1': 0.8437079537808914,\n",
       " 'time': 433}"
      ]
     },
     "execution_count": 24,
     "metadata": {},
     "output_type": "execute_result"
    }
   ],
   "source": [
    "from helper_functions import calculate_results\n",
    "# baseline_results = calculate_results(test_labels_encoded, baseline_preds)\n",
    "# baseline_results['time'] = 433\n",
    "baseline_results = {'accuracy': 84.73203915712627,\n",
    " 'precision': 0.8481699363381078,\n",
    " 'recall': 0.8473203915712626,\n",
    " 'f1': 0.8437079537808914,\n",
    " 'time': 433}\n",
    "baseline_results"
   ]
  },
  {
   "cell_type": "markdown",
   "id": "e5988f46-2f24-4a3a-8589-e0ae7d97d8c6",
   "metadata": {},
   "source": [
    "## GloVe Embedding (try not to fit or anything else, hjust first of all - start glove embedding!!)"
   ]
  },
  {
   "cell_type": "code",
   "execution_count": 25,
   "id": "11db660e-0729-40a7-8e8a-186370222d79",
   "metadata": {},
   "outputs": [],
   "source": [
    "# !wget https://downloads.cs.stanford.edu/nlp/data/glove.6B.zip\n",
    "# !unzip -q glove.6B.zip"
   ]
  },
  {
   "cell_type": "code",
   "execution_count": 34,
   "id": "11126631-97e2-475a-ac4b-141ee9a43168",
   "metadata": {},
   "outputs": [],
   "source": [
    "token_vectorizer = layers.TextVectorization(\n",
    "  max_tokens=100_000, # How many words are in vocab\n",
    "  output_sequence_length=50, # how long does sequences will be\n",
    "  pad_to_max_tokens=True\n",
    ")"
   ]
  },
  {
   "cell_type": "code",
   "execution_count": 35,
   "id": "05ddc08c-78a6-4090-ae68-a8eb2347d2c0",
   "metadata": {},
   "outputs": [
    {
     "data": {
      "text/plain": [
       "['', '[UNK]', 'the', 'and', 'of', 'in', 'to', 'with', 'a', 'were']"
      ]
     },
     "execution_count": 35,
     "metadata": {},
     "output_type": "execute_result"
    }
   ],
   "source": [
    "token_vectorizer.adapt(train_df.text)\n",
    "vocab = token_vectorizer.get_vocabulary()\n",
    "vocab[:10]"
   ]
  },
  {
   "cell_type": "code",
   "execution_count": 40,
   "id": "52486869-da16-4e12-a751-65c5e8598cae",
   "metadata": {},
   "outputs": [],
   "source": [
    "# Prepare Glove File\n",
    "def readGloveFile(gloveFile):\n",
    "    with open(gloveFile, 'r') as f:\n",
    "        wordToGlove = {}  # map from a token (word) to a Glove embedding vector\n",
    "        wordToIndex = {}  # map from a token to an index\n",
    "        indexToWord = {}  # map from an index to a token \n",
    "\n",
    "        for line in f:\n",
    "            record = line.strip().split()\n",
    "            token = record[0] # take the token (word) from the text line\n",
    "            wordToGlove[token] = np.array(record[1:], dtype=np.float64) # associate the Glove embedding vector to a that token (word)\n",
    "\n",
    "        tokens = sorted(wordToGlove.keys())\n",
    "        for idx, tok in enumerate(tokens):\n",
    "            kerasIdx = idx + 1  # 0 is reserved for masking in Keras (see above)\n",
    "            wordToIndex[tok] = kerasIdx # associate an index to a token (word)\n",
    "            indexToWord[kerasIdx] = tok # associate a word to a token (word). Note: inverse of dictionary above\n",
    "\n",
    "    return wordToIndex, indexToWord, wordToGlove\n",
    "\n",
    "# Create Pretrained Keras Embedding Layer\n",
    "def createPretrainedEmbeddingLayer(wordToGlove, wordToIndex, isTrainable):\n",
    "    vocabLen = len(wordToIndex) + 1  # adding 1 to account for masking\n",
    "    embDim = next(iter(wordToGlove.values())).shape[0]  # works with any glove dimensions (e.g. 50)\n",
    "\n",
    "    embeddingMatrix = np.zeros((vocabLen, embDim))  # initialize with zeros\n",
    "    for word, index in wordToIndex.items():\n",
    "        embeddingMatrix[index, :] = wordToGlove[word] # create embedding: word index to Glove word embedding\n",
    "\n",
    "    embeddingLayer = tf.keras.layers.Embedding(vocabLen, embDim, weights=[embeddingMatrix], trainable=isTrainable)\n",
    "    return embeddingLayer"
   ]
  },
  {
   "cell_type": "code",
   "execution_count": null,
   "id": "d119fda0-307e-4be5-9e97-e36650aa4b6b",
   "metadata": {},
   "outputs": [],
   "source": [
    "wordToIndex, indexToWord, wordToGlove = readGloveFile(\"GloVe/glove.6B.300d.txt\")\n",
    "pretrainedEmbeddingLayer = createPretrainedEmbeddingLayer(wordToGlove, wordToIndex, False)"
   ]
  },
  {
   "cell_type": "markdown",
   "id": "7db0955d-b403-40e7-97f1-eefd674927d5",
   "metadata": {},
   "source": [
    "### Building a model"
   ]
  },
  {
   "cell_type": "code",
   "execution_count": 29,
   "id": "3ff43a65-299b-44b7-8fda-9bdf4985dfd9",
   "metadata": {},
   "outputs": [],
   "source": [
    "char_embedding = layers.Embedding(\n",
    "    input_dim=max_tokens,\n",
    "    output_dim=25\n",
    ")"
   ]
  },
  {
   "cell_type": "code",
   "execution_count": 30,
   "id": "a6cdf643-eaaa-4da9-a3ab-7ce6adaf6d9b",
   "metadata": {},
   "outputs": [],
   "source": [
    "line_number_input = layers.Input((int(avg_95_len_line_number),))\n",
    "line_number_output = layers.Dense(32, activation='relu')(line_number_input)\n",
    "line_number_model = tf.keras.Model(line_number_input, line_number_output)\n",
    "\n",
    "total_lines_input = layers.Input((int(avg_95_len_total_lines),))\n",
    "total_lines_output = layers.Dense(32, activation=\"relu\")(total_lines_input)\n",
    "total_lines_model = tf.keras.Model(total_lines_input, total_lines_output)\n",
    "\n",
    "token_input = layers.Input([], dtype=tf.string)\n",
    "token_vectors = token_vectorizer(token_input)\n",
    "token_embeds = pretrainedEmbeddingLayer(token_vectors)\n",
    "x = layers.Dense(128, activation=\"relu\")(token_embeds)\n",
    "token_output = layers.GlobalMaxPooling1D()(x)\n",
    "token_model = tf.keras.Model(token_input, token_output)\n",
    "\n",
    "char_input = layers.Input((1,), dtype=tf.string)\n",
    "char_vectors = char_vectorizer(char_input)\n",
    "char_embeds = char_embedding(char_vectors)\n",
    "char_bi_lstm = layers.Bidirectional(layers.LSTM(32))(char_embeds)\n",
    "char_model = tf.keras.Model(char_input, char_bi_lstm)\n",
    "\n",
    "char_token_combined = layers.Concatenate()([token_model.output, char_model.output])\n",
    "\n",
    "z = layers.Dropout(0.5)(char_token_combined)\n",
    "z = layers.Dense(256, activation=\"relu\")(z)\n",
    "z = layers.Dropout(0.5)(z)\n",
    "\n",
    "z = layers.Concatenate()([line_number_model.output, total_lines_model.output, z])\n",
    "\n",
    "\n",
    "output_layer = layers.Dense(5, activation=\"softmax\")(z)\n",
    "\n",
    "glove_model = tf.keras.Model(\n",
    "    [\n",
    "        line_number_model.input,\n",
    "        total_lines_model.input,\n",
    "        token_model.input,\n",
    "        char_model.input\n",
    "    ],\n",
    "    output_layer\n",
    ")"
   ]
  },
  {
   "cell_type": "code",
   "execution_count": 31,
   "id": "6b041b0f-96e0-48e2-a8cb-b3aaeff58f45",
   "metadata": {},
   "outputs": [
    {
     "data": {
      "text/plain": [
       "(<KerasTensor: shape=(None, 128) dtype=float32 (created by layer 'global_max_pooling1d')>,\n",
       " <KerasTensor: shape=(None, 64) dtype=float32 (created by layer 'bidirectional')>)"
      ]
     },
     "execution_count": 31,
     "metadata": {},
     "output_type": "execute_result"
    }
   ],
   "source": [
    "token_model.output, char_model.output"
   ]
  },
  {
   "cell_type": "code",
   "execution_count": 32,
   "id": "c9b9380d-4e72-4771-a232-bf4378dec95d",
   "metadata": {},
   "outputs": [
    {
     "data": {
      "image/png": "[encoded data removed]",
      "text/plain": [
       "<IPython.core.display.Image object>"
      ]
     },
     "execution_count": 32,
     "metadata": {},
     "output_type": "execute_result"
    }
   ],
   "source": [
    "tf.keras.utils.plot_model(glove_model)"
   ]
  },
  {
   "cell_type": "code",
   "execution_count": 33,
   "id": "7c1a906b-3c8f-4924-9208-e5938319ffe8",
   "metadata": {},
   "outputs": [
    {
     "name": "stdout",
     "output_type": "stream",
     "text": [
      "Model: \"model_4\"\n",
      "__________________________________________________________________________________________________\n",
      " Layer (type)                Output Shape                 Param #   Connected to                  \n",
      "==================================================================================================\n",
      " input_3 (InputLayer)        [(None,)]                    0         []                            \n",
      "                                                                                                  \n",
      " text_vectorization_1 (Text  (None, 50)                   0         ['input_3[0][0]']             \n",
      " Vectorization)                                                                                   \n",
      "                                                                                                  \n",
      " input_4 (InputLayer)        [(None, 1)]                  0         []                            \n",
      "                                                                                                  \n",
      " embedding_1 (Embedding)     (None, 50, 300)              1200003   ['text_vectorization_1[0][0]']\n",
      "                                                          00                                      \n",
      "                                                                                                  \n",
      " text_vectorization (TextVe  (None, 290)                  0         ['input_4[0][0]']             \n",
      " ctorization)                                                                                     \n",
      "                                                                                                  \n",
      " dense_2 (Dense)             (None, 50, 128)              38528     ['embedding_1[0][0]']         \n",
      "                                                                                                  \n",
      " embedding_2 (Embedding)     (None, 290, 25)              700       ['text_vectorization[0][0]']  \n",
      "                                                                                                  \n",
      " global_max_pooling1d (Glob  (None, 128)                  0         ['dense_2[0][0]']             \n",
      " alMaxPooling1D)                                                                                  \n",
      "                                                                                                  \n",
      " bidirectional (Bidirection  (None, 64)                   14848     ['embedding_2[0][0]']         \n",
      " al)                                                                                              \n",
      "                                                                                                  \n",
      " concatenate (Concatenate)   (None, 192)                  0         ['global_max_pooling1d[0][0]',\n",
      "                                                                     'bidirectional[0][0]']       \n",
      "                                                                                                  \n",
      " dropout (Dropout)           (None, 192)                  0         ['concatenate[0][0]']         \n",
      "                                                                                                  \n",
      " input_1 (InputLayer)        [(None, 13)]                 0         []                            \n",
      "                                                                                                  \n",
      " input_2 (InputLayer)        [(None, 18)]                 0         []                            \n",
      "                                                                                                  \n",
      " dense_3 (Dense)             (None, 256)                  49408     ['dropout[0][0]']             \n",
      "                                                                                                  \n",
      " dense (Dense)               (None, 32)                   448       ['input_1[0][0]']             \n",
      "                                                                                                  \n",
      " dense_1 (Dense)             (None, 32)                   608       ['input_2[0][0]']             \n",
      "                                                                                                  \n",
      " dropout_1 (Dropout)         (None, 256)                  0         ['dense_3[0][0]']             \n",
      "                                                                                                  \n",
      " concatenate_1 (Concatenate  (None, 320)                  0         ['dense[0][0]',               \n",
      " )                                                                   'dense_1[0][0]',             \n",
      "                                                                     'dropout_1[0][0]']           \n",
      "                                                                                                  \n",
      " dense_4 (Dense)             (None, 5)                    1605      ['concatenate_1[0][0]']       \n",
      "                                                                                                  \n",
      "==================================================================================================\n",
      "Total params: 120106445 (458.17 MB)\n",
      "Trainable params: 106145 (414.63 KB)\n",
      "Non-trainable params: 120000300 (457.76 MB)\n",
      "__________________________________________________________________________________________________\n"
     ]
    }
   ],
   "source": [
    "glove_model.summary()"
   ]
  },
  {
   "cell_type": "code",
   "execution_count": 36,
   "id": "c67392aa-8c11-41ae-980f-4150a981b885",
   "metadata": {},
   "outputs": [],
   "source": [
    "glove_model.compile(\n",
    "    optimizer=\"Adam\",\n",
    "    loss=tf.keras.losses.CategoricalCrossentropy(label_smoothing=0.2),\n",
    "    metrics=[\"accuracy\"]\n",
    ")"
   ]
  },
  {
   "cell_type": "code",
   "execution_count": null,
   "id": "c119e050-9f32-4f9c-8661-beb7505eec82",
   "metadata": {},
   "outputs": [
    {
     "name": "stdout",
     "output_type": "stream",
     "text": [
      "Epoch 1/5\n"
     ]
    },
    {
     "name": "stderr",
     "output_type": "stream",
     "text": [
      "2024-07-01 00:10:55.379276: I external/local_xla/xla/stream_executor/cuda/cuda_dnn.cc:454] Loaded cuDNN version 8904\n",
      "2024-07-01 00:10:56.046755: I external/local_xla/xla/service/service.cc:168] XLA service 0x7fe96017d8b0 initialized for platform CUDA (this does not guarantee that XLA will be used). Devices:\n",
      "2024-07-01 00:10:56.046785: I external/local_xla/xla/service/service.cc:176]   StreamExecutor device (0): NVIDIA GeForce GTX 1650 Ti, Compute Capability 7.5\n",
      "2024-07-01 00:10:56.059391: I tensorflow/compiler/mlir/tensorflow/utils/dump_mlir_util.cc:269] disabling MLIR crash reproducer, set env var `MLIR_CRASH_REPRODUCER_DIRECTORY` to enable.\n",
      "WARNING: All log messages before absl::InitializeLog() is called are written to STDERR\n",
      "I0000 00:00:1719781856.165244    2155 device_compiler.h:186] Compiled cluster using XLA!  This line is logged at most once for the lifetime of the process.\n"
     ]
    },
    {
     "name": "stdout",
     "output_type": "stream",
     "text": [
      "5627/5627 [==============================] - 199s 35ms/step - loss: 1.0291 - accuracy: 0.7706 - val_loss: 0.9369 - val_accuracy: 0.8447\n",
      "Epoch 2/5\n",
      "5627/5627 [==============================] - 198s 35ms/step - loss: 0.9616 - accuracy: 0.8240 - val_loss: 0.9205 - val_accuracy: 0.8559\n",
      "Epoch 3/5\n",
      "4528/5627 [=======================>......] - ETA: 37s - loss: 0.9534 - accuracy: 0.8295"
     ]
    }
   ],
   "source": [
    "%time glove_history = glove_model.fit(train_dataset, epochs=5, validation_data = val_dataset, validation_steps=len(val_dataset))"
   ]
  },
  {
   "cell_type": "code",
   "execution_count": 56,
   "id": "e1a1f692-8094-4062-b0ea-838cf8d68e3b",
   "metadata": {},
   "outputs": [
    {
     "name": "stdout",
     "output_type": "stream",
     "text": [
      "942/942 [==============================] - 12s 12ms/step\n"
     ]
    },
    {
     "data": {
      "text/plain": [
       "<tf.Tensor: shape=(30135,), dtype=int64, numpy=array([3, 2, 2, ..., 4, 4, 1])>"
      ]
     },
     "execution_count": 56,
     "metadata": {},
     "output_type": "execute_result"
    }
   ],
   "source": [
    "glove_preds = tf.argmax(glove_model.predict(test_dataset), axis=1)\n",
    "glove_preds"
   ]
  },
  {
   "cell_type": "code",
   "execution_count": 25,
   "id": "0e447e02-931e-410d-a3ce-20231a682dc1",
   "metadata": {},
   "outputs": [
    {
     "data": {
      "text/plain": [
       "{'accuracy': 85.1866600298656,\n",
       " 'precision': 0.8517346677444203,\n",
       " 'recall': 0.851866600298656,\n",
       " 'f1': 0.8475873970647593,\n",
       " 'time': 938}"
      ]
     },
     "execution_count": 25,
     "metadata": {},
     "output_type": "execute_result"
    }
   ],
   "source": [
    "# glove_results = calculate_results(test_labels_encoded, glove_preds)\n",
    "# glove_results[\"time\"] = 15*60 + 38\n",
    "glove_results ={'accuracy': 85.1866600298656,\n",
    " 'precision': 0.8517346677444203,\n",
    " 'recall': 0.851866600298656,\n",
    " 'f1': 0.8475873970647593,\n",
    " 'time': 938}\n",
    "glove_results"
   ]
  },
  {
   "cell_type": "markdown",
   "id": "b2efec08-0207-4937-9a1c-9c6646dcda08",
   "metadata": {},
   "source": [
    "## Change to SGD"
   ]
  },
  {
   "cell_type": "code",
   "execution_count": 26,
   "id": "304548d7-9edc-4702-99ab-e2f9a527538a",
   "metadata": {},
   "outputs": [],
   "source": [
    "from tensorflow.keras import layers\n",
    "#\n",
    "line_number_input = layers.Input(int(avg_95_len_line_number),)\n",
    "line_number_output = layers.Dense(32, activation=\"relu\")(line_number_input)\n",
    "line_number_model = tf.keras.Model(line_number_input, line_number_output)\n",
    "\n",
    "#\n",
    "total_lines_input = layers.Input(int(avg_95_len_total_lines),)\n",
    "total_lines_output = layers.Dense(32, activation=\"relu\")(total_lines_input)\n",
    "total_lines_model = tf.keras.Model(total_lines_input, total_lines_output)\n",
    "\n",
    "# \n",
    "token_input = layers.Input([], dtype=tf.string)\n",
    "token_embeds = token_embedding(token_input)\n",
    "token_output = layers.Dense(128, activation=\"relu\")(token_embeds)\n",
    "token_model = tf.keras.Model(token_input, token_output)\n",
    "\n",
    "#\n",
    "char_input = layers.Input((1,), dtype=tf.string)\n",
    "char_vectors = char_vectorizer(char_input)\n",
    "char_embeds = char_embedding(char_vectors)\n",
    "char_bi_lstm = layers.Bidirectional(layers.LSTM(32))(char_embeds)\n",
    "char_model = tf.keras.Model(char_input, char_bi_lstm)\n",
    "\n",
    "#\n",
    "char_token_embeddings = layers.Concatenate()([token_model.output, char_model.output])\n",
    "\n",
    "z = layers.Dropout(0.5)(char_token_embeddings)\n",
    "z = layers.Dense(256, activation=\"relu\")(z)\n",
    "z = layers.Dropout(0.5)(z)\n",
    "\n",
    "#\n",
    "z = layers.Concatenate()([line_number_model.output, total_lines_model.output, z])\n",
    "\n",
    "# \n",
    "output_layer = layers.Dense(5, activation=\"softmax\")(z)\n",
    "\n",
    "sgd_model = tf.keras.Model(\n",
    "    [\n",
    "        line_number_model.input,\n",
    "        total_lines_model.input,\n",
    "        token_model.input,\n",
    "        char_model.input\n",
    "    ],\n",
    "    output_layer\n",
    ")"
   ]
  },
  {
   "cell_type": "code",
   "execution_count": 27,
   "id": "f386b6c9-3e45-4044-832b-146cfa1847d9",
   "metadata": {},
   "outputs": [
    {
     "data": {
      "text/plain": [
       "<keras.src.engine.functional.Functional at 0x7d9517a1da50>"
      ]
     },
     "execution_count": 27,
     "metadata": {},
     "output_type": "execute_result"
    }
   ],
   "source": [
    "sgd_model"
   ]
  },
  {
   "cell_type": "code",
   "execution_count": 28,
   "id": "5f9a8031-6809-471f-84cf-d6d9bea63331",
   "metadata": {},
   "outputs": [],
   "source": [
    "sgd_model.compile(\n",
    "    optimizer=tf.keras.optimizers.SGD(),\n",
    "    loss=tf.keras.losses.CategoricalCrossentropy(label_smoothing=0.2),\n",
    "    metrics=[\"accuracy\"]\n",
    ")"
   ]
  },
  {
   "cell_type": "code",
   "execution_count": 29,
   "id": "69d31acd-2731-41ac-ad59-ffce65541e77",
   "metadata": {},
   "outputs": [
    {
     "name": "stdout",
     "output_type": "stream",
     "text": [
      "Epoch 1/5\n"
     ]
    },
    {
     "name": "stderr",
     "output_type": "stream",
     "text": [
      "2024-07-01 10:26:32.497977: I external/local_xla/xla/stream_executor/cuda/cuda_dnn.cc:454] Loaded cuDNN version 8904\n",
      "2024-07-01 10:26:34.442788: I external/local_xla/xla/service/service.cc:168] XLA service 0x7d94d8d6bea0 initialized for platform CUDA (this does not guarantee that XLA will be used). Devices:\n",
      "2024-07-01 10:26:34.442814: I external/local_xla/xla/service/service.cc:176]   StreamExecutor device (0): NVIDIA GeForce GTX 1650 Ti, Compute Capability 7.5\n",
      "WARNING: All log messages before absl::InitializeLog() is called are written to STDERR\n",
      "I0000 00:00:1719818794.504832    2064 device_compiler.h:186] Compiled cluster using XLA!  This line is logged at most once for the lifetime of the process.\n"
     ]
    },
    {
     "name": "stdout",
     "output_type": "stream",
     "text": [
      "5627/5627 [==============================] - 106s 18ms/step - loss: 1.2911 - accuracy: 0.5659 - val_loss: 1.0826 - val_accuracy: 0.7193\n",
      "Epoch 2/5\n",
      "5627/5627 [==============================] - 96s 17ms/step - loss: 1.0770 - accuracy: 0.7254 - val_loss: 1.0199 - val_accuracy: 0.7672\n",
      "Epoch 3/5\n",
      "5627/5627 [==============================] - 99s 18ms/step - loss: 1.0402 - accuracy: 0.7553 - val_loss: 0.9984 - val_accuracy: 0.7854\n",
      "Epoch 4/5\n",
      "5627/5627 [==============================] - 106s 19ms/step - loss: 1.0199 - accuracy: 0.7713 - val_loss: 0.9822 - val_accuracy: 0.7980\n",
      "Epoch 5/5\n",
      "5627/5627 [==============================] - 103s 18ms/step - loss: 1.0045 - accuracy: 0.7844 - val_loss: 0.9704 - val_accuracy: 0.8084\n",
      "CPU times: user 15min 46s, sys: 53.5 s, total: 16min 39s\n",
      "Wall time: 8min 30s\n"
     ]
    }
   ],
   "source": [
    "%time sgd_history = sgd_model.fit(train_dataset, epochs=5, validation_data = val_dataset, validation_steps=len(val_dataset))"
   ]
  },
  {
   "cell_type": "code",
   "execution_count": 30,
   "id": "6c99cae7-19f8-4f2d-96b3-2badac8ace26",
   "metadata": {},
   "outputs": [
    {
     "name": "stdout",
     "output_type": "stream",
     "text": [
      "942/942 [==============================] - 11s 10ms/step\n"
     ]
    },
    {
     "data": {
      "text/plain": [
       "<tf.Tensor: shape=(30135,), dtype=int64, numpy=array([3, 3, 2, ..., 4, 4, 1])>"
      ]
     },
     "execution_count": 30,
     "metadata": {},
     "output_type": "execute_result"
    }
   ],
   "source": [
    "sgd_preds = tf.argmax(sgd_model.predict(test_dataset), axis=1)\n",
    "sgd_preds"
   ]
  },
  {
   "cell_type": "code",
   "execution_count": 32,
   "id": "eea2556e-cb2c-48ea-adc9-1030bb06956b",
   "metadata": {},
   "outputs": [
    {
     "data": {
      "text/plain": [
       "{'accuracy': 80.71345611415298,\n",
       " 'precision': 0.8054486718562726,\n",
       " 'recall': 0.8071345611415298,\n",
       " 'f1': 0.8026619304947755,\n",
       " 'time': 510}"
      ]
     },
     "execution_count": 32,
     "metadata": {},
     "output_type": "execute_result"
    }
   ],
   "source": [
    "# sgd_results = calculate_results(test_labels_encoded, sgd_preds)\n",
    "# sgd_results[\"time\"] = 8*60 + 30\n",
    "sgd_results = {'accuracy': 80.71345611415298,\n",
    " 'precision': 0.8054486718562726,\n",
    " 'recall': 0.8071345611415298,\n",
    " 'f1': 0.8026619304947755,\n",
    " 'time': 510}\n",
    "sgd_results"
   ]
  },
  {
   "cell_type": "markdown",
   "id": "cf9a8937-3d88-4b19-93f6-2cb9934f8e67",
   "metadata": {},
   "source": [
    "## 1:1 model"
   ]
  },
  {
   "cell_type": "code",
   "execution_count": 41,
   "id": "2c704969-1f80-4b53-bc82-3ea553c32580",
   "metadata": {},
   "outputs": [],
   "source": [
    "wordToIndex, indexToWord, wordToGlove = readGloveFile(\"GloVe/glove.6B.300d.txt\")\n",
    "pretrainedEmbeddingLayer = createPretrainedEmbeddingLayer(wordToGlove, wordToIndex, True)"
   ]
  },
  {
   "cell_type": "code",
   "execution_count": 76,
   "id": "775e2cc2-e596-4a0e-9282-2f1fde36eca5",
   "metadata": {},
   "outputs": [],
   "source": [
    "line_number_input = layers.Input((int(avg_95_len_line_number),))\n",
    "line_number_output = layers.Dense(32, activation='relu')(line_number_input)\n",
    "line_number_model = tf.keras.Model(line_number_input, line_number_output)\n",
    "\n",
    "total_lines_input = layers.Input((int(avg_95_len_total_lines),))\n",
    "total_lines_output = layers.Dense(32, activation=\"relu\")(total_lines_input)\n",
    "total_lines_model = tf.keras.Model(total_lines_input, total_lines_output)\n",
    "\n",
    "token_input = layers.Input([], dtype=tf.string)\n",
    "token_vectors = token_vectorizer(token_input)\n",
    "token_embeds = pretrainedEmbeddingLayer(token_vectors)\n",
    "token_output = layers.GlobalMaxPooling1D()(token_embeds)\n",
    "token_model = tf.keras.Model(token_input, token_output)\n",
    "\n",
    "char_input = layers.Input((1,), dtype=tf.string)\n",
    "char_vectors = char_vectorizer(char_input)\n",
    "char_embeds = char_embedding(char_vectors)\n",
    "char_bi_lstm = layers.Bidirectional(layers.LSTM(25))(char_embeds)\n",
    "char_model = tf.keras.Model(char_input, char_bi_lstm)\n",
    "\n",
    "char_token_combined = layers.Concatenate()([token_model.output, char_model.output])\n",
    "\n",
    "y = layers.Reshape((1, 350))(char_token_combined)\n",
    "z = layers.Bidirectional(layers.LSTM(100))(y)\n",
    "\n",
    "z = layers.Dropout(0.5)(z)\n",
    "z = layers.Concatenate()([line_number_model.output, total_lines_model.output, z])\n",
    "z = layers.Dropout(0.5)(z)\n",
    "\n",
    "output_layer = layers.Dense(5, activation=\"softmax\")(z)\n",
    "\n",
    "paper_model = tf.keras.Model(\n",
    "    [\n",
    "        line_number_model.input,\n",
    "        total_lines_model.input,\n",
    "        token_model.input,\n",
    "        char_model.input\n",
    "    ],\n",
    "    output_layer\n",
    ")"
   ]
  },
  {
   "cell_type": "code",
   "execution_count": 78,
   "id": "896e3242-a9f3-42e3-8f86-cf4ecf801c32",
   "metadata": {},
   "outputs": [],
   "source": [
    "paper_model.compile(\n",
    "    optimizer=tf.keras.optimizers.SGD(),\n",
    "    loss=tf.keras.losses.CategoricalCrossentropy(label_smoothing=0.2),\n",
    "    metrics=[\"accuracy\"]\n",
    ")"
   ]
  },
  {
   "cell_type": "markdown",
   "id": "4af0f427-ce25-4c07-8aaf-39ae24dfa563",
   "metadata": {},
   "source": [
    "### Load callbacks"
   ]
  },
  {
   "cell_type": "code",
   "execution_count": null,
   "id": "c6d024bf-7896-4a61-b3dc-babd18767fc4",
   "metadata": {},
   "outputs": [],
   "source": [
    "from helper_functions import create_tensorboard_callback\n",
    "\n",
    "early_stopping = tf.ke"
   ]
  },
  {
   "cell_type": "code",
   "execution_count": null,
   "id": "436a3ce8-a729-4745-9d79-70837ef638e1",
   "metadata": {},
   "outputs": [],
   "source": [
    "%time sgd_history = sgd_model.fit(train_dataset, epochs=5, validation_data = val_dataset, validation_steps=len(val_dataset))"
   ]
  }
 ],
 "metadata": {
  "kernelspec": {
   "display_name": "Python 3 (ipykernel)",
   "language": "python",
   "name": "python3"
  },
  "language_info": {
   "codemirror_mode": {
    "name": "ipython",
    "version": 3
   },
   "file_extension": ".py",
   "mimetype": "text/x-python",
   "name": "python",
   "nbconvert_exporter": "python",
   "pygments_lexer": "ipython3",
   "version": "3.11.5"
  }
 },
 "nbformat": 4,
 "nbformat_minor": 5
}
